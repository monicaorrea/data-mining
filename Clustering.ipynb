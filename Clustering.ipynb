{
 "cells": [
  {
   "cell_type": "markdown",
   "id": "4b85d2e4",
   "metadata": {},
   "source": [
    "# Elecciones España (Clustering)\n",
    "\n",
    "El conjunto de datos DatosEleccionesEspaña.xlsx contiene información demográfica\n",
    "sobre los distintos municipios de España junto con los resultados que se obtuvieron\n",
    "en un proceso electoral. En esta práctica, el objetivo fundamental es crear grupos de\n",
    "comunidades autónomas en función de ciertas características previamente\n",
    "seleccionadas."
   ]
  },
  {
   "cell_type": "code",
   "execution_count": 1,
   "id": "02b894e4",
   "metadata": {},
   "outputs": [
    {
     "name": "stdout",
     "output_type": "stream",
     "text": [
      "Requirement already satisfied: absl-py==1.4.0 in c:\\users\\monic\\appdata\\local\\programs\\python\\python310\\lib\\site-packages (from -r requirements.txt (line 1)) (1.4.0)\n",
      "Requirement already satisfied: annotated-types==0.5.0 in c:\\users\\monic\\appdata\\local\\programs\\python\\python310\\lib\\site-packages (from -r requirements.txt (line 2)) (0.5.0)\n",
      "Requirement already satisfied: anyio==3.7.1 in c:\\users\\monic\\appdata\\local\\programs\\python\\python310\\lib\\site-packages (from -r requirements.txt (line 3)) (3.7.1)\n",
      "Requirement already satisfied: astunparse==1.6.3 in c:\\users\\monic\\appdata\\local\\programs\\python\\python310\\lib\\site-packages (from -r requirements.txt (line 4)) (1.6.3)\n",
      "Requirement already satisfied: cachetools==5.3.1 in c:\\users\\monic\\appdata\\local\\programs\\python\\python310\\lib\\site-packages (from -r requirements.txt (line 5)) (5.3.1)\n",
      "Requirement already satisfied: certifi==2022.9.24 in c:\\users\\monic\\appdata\\roaming\\python\\python310\\site-packages (from -r requirements.txt (line 6)) (2022.9.24)\n",
      "Requirement already satisfied: charset-normalizer==2.1.1 in c:\\users\\monic\\appdata\\roaming\\python\\python310\\site-packages (from -r requirements.txt (line 7)) (2.1.1)\n",
      "Requirement already satisfied: click==8.1.3 in c:\\users\\monic\\appdata\\roaming\\python\\python310\\site-packages (from -r requirements.txt (line 8)) (8.1.3)\n",
      "Requirement already satisfied: colorama==0.4.6 in c:\\users\\monic\\appdata\\roaming\\python\\python310\\site-packages (from -r requirements.txt (line 9)) (0.4.6)\n",
      "Requirement already satisfied: contourpy==1.0.6 in c:\\users\\monic\\appdata\\local\\programs\\python\\python310\\lib\\site-packages (from -r requirements.txt (line 10)) (1.0.6)\n",
      "Requirement already satisfied: cycler==0.11.0 in c:\\users\\monic\\appdata\\local\\programs\\python\\python310\\lib\\site-packages (from -r requirements.txt (line 11)) (0.11.0)\n",
      "Requirement already satisfied: dnspython==2.2.1 in c:\\users\\monic\\appdata\\roaming\\python\\python310\\site-packages (from -r requirements.txt (line 12)) (2.2.1)\n",
      "Requirement already satisfied: exceptiongroup==1.1.3 in c:\\users\\monic\\appdata\\local\\programs\\python\\python310\\lib\\site-packages (from -r requirements.txt (line 13)) (1.1.3)\n",
      "Requirement already satisfied: fastapi==0.103.1 in c:\\users\\monic\\appdata\\local\\programs\\python\\python310\\lib\\site-packages (from -r requirements.txt (line 14)) (0.103.1)\n",
      "Requirement already satisfied: Flask==2.2.2 in c:\\users\\monic\\appdata\\roaming\\python\\python310\\site-packages (from -r requirements.txt (line 15)) (2.2.2)\n",
      "Requirement already satisfied: flatbuffers==23.5.26 in c:\\users\\monic\\appdata\\local\\programs\\python\\python310\\lib\\site-packages (from -r requirements.txt (line 16)) (23.5.26)\n",
      "Requirement already satisfied: fonttools==4.38.0 in c:\\users\\monic\\appdata\\local\\programs\\python\\python310\\lib\\site-packages (from -r requirements.txt (line 17)) (4.38.0)\n",
      "Requirement already satisfied: gast==0.4.0 in c:\\users\\monic\\appdata\\local\\programs\\python\\python310\\lib\\site-packages (from -r requirements.txt (line 18)) (0.4.0)\n",
      "Requirement already satisfied: google-auth==2.23.0 in c:\\users\\monic\\appdata\\local\\programs\\python\\python310\\lib\\site-packages (from -r requirements.txt (line 19)) (2.23.0)\n",
      "Requirement already satisfied: google-auth-oauthlib==1.0.0 in c:\\users\\monic\\appdata\\local\\programs\\python\\python310\\lib\\site-packages (from -r requirements.txt (line 20)) (1.0.0)\n",
      "Requirement already satisfied: google-pasta==0.2.0 in c:\\users\\monic\\appdata\\local\\programs\\python\\python310\\lib\\site-packages (from -r requirements.txt (line 21)) (0.2.0)\n",
      "Requirement already satisfied: grpcio==1.58.0 in c:\\users\\monic\\appdata\\local\\programs\\python\\python310\\lib\\site-packages (from -r requirements.txt (line 22)) (1.58.0)\n",
      "Requirement already satisfied: gunicorn==20.1.0 in c:\\users\\monic\\appdata\\roaming\\python\\python310\\site-packages (from -r requirements.txt (line 23)) (20.1.0)\n",
      "Requirement already satisfied: h11==0.14.0 in c:\\users\\monic\\appdata\\local\\programs\\python\\python310\\lib\\site-packages (from -r requirements.txt (line 24)) (0.14.0)\n",
      "Requirement already satisfied: h5py==3.9.0 in c:\\users\\monic\\appdata\\local\\programs\\python\\python310\\lib\\site-packages (from -r requirements.txt (line 25)) (3.9.0)\n",
      "Requirement already satisfied: idna==3.4 in c:\\users\\monic\\appdata\\roaming\\python\\python310\\site-packages (from -r requirements.txt (line 26)) (3.4)\n",
      "Requirement already satisfied: itsdangerous==2.1.2 in c:\\users\\monic\\appdata\\roaming\\python\\python310\\site-packages (from -r requirements.txt (line 27)) (2.1.2)\n",
      "Requirement already satisfied: Jinja2==3.1.2 in c:\\users\\monic\\appdata\\roaming\\python\\python310\\site-packages (from -r requirements.txt (line 28)) (3.1.2)\n",
      "Requirement already satisfied: joblib==1.3.2 in c:\\users\\monic\\appdata\\local\\programs\\python\\python310\\lib\\site-packages (from -r requirements.txt (line 29)) (1.3.2)\n",
      "Requirement already satisfied: keras==2.13.1 in c:\\users\\monic\\appdata\\local\\programs\\python\\python310\\lib\\site-packages (from -r requirements.txt (line 30)) (2.13.1)\n",
      "Requirement already satisfied: kiwisolver==1.4.4 in c:\\users\\monic\\appdata\\local\\programs\\python\\python310\\lib\\site-packages (from -r requirements.txt (line 31)) (1.4.4)\n",
      "Requirement already satisfied: libclang==16.0.6 in c:\\users\\monic\\appdata\\local\\programs\\python\\python310\\lib\\site-packages (from -r requirements.txt (line 32)) (16.0.6)\n",
      "Requirement already satisfied: Markdown==3.4.4 in c:\\users\\monic\\appdata\\local\\programs\\python\\python310\\lib\\site-packages (from -r requirements.txt (line 33)) (3.4.4)\n",
      "Requirement already satisfied: MarkupSafe==2.1.1 in c:\\users\\monic\\appdata\\roaming\\python\\python310\\site-packages (from -r requirements.txt (line 34)) (2.1.1)\n",
      "Requirement already satisfied: matplotlib==3.6.2 in c:\\users\\monic\\appdata\\local\\programs\\python\\python310\\lib\\site-packages (from -r requirements.txt (line 35)) (3.6.2)\n",
      "Requirement already satisfied: numpy==1.23.4 in c:\\users\\monic\\appdata\\local\\programs\\python\\python310\\lib\\site-packages (from -r requirements.txt (line 36)) (1.23.4)\n",
      "Requirement already satisfied: oauthlib==3.2.2 in c:\\users\\monic\\appdata\\local\\programs\\python\\python310\\lib\\site-packages (from -r requirements.txt (line 37)) (3.2.2)\n",
      "Requirement already satisfied: opt-einsum==3.3.0 in c:\\users\\monic\\appdata\\local\\programs\\python\\python310\\lib\\site-packages (from -r requirements.txt (line 38)) (3.3.0)\n",
      "Requirement already satisfied: packaging==21.3 in c:\\users\\monic\\appdata\\local\\programs\\python\\python310\\lib\\site-packages (from -r requirements.txt (line 39)) (21.3)\n",
      "Requirement already satisfied: pandas==1.5.1 in c:\\users\\monic\\appdata\\local\\programs\\python\\python310\\lib\\site-packages (from -r requirements.txt (line 40)) (1.5.1)\n",
      "Requirement already satisfied: Pillow==9.3.0 in c:\\users\\monic\\appdata\\local\\programs\\python\\python310\\lib\\site-packages (from -r requirements.txt (line 41)) (9.3.0)\n",
      "Requirement already satisfied: protobuf==4.24.3 in c:\\users\\monic\\appdata\\local\\programs\\python\\python310\\lib\\site-packages (from -r requirements.txt (line 42)) (4.24.3)\n",
      "Requirement already satisfied: pyasn1==0.5.0 in c:\\users\\monic\\appdata\\local\\programs\\python\\python310\\lib\\site-packages (from -r requirements.txt (line 43)) (0.5.0)\n",
      "Requirement already satisfied: pyasn1-modules==0.3.0 in c:\\users\\monic\\appdata\\local\\programs\\python\\python310\\lib\\site-packages (from -r requirements.txt (line 44)) (0.3.0)\n",
      "Requirement already satisfied: pydantic==2.3.0 in c:\\users\\monic\\appdata\\local\\programs\\python\\python310\\lib\\site-packages (from -r requirements.txt (line 45)) (2.3.0)\n",
      "Requirement already satisfied: pydantic_core==2.6.3 in c:\\users\\monic\\appdata\\local\\programs\\python\\python310\\lib\\site-packages (from -r requirements.txt (line 46)) (2.6.3)\n",
      "Requirement already satisfied: pymongo==4.3.2 in c:\\users\\monic\\appdata\\roaming\\python\\python310\\site-packages (from -r requirements.txt (line 47)) (4.3.2)\n",
      "Requirement already satisfied: pyodbc==4.0.34 in c:\\users\\monic\\appdata\\roaming\\python\\python310\\site-packages (from -r requirements.txt (line 48)) (4.0.34)\n",
      "Requirement already satisfied: pyparsing==3.0.9 in c:\\users\\monic\\appdata\\local\\programs\\python\\python310\\lib\\site-packages (from -r requirements.txt (line 49)) (3.0.9)\n",
      "Requirement already satisfied: python-dateutil==2.8.2 in c:\\users\\monic\\appdata\\local\\programs\\python\\python310\\lib\\site-packages (from -r requirements.txt (line 50)) (2.8.2)\n",
      "Requirement already satisfied: pytz==2022.6 in c:\\users\\monic\\appdata\\local\\programs\\python\\python310\\lib\\site-packages (from -r requirements.txt (line 51)) (2022.6)\n",
      "Requirement already satisfied: requests==2.28.1 in c:\\users\\monic\\appdata\\roaming\\python\\python310\\site-packages (from -r requirements.txt (line 52)) (2.28.1)\n",
      "Requirement already satisfied: requests-oauthlib==1.3.1 in c:\\users\\monic\\appdata\\local\\programs\\python\\python310\\lib\\site-packages (from -r requirements.txt (line 53)) (1.3.1)\n",
      "Requirement already satisfied: rsa==4.9 in c:\\users\\monic\\appdata\\local\\programs\\python\\python310\\lib\\site-packages (from -r requirements.txt (line 54)) (4.9)\n",
      "Requirement already satisfied: scikit-learn==1.3.0 in c:\\users\\monic\\appdata\\local\\programs\\python\\python310\\lib\\site-packages (from -r requirements.txt (line 55)) (1.3.0)\n",
      "Requirement already satisfied: scipy==1.11.2 in c:\\users\\monic\\appdata\\local\\programs\\python\\python310\\lib\\site-packages (from -r requirements.txt (line 56)) (1.11.2)\n",
      "Requirement already satisfied: six==1.16.0 in c:\\users\\monic\\appdata\\local\\programs\\python\\python310\\lib\\site-packages (from -r requirements.txt (line 57)) (1.16.0)\n",
      "Requirement already satisfied: sklearn==0.0.post9 in c:\\users\\monic\\appdata\\local\\programs\\python\\python310\\lib\\site-packages (from -r requirements.txt (line 58)) (0.0.post9)\n",
      "Requirement already satisfied: sniffio==1.3.0 in c:\\users\\monic\\appdata\\local\\programs\\python\\python310\\lib\\site-packages (from -r requirements.txt (line 59)) (1.3.0)\n",
      "Requirement already satisfied: starlette==0.27.0 in c:\\users\\monic\\appdata\\local\\programs\\python\\python310\\lib\\site-packages (from -r requirements.txt (line 60)) (0.27.0)\n",
      "Requirement already satisfied: tensorboard==2.13.0 in c:\\users\\monic\\appdata\\local\\programs\\python\\python310\\lib\\site-packages (from -r requirements.txt (line 61)) (2.13.0)\n",
      "Requirement already satisfied: tensorboard-data-server==0.7.1 in c:\\users\\monic\\appdata\\local\\programs\\python\\python310\\lib\\site-packages (from -r requirements.txt (line 62)) (0.7.1)\n",
      "Requirement already satisfied: tensorflow==2.13.0 in c:\\users\\monic\\appdata\\local\\programs\\python\\python310\\lib\\site-packages (from -r requirements.txt (line 63)) (2.13.0)\n",
      "Requirement already satisfied: tensorflow-estimator==2.13.0 in c:\\users\\monic\\appdata\\local\\programs\\python\\python310\\lib\\site-packages (from -r requirements.txt (line 64)) (2.13.0)\n",
      "Requirement already satisfied: tensorflow-intel==2.13.0 in c:\\users\\monic\\appdata\\local\\programs\\python\\python310\\lib\\site-packages (from -r requirements.txt (line 65)) (2.13.0)\n",
      "Requirement already satisfied: tensorflow-io-gcs-filesystem==0.31.0 in c:\\users\\monic\\appdata\\local\\programs\\python\\python310\\lib\\site-packages (from -r requirements.txt (line 66)) (0.31.0)\n",
      "Requirement already satisfied: termcolor==2.3.0 in c:\\users\\monic\\appdata\\local\\programs\\python\\python310\\lib\\site-packages (from -r requirements.txt (line 67)) (2.3.0)\n",
      "Requirement already satisfied: threadpoolctl==3.2.0 in c:\\users\\monic\\appdata\\local\\programs\\python\\python310\\lib\\site-packages (from -r requirements.txt (line 68)) (3.2.0)\n",
      "Requirement already satisfied: typing_extensions==4.7.1 in c:\\users\\monic\\appdata\\local\\programs\\python\\python310\\lib\\site-packages (from -r requirements.txt (line 69)) (4.7.1)\n",
      "Requirement already satisfied: urllib3==1.26.12 in c:\\users\\monic\\appdata\\roaming\\python\\python310\\site-packages (from -r requirements.txt (line 70)) (1.26.12)\n",
      "Requirement already satisfied: uvicorn==0.23.2 in c:\\users\\monic\\appdata\\local\\programs\\python\\python310\\lib\\site-packages (from -r requirements.txt (line 71)) (0.23.2)\n",
      "Requirement already satisfied: Werkzeug==2.2.2 in c:\\users\\monic\\appdata\\roaming\\python\\python310\\site-packages (from -r requirements.txt (line 72)) (2.2.2)\n",
      "Requirement already satisfied: wrapt==1.15.0 in c:\\users\\monic\\appdata\\local\\programs\\python\\python310\\lib\\site-packages (from -r requirements.txt (line 73)) (1.15.0)\n",
      "Requirement already satisfied: wheel<1.0,>=0.23.0 in c:\\users\\monic\\appdata\\local\\programs\\python\\python310\\lib\\site-packages (from astunparse==1.6.3->-r requirements.txt (line 4)) (0.41.2)\n",
      "Requirement already satisfied: setuptools>=3.0 in c:\\users\\monic\\appdata\\local\\programs\\python\\python310\\lib\\site-packages (from gunicorn==20.1.0->-r requirements.txt (line 23)) (63.2.0)\n",
      "INFO: pip is looking at multiple versions of tensorflow-intel to determine which version is compatible with other requirements. This could take a while.\n",
      "Collecting tensorflow==2.13.0 (from -r requirements.txt (line 63))\n",
      "  Obtaining dependency information for tensorflow==2.13.0 from https://files.pythonhosted.org/packages/ba/7c/b971f2485155917ecdcebb210e021e36a6b65457394590be01cc61515310/tensorflow-2.13.0-cp310-cp310-win_amd64.whl.metadata\n",
      "  Downloading tensorflow-2.13.0-cp310-cp310-win_amd64.whl.metadata (2.6 kB)\n",
      "Collecting pydantic_core==2.6.3 (from -r requirements.txt (line 46))\n",
      "  Obtaining dependency information for pydantic_core==2.6.3 from https://files.pythonhosted.org/packages/63/af/869dd176247e855468249bcdb873103146c6b41d52b12a7c6ffc5d30462f/pydantic_core-2.6.3-cp310-none-win_amd64.whl.metadata\n",
      "  Downloading pydantic_core-2.6.3-cp310-none-win_amd64.whl.metadata (6.6 kB)\n",
      "Collecting pydantic==2.3.0 (from -r requirements.txt (line 45))\n",
      "  Obtaining dependency information for pydantic==2.3.0 from https://files.pythonhosted.org/packages/82/06/fafdc75e48b248eff364b4249af4bcc6952225e8f20e8205820afc66e88e/pydantic-2.3.0-py3-none-any.whl.metadata\n",
      "  Downloading pydantic-2.3.0-py3-none-any.whl.metadata (148 kB)\n",
      "     ---------------------------------------- 0.0/148.8 kB ? eta -:--:--\n",
      "     -------------------------------------- 148.8/148.8 kB 4.3 MB/s eta 0:00:00\n",
      "Collecting fastapi==0.103.1 (from -r requirements.txt (line 14))\n",
      "  Obtaining dependency information for fastapi==0.103.1 from https://files.pythonhosted.org/packages/76/e5/ca411b260caa4e72f9ac5482f331fe74fd4eb5b97aa74d1d2806ccf07e2c/fastapi-0.103.1-py3-none-any.whl.metadata\n",
      "  Downloading fastapi-0.103.1-py3-none-any.whl.metadata (24 kB)\n",
      "INFO: pip is still looking at multiple versions of tensorflow-intel to determine which version is compatible with other requirements. This could take a while.\n",
      "\n",
      "The conflict is caused by:\n",
      "    The user requested typing_extensions==4.7.1\n",
      "    fastapi 0.103.1 depends on typing-extensions>=4.5.0\n",
      "    pydantic 2.3.0 depends on typing-extensions>=4.6.1\n",
      "    pydantic-core 2.6.3 depends on typing-extensions!=4.7.0 and >=4.6.0\n",
      "    tensorflow-intel 2.13.0 depends on typing-extensions<4.6.0 and >=3.6.6\n",
      "\n",
      "To fix this you could try to:\n",
      "1. loosen the range of package versions you've specified\n",
      "2. remove package versions to allow pip attempt to solve the dependency conflict\n",
      "\n"
     ]
    },
    {
     "name": "stderr",
     "output_type": "stream",
     "text": [
      "ERROR: Cannot install -r requirements.txt (line 14), -r requirements.txt (line 45), -r requirements.txt (line 46), tensorflow-intel==2.13.0 and typing_extensions==4.7.1 because these package versions have conflicting dependencies.\n",
      "ERROR: ResolutionImpossible: for help visit https://pip.pypa.io/en/latest/topics/dependency-resolution/#dealing-with-dependency-conflicts\n",
      "\n",
      "[notice] A new release of pip is available: 23.2.1 -> 24.0\n",
      "[notice] To update, run: python.exe -m pip install --upgrade pip\n"
     ]
    }
   ],
   "source": [
    "!pip install -r requirements.txt"
   ]
  },
  {
   "cell_type": "code",
   "execution_count": 1,
   "id": "879e7df9",
   "metadata": {},
   "outputs": [],
   "source": [
    "# Tratamiento de datos\n",
    "# ==============================================================================\n",
    "import numpy as np\n",
    "import pandas as pd\n",
    "from sklearn.datasets import make_blobs\n",
    "\n",
    "# Gráficos\n",
    "# ==============================================================================\n",
    "import matplotlib.pyplot as plt\n",
    "from matplotlib import style\n",
    "style.use('ggplot') or plt.style.use('ggplot')\n",
    "plt.rcParams[\"figure.figsize\"] = (12,10)\n",
    "\n",
    "# Preprocesado y modelado\n",
    "# ==============================================================================\n",
    "from sklearn.cluster import KMeans\n",
    "from sklearn.preprocessing import scale\n",
    "from sklearn.metrics import silhouette_score\n",
    "\n",
    "# Configuración warnings\n",
    "# ==============================================================================\n",
    "import warnings\n",
    "warnings.filterwarnings('ignore')\n"
   ]
  },
  {
   "cell_type": "code",
   "execution_count": 2,
   "id": "a98053cd",
   "metadata": {},
   "outputs": [
    {
     "data": {
      "text/html": [
       "<div>\n",
       "<style scoped>\n",
       "    .dataframe tbody tr th:only-of-type {\n",
       "        vertical-align: middle;\n",
       "    }\n",
       "\n",
       "    .dataframe tbody tr th {\n",
       "        vertical-align: top;\n",
       "    }\n",
       "\n",
       "    .dataframe thead th {\n",
       "        text-align: right;\n",
       "    }\n",
       "</style>\n",
       "<table border=\"1\" class=\"dataframe\">\n",
       "  <thead>\n",
       "    <tr style=\"text-align: right;\">\n",
       "      <th></th>\n",
       "      <th>Name</th>\n",
       "      <th>CodigoProvincia</th>\n",
       "      <th>CCAA</th>\n",
       "      <th>Population</th>\n",
       "      <th>TotalCensus</th>\n",
       "      <th>AbstentionPtge</th>\n",
       "      <th>AbstencionAlta</th>\n",
       "      <th>Izda_Pct</th>\n",
       "      <th>Dcha_Pct</th>\n",
       "      <th>Otros_Pct</th>\n",
       "      <th>Izquierda</th>\n",
       "      <th>Derecha</th>\n",
       "      <th>Age_0-4_Ptge</th>\n",
       "      <th>Age_under19_Ptge</th>\n",
       "      <th>Age_19_65_pct</th>\n",
       "      <th>Age_over65_pct</th>\n",
       "      <th>WomanPopulationPtge</th>\n",
       "      <th>ForeignersPtge</th>\n",
       "      <th>SameComAutonPtge</th>\n",
       "      <th>SameComAutonDiffProvPtge</th>\n",
       "      <th>DifComAutonPtge</th>\n",
       "      <th>UnemployLess25_Ptge</th>\n",
       "      <th>Unemploy25_40_Ptge</th>\n",
       "      <th>UnemployMore40_Ptge</th>\n",
       "      <th>AgricultureUnemploymentPtge</th>\n",
       "      <th>IndustryUnemploymentPtge</th>\n",
       "      <th>ConstructionUnemploymentPtge</th>\n",
       "      <th>ServicesUnemploymentPtge</th>\n",
       "      <th>totalEmpresas</th>\n",
       "      <th>Industria</th>\n",
       "      <th>Construccion</th>\n",
       "      <th>ComercTTEHosteleria</th>\n",
       "      <th>Servicios</th>\n",
       "      <th>ActividadPpal</th>\n",
       "      <th>inmuebles</th>\n",
       "      <th>Pob2010</th>\n",
       "      <th>SUPERFICIE</th>\n",
       "      <th>Densidad</th>\n",
       "      <th>PobChange_pct</th>\n",
       "      <th>PersonasInmueble</th>\n",
       "      <th>Explotaciones</th>\n",
       "    </tr>\n",
       "  </thead>\n",
       "  <tbody>\n",
       "    <tr>\n",
       "      <th>0</th>\n",
       "      <td>Abadía</td>\n",
       "      <td>10</td>\n",
       "      <td>Extremadura</td>\n",
       "      <td>336</td>\n",
       "      <td>282</td>\n",
       "      <td>20.213</td>\n",
       "      <td>0</td>\n",
       "      <td>60.444</td>\n",
       "      <td>35.555</td>\n",
       "      <td>1.778</td>\n",
       "      <td>1</td>\n",
       "      <td>0</td>\n",
       "      <td>3.869</td>\n",
       "      <td>18.155</td>\n",
       "      <td>55.059</td>\n",
       "      <td>26.785</td>\n",
       "      <td>44.048</td>\n",
       "      <td>0.89</td>\n",
       "      <td>79.762</td>\n",
       "      <td>0.298</td>\n",
       "      <td>19.345</td>\n",
       "      <td>2.381</td>\n",
       "      <td>54.762</td>\n",
       "      <td>42.857</td>\n",
       "      <td>4.762</td>\n",
       "      <td>9.524</td>\n",
       "      <td>11.905</td>\n",
       "      <td>73.810</td>\n",
       "      <td>15</td>\n",
       "      <td>0</td>\n",
       "      <td>0</td>\n",
       "      <td>0</td>\n",
       "      <td>0</td>\n",
       "      <td>Otro</td>\n",
       "      <td>216</td>\n",
       "      <td>326</td>\n",
       "      <td>4507.5593</td>\n",
       "      <td>MuyBaja</td>\n",
       "      <td>3.07</td>\n",
       "      <td>1.56</td>\n",
       "      <td>28</td>\n",
       "    </tr>\n",
       "    <tr>\n",
       "      <th>1</th>\n",
       "      <td>Abertura</td>\n",
       "      <td>10</td>\n",
       "      <td>Extremadura</td>\n",
       "      <td>429</td>\n",
       "      <td>364</td>\n",
       "      <td>25.275</td>\n",
       "      <td>0</td>\n",
       "      <td>54.779</td>\n",
       "      <td>44.118</td>\n",
       "      <td>0.368</td>\n",
       "      <td>1</td>\n",
       "      <td>0</td>\n",
       "      <td>1.632</td>\n",
       "      <td>13.055</td>\n",
       "      <td>56.643</td>\n",
       "      <td>30.304</td>\n",
       "      <td>50.117</td>\n",
       "      <td>1.63</td>\n",
       "      <td>90.909</td>\n",
       "      <td>2.797</td>\n",
       "      <td>7.226</td>\n",
       "      <td>16.216</td>\n",
       "      <td>32.432</td>\n",
       "      <td>51.351</td>\n",
       "      <td>8.108</td>\n",
       "      <td>8.108</td>\n",
       "      <td>10.811</td>\n",
       "      <td>67.568</td>\n",
       "      <td>11</td>\n",
       "      <td>0</td>\n",
       "      <td>0</td>\n",
       "      <td>0</td>\n",
       "      <td>0</td>\n",
       "      <td>Otro</td>\n",
       "      <td>382</td>\n",
       "      <td>459</td>\n",
       "      <td>6270.7646</td>\n",
       "      <td>MuyBaja</td>\n",
       "      <td>-6.54</td>\n",
       "      <td>1.12</td>\n",
       "      <td>67</td>\n",
       "    </tr>\n",
       "    <tr>\n",
       "      <th>2</th>\n",
       "      <td>Acebo</td>\n",
       "      <td>10</td>\n",
       "      <td>Extremadura</td>\n",
       "      <td>569</td>\n",
       "      <td>569</td>\n",
       "      <td>27.241</td>\n",
       "      <td>0</td>\n",
       "      <td>44.203</td>\n",
       "      <td>53.140</td>\n",
       "      <td>0.966</td>\n",
       "      <td>0</td>\n",
       "      <td>1</td>\n",
       "      <td>1.230</td>\n",
       "      <td>9.139</td>\n",
       "      <td>54.834</td>\n",
       "      <td>36.028</td>\n",
       "      <td>49.033</td>\n",
       "      <td>0.70</td>\n",
       "      <td>78.910</td>\n",
       "      <td>0.703</td>\n",
       "      <td>18.102</td>\n",
       "      <td>8.197</td>\n",
       "      <td>36.066</td>\n",
       "      <td>55.738</td>\n",
       "      <td>22.951</td>\n",
       "      <td>9.836</td>\n",
       "      <td>13.115</td>\n",
       "      <td>49.180</td>\n",
       "      <td>49</td>\n",
       "      <td>0</td>\n",
       "      <td>0</td>\n",
       "      <td>0</td>\n",
       "      <td>0</td>\n",
       "      <td>Otro</td>\n",
       "      <td>918</td>\n",
       "      <td>674</td>\n",
       "      <td>5702.1000</td>\n",
       "      <td>MuyBaja</td>\n",
       "      <td>-15.58</td>\n",
       "      <td>0.62</td>\n",
       "      <td>74</td>\n",
       "    </tr>\n",
       "    <tr>\n",
       "      <th>3</th>\n",
       "      <td>Acehúche</td>\n",
       "      <td>10</td>\n",
       "      <td>Extremadura</td>\n",
       "      <td>822</td>\n",
       "      <td>704</td>\n",
       "      <td>30.114</td>\n",
       "      <td>1</td>\n",
       "      <td>50.813</td>\n",
       "      <td>45.325</td>\n",
       "      <td>0.000</td>\n",
       "      <td>1</td>\n",
       "      <td>0</td>\n",
       "      <td>4.258</td>\n",
       "      <td>14.964</td>\n",
       "      <td>60.098</td>\n",
       "      <td>24.940</td>\n",
       "      <td>51.095</td>\n",
       "      <td>0.12</td>\n",
       "      <td>93.917</td>\n",
       "      <td>0.487</td>\n",
       "      <td>5.109</td>\n",
       "      <td>7.407</td>\n",
       "      <td>61.111</td>\n",
       "      <td>31.481</td>\n",
       "      <td>16.667</td>\n",
       "      <td>5.556</td>\n",
       "      <td>16.667</td>\n",
       "      <td>59.259</td>\n",
       "      <td>50</td>\n",
       "      <td>0</td>\n",
       "      <td>0</td>\n",
       "      <td>0</td>\n",
       "      <td>0</td>\n",
       "      <td>Otro</td>\n",
       "      <td>599</td>\n",
       "      <td>842</td>\n",
       "      <td>9106.4649</td>\n",
       "      <td>MuyBaja</td>\n",
       "      <td>-2.38</td>\n",
       "      <td>1.37</td>\n",
       "      <td>66</td>\n",
       "    </tr>\n",
       "    <tr>\n",
       "      <th>4</th>\n",
       "      <td>Aceituna</td>\n",
       "      <td>10</td>\n",
       "      <td>Extremadura</td>\n",
       "      <td>623</td>\n",
       "      <td>540</td>\n",
       "      <td>30.185</td>\n",
       "      <td>1</td>\n",
       "      <td>44.562</td>\n",
       "      <td>49.867</td>\n",
       "      <td>0.796</td>\n",
       "      <td>0</td>\n",
       "      <td>1</td>\n",
       "      <td>3.531</td>\n",
       "      <td>15.569</td>\n",
       "      <td>59.391</td>\n",
       "      <td>25.042</td>\n",
       "      <td>48.154</td>\n",
       "      <td>0.64</td>\n",
       "      <td>93.258</td>\n",
       "      <td>0.161</td>\n",
       "      <td>4.173</td>\n",
       "      <td>15.385</td>\n",
       "      <td>48.077</td>\n",
       "      <td>36.538</td>\n",
       "      <td>21.154</td>\n",
       "      <td>0.000</td>\n",
       "      <td>11.538</td>\n",
       "      <td>61.538</td>\n",
       "      <td>22</td>\n",
       "      <td>0</td>\n",
       "      <td>0</td>\n",
       "      <td>0</td>\n",
       "      <td>0</td>\n",
       "      <td>Otro</td>\n",
       "      <td>394</td>\n",
       "      <td>625</td>\n",
       "      <td>4007.6141</td>\n",
       "      <td>MuyBaja</td>\n",
       "      <td>-0.32</td>\n",
       "      <td>1.58</td>\n",
       "      <td>96</td>\n",
       "    </tr>\n",
       "  </tbody>\n",
       "</table>\n",
       "</div>"
      ],
      "text/plain": [
       "       Name  CodigoProvincia         CCAA  Population  TotalCensus  \\\n",
       "0    Abadía               10  Extremadura         336          282   \n",
       "1  Abertura               10  Extremadura         429          364   \n",
       "2     Acebo               10  Extremadura         569          569   \n",
       "3  Acehúche               10  Extremadura         822          704   \n",
       "4  Aceituna               10  Extremadura         623          540   \n",
       "\n",
       "   AbstentionPtge  AbstencionAlta  Izda_Pct  Dcha_Pct  Otros_Pct  Izquierda  \\\n",
       "0          20.213               0    60.444    35.555      1.778          1   \n",
       "1          25.275               0    54.779    44.118      0.368          1   \n",
       "2          27.241               0    44.203    53.140      0.966          0   \n",
       "3          30.114               1    50.813    45.325      0.000          1   \n",
       "4          30.185               1    44.562    49.867      0.796          0   \n",
       "\n",
       "   Derecha  Age_0-4_Ptge  Age_under19_Ptge  Age_19_65_pct  Age_over65_pct  \\\n",
       "0        0         3.869            18.155         55.059          26.785   \n",
       "1        0         1.632            13.055         56.643          30.304   \n",
       "2        1         1.230             9.139         54.834          36.028   \n",
       "3        0         4.258            14.964         60.098          24.940   \n",
       "4        1         3.531            15.569         59.391          25.042   \n",
       "\n",
       "   WomanPopulationPtge  ForeignersPtge  SameComAutonPtge  \\\n",
       "0               44.048            0.89            79.762   \n",
       "1               50.117            1.63            90.909   \n",
       "2               49.033            0.70            78.910   \n",
       "3               51.095            0.12            93.917   \n",
       "4               48.154            0.64            93.258   \n",
       "\n",
       "   SameComAutonDiffProvPtge  DifComAutonPtge  UnemployLess25_Ptge  \\\n",
       "0                     0.298           19.345                2.381   \n",
       "1                     2.797            7.226               16.216   \n",
       "2                     0.703           18.102                8.197   \n",
       "3                     0.487            5.109                7.407   \n",
       "4                     0.161            4.173               15.385   \n",
       "\n",
       "   Unemploy25_40_Ptge  UnemployMore40_Ptge  AgricultureUnemploymentPtge  \\\n",
       "0              54.762               42.857                        4.762   \n",
       "1              32.432               51.351                        8.108   \n",
       "2              36.066               55.738                       22.951   \n",
       "3              61.111               31.481                       16.667   \n",
       "4              48.077               36.538                       21.154   \n",
       "\n",
       "   IndustryUnemploymentPtge  ConstructionUnemploymentPtge  \\\n",
       "0                     9.524                        11.905   \n",
       "1                     8.108                        10.811   \n",
       "2                     9.836                        13.115   \n",
       "3                     5.556                        16.667   \n",
       "4                     0.000                        11.538   \n",
       "\n",
       "   ServicesUnemploymentPtge totalEmpresas Industria Construccion  \\\n",
       "0                    73.810            15         0            0   \n",
       "1                    67.568            11         0            0   \n",
       "2                    49.180            49         0            0   \n",
       "3                    59.259            50         0            0   \n",
       "4                    61.538            22         0            0   \n",
       "\n",
       "  ComercTTEHosteleria Servicios ActividadPpal inmuebles Pob2010  SUPERFICIE  \\\n",
       "0                   0         0          Otro       216     326   4507.5593   \n",
       "1                   0         0          Otro       382     459   6270.7646   \n",
       "2                   0         0          Otro       918     674   5702.1000   \n",
       "3                   0         0          Otro       599     842   9106.4649   \n",
       "4                   0         0          Otro       394     625   4007.6141   \n",
       "\n",
       "  Densidad  PobChange_pct  PersonasInmueble  Explotaciones  \n",
       "0  MuyBaja           3.07              1.56             28  \n",
       "1  MuyBaja          -6.54              1.12             67  \n",
       "2  MuyBaja         -15.58              0.62             74  \n",
       "3  MuyBaja          -2.38              1.37             66  \n",
       "4  MuyBaja          -0.32              1.58             96  "
      ]
     },
     "execution_count": 2,
     "metadata": {},
     "output_type": "execute_result"
    }
   ],
   "source": [
    "pd.set_option(\"display.max_rows\", None, \"display.max_columns\", None)\n",
    "\n",
    "data = pd.read_csv('C:\\\\Users\\\\monic\\\\OneDrive\\\\DATASCIENCE - UCM\\\\07_MINERIADATOS_20230109\\\\DATOS\\\\DatosEleccionesEspaña.csv')\n",
    "data.head()\n"
   ]
  },
  {
   "cell_type": "code",
   "execution_count": 3,
   "id": "ecee8c8a",
   "metadata": {
    "scrolled": true
   },
   "outputs": [
    {
     "name": "stdout",
     "output_type": "stream",
     "text": [
      "<class 'pandas.core.frame.DataFrame'>\n",
      "RangeIndex: 8119 entries, 0 to 8118\n",
      "Data columns (total 41 columns):\n",
      " #   Column                        Non-Null Count  Dtype  \n",
      "---  ------                        --------------  -----  \n",
      " 0   Name                          8119 non-null   object \n",
      " 1   CodigoProvincia               8119 non-null   int64  \n",
      " 2   CCAA                          8119 non-null   object \n",
      " 3   Population                    8119 non-null   int64  \n",
      " 4   TotalCensus                   8119 non-null   int64  \n",
      " 5   AbstentionPtge                8119 non-null   float64\n",
      " 6   AbstencionAlta                8119 non-null   int64  \n",
      " 7   Izda_Pct                      8119 non-null   float64\n",
      " 8   Dcha_Pct                      8119 non-null   float64\n",
      " 9   Otros_Pct                     8119 non-null   float64\n",
      " 10  Izquierda                     8119 non-null   int64  \n",
      " 11  Derecha                       8119 non-null   int64  \n",
      " 12  Age_0-4_Ptge                  8119 non-null   float64\n",
      " 13  Age_under19_Ptge              8119 non-null   float64\n",
      " 14  Age_19_65_pct                 8119 non-null   float64\n",
      " 15  Age_over65_pct                8119 non-null   float64\n",
      " 16  WomanPopulationPtge           8119 non-null   float64\n",
      " 17  ForeignersPtge                8119 non-null   float64\n",
      " 18  SameComAutonPtge              8119 non-null   float64\n",
      " 19  SameComAutonDiffProvPtge      8119 non-null   float64\n",
      " 20  DifComAutonPtge               8119 non-null   float64\n",
      " 21  UnemployLess25_Ptge           8119 non-null   float64\n",
      " 22  Unemploy25_40_Ptge            8119 non-null   float64\n",
      " 23  UnemployMore40_Ptge           8119 non-null   float64\n",
      " 24  AgricultureUnemploymentPtge   8119 non-null   float64\n",
      " 25  IndustryUnemploymentPtge      8119 non-null   float64\n",
      " 26  ConstructionUnemploymentPtge  8119 non-null   float64\n",
      " 27  ServicesUnemploymentPtge      8119 non-null   float64\n",
      " 28  totalEmpresas                 8114 non-null   object \n",
      " 29  Industria                     7931 non-null   object \n",
      " 30  Construccion                  7980 non-null   object \n",
      " 31  ComercTTEHosteleria           8110 non-null   object \n",
      " 32  Servicios                     8057 non-null   object \n",
      " 33  ActividadPpal                 8119 non-null   object \n",
      " 34  inmuebles                     7981 non-null   object \n",
      " 35  Pob2010                       8112 non-null   object \n",
      " 36  SUPERFICIE                    8110 non-null   float64\n",
      " 37  Densidad                      8119 non-null   object \n",
      " 38  PobChange_pct                 8112 non-null   float64\n",
      " 39  PersonasInmueble              7981 non-null   float64\n",
      " 40  Explotaciones                 8119 non-null   int64  \n",
      "dtypes: float64(23), int64(7), object(11)\n",
      "memory usage: 2.5+ MB\n"
     ]
    }
   ],
   "source": [
    "data.info()"
   ]
  },
  {
   "cell_type": "code",
   "execution_count": 4,
   "id": "51120a22",
   "metadata": {
    "scrolled": true
   },
   "outputs": [
    {
     "data": {
      "text/plain": [
       "Name                            8102\n",
       "CodigoProvincia                   52\n",
       "CCAA                              19\n",
       "Population                      3597\n",
       "TotalCensus                     3310\n",
       "AbstentionPtge                  5675\n",
       "AbstencionAlta                     2\n",
       "Izda_Pct                        6349\n",
       "Dcha_Pct                        6437\n",
       "Otros_Pct                       4319\n",
       "Izquierda                          2\n",
       "Derecha                            2\n",
       "Age_0-4_Ptge                    3761\n",
       "Age_under19_Ptge                5891\n",
       "Age_19_65_pct                   6215\n",
       "Age_over65_pct                  6778\n",
       "WomanPopulationPtge             4524\n",
       "ForeignersPtge                  2329\n",
       "SameComAutonPtge                6151\n",
       "SameComAutonDiffProvPtge        4207\n",
       "DifComAutonPtge                 5574\n",
       "UnemployLess25_Ptge             2342\n",
       "Unemploy25_40_Ptge              2681\n",
       "UnemployMore40_Ptge             2751\n",
       "AgricultureUnemploymentPtge     2525\n",
       "IndustryUnemploymentPtge        2538\n",
       "ConstructionUnemploymentPtge    2505\n",
       "ServicesUnemploymentPtge        2904\n",
       "totalEmpresas                   1225\n",
       "Industria                        307\n",
       "Construccion                     456\n",
       "ComercTTEHosteleria              802\n",
       "Servicios                        757\n",
       "ActividadPpal                      5\n",
       "inmuebles                       3087\n",
       "Pob2010                         3624\n",
       "SUPERFICIE                      8109\n",
       "Densidad                           4\n",
       "PobChange_pct                   3048\n",
       "PersonasInmueble                 282\n",
       "Explotaciones                    758\n",
       "dtype: int64"
      ]
     },
     "execution_count": 4,
     "metadata": {},
     "output_type": "execute_result"
    }
   ],
   "source": [
    "data.nunique()"
   ]
  },
  {
   "cell_type": "code",
   "execution_count": 5,
   "id": "47b8344e",
   "metadata": {
    "scrolled": true
   },
   "outputs": [
    {
     "name": "stdout",
     "output_type": "stream",
     "text": [
      "<class 'pandas.core.frame.DataFrame'>\n",
      "RangeIndex: 8119 entries, 0 to 8118\n",
      "Data columns (total 41 columns):\n",
      " #   Column                        Non-Null Count  Dtype   \n",
      "---  ------                        --------------  -----   \n",
      " 0   Name                          8119 non-null   object  \n",
      " 1   CodigoProvincia               8119 non-null   int64   \n",
      " 2   CCAA                          8119 non-null   object  \n",
      " 3   Population                    8119 non-null   int64   \n",
      " 4   TotalCensus                   8119 non-null   int64   \n",
      " 5   AbstentionPtge                8119 non-null   float64 \n",
      " 6   AbstencionAlta                8119 non-null   category\n",
      " 7   Izda_Pct                      8119 non-null   float64 \n",
      " 8   Dcha_Pct                      8119 non-null   float64 \n",
      " 9   Otros_Pct                     8119 non-null   float64 \n",
      " 10  Izquierda                     8119 non-null   category\n",
      " 11  Derecha                       8119 non-null   category\n",
      " 12  Age_0-4_Ptge                  8119 non-null   float64 \n",
      " 13  Age_under19_Ptge              8119 non-null   float64 \n",
      " 14  Age_19_65_pct                 8119 non-null   float64 \n",
      " 15  Age_over65_pct                8119 non-null   float64 \n",
      " 16  WomanPopulationPtge           8119 non-null   float64 \n",
      " 17  ForeignersPtge                8119 non-null   float64 \n",
      " 18  SameComAutonPtge              8119 non-null   float64 \n",
      " 19  SameComAutonDiffProvPtge      8119 non-null   float64 \n",
      " 20  DifComAutonPtge               8119 non-null   float64 \n",
      " 21  UnemployLess25_Ptge           8119 non-null   float64 \n",
      " 22  Unemploy25_40_Ptge            8119 non-null   float64 \n",
      " 23  UnemployMore40_Ptge           8119 non-null   float64 \n",
      " 24  AgricultureUnemploymentPtge   8119 non-null   float64 \n",
      " 25  IndustryUnemploymentPtge      8119 non-null   float64 \n",
      " 26  ConstructionUnemploymentPtge  8119 non-null   float64 \n",
      " 27  ServicesUnemploymentPtge      8119 non-null   float64 \n",
      " 28  totalEmpresas                 8114 non-null   object  \n",
      " 29  Industria                     7931 non-null   object  \n",
      " 30  Construccion                  7980 non-null   object  \n",
      " 31  ComercTTEHosteleria           8110 non-null   object  \n",
      " 32  Servicios                     8057 non-null   object  \n",
      " 33  ActividadPpal                 8119 non-null   category\n",
      " 34  inmuebles                     7981 non-null   object  \n",
      " 35  Pob2010                       8112 non-null   object  \n",
      " 36  SUPERFICIE                    8110 non-null   float64 \n",
      " 37  Densidad                      8119 non-null   category\n",
      " 38  PobChange_pct                 8112 non-null   float64 \n",
      " 39  PersonasInmueble              7981 non-null   float64 \n",
      " 40  Explotaciones                 8119 non-null   int64   \n",
      "dtypes: category(5), float64(23), int64(4), object(9)\n",
      "memory usage: 2.3+ MB\n"
     ]
    }
   ],
   "source": [
    "to_factor =list(data.loc[:,data.nunique()<=10]);\n",
    "data[to_factor] = data[to_factor].astype('category')\n",
    "data.info()"
   ]
  },
  {
   "cell_type": "code",
   "execution_count": 6,
   "id": "2ba517b5",
   "metadata": {
    "scrolled": true
   },
   "outputs": [
    {
     "name": "stdout",
     "output_type": "stream",
     "text": [
      "<class 'pandas.core.frame.DataFrame'>\n",
      "RangeIndex: 8119 entries, 0 to 8118\n",
      "Data columns (total 27 columns):\n",
      " #   Column                        Non-Null Count  Dtype  \n",
      "---  ------                        --------------  -----  \n",
      " 0   CodigoProvincia               8119 non-null   int64  \n",
      " 1   Population                    8119 non-null   int64  \n",
      " 2   TotalCensus                   8119 non-null   int64  \n",
      " 3   AbstentionPtge                8119 non-null   float64\n",
      " 4   Izda_Pct                      8119 non-null   float64\n",
      " 5   Dcha_Pct                      8119 non-null   float64\n",
      " 6   Otros_Pct                     8119 non-null   float64\n",
      " 7   Age_0-4_Ptge                  8119 non-null   float64\n",
      " 8   Age_under19_Ptge              8119 non-null   float64\n",
      " 9   Age_19_65_pct                 8119 non-null   float64\n",
      " 10  Age_over65_pct                8119 non-null   float64\n",
      " 11  WomanPopulationPtge           8119 non-null   float64\n",
      " 12  ForeignersPtge                8119 non-null   float64\n",
      " 13  SameComAutonPtge              8119 non-null   float64\n",
      " 14  SameComAutonDiffProvPtge      8119 non-null   float64\n",
      " 15  DifComAutonPtge               8119 non-null   float64\n",
      " 16  UnemployLess25_Ptge           8119 non-null   float64\n",
      " 17  Unemploy25_40_Ptge            8119 non-null   float64\n",
      " 18  UnemployMore40_Ptge           8119 non-null   float64\n",
      " 19  AgricultureUnemploymentPtge   8119 non-null   float64\n",
      " 20  IndustryUnemploymentPtge      8119 non-null   float64\n",
      " 21  ConstructionUnemploymentPtge  8119 non-null   float64\n",
      " 22  ServicesUnemploymentPtge      8119 non-null   float64\n",
      " 23  SUPERFICIE                    8110 non-null   float64\n",
      " 24  PobChange_pct                 8112 non-null   float64\n",
      " 25  PersonasInmueble              7981 non-null   float64\n",
      " 26  Explotaciones                 8119 non-null   int64  \n",
      "dtypes: float64(23), int64(4)\n",
      "memory usage: 1.7 MB\n"
     ]
    }
   ],
   "source": [
    "#nos quedamos con aquellas columnas que sean de tipo número\n",
    "elecciones = data.select_dtypes(include=[np.number])\n",
    "elecciones.info()"
   ]
  },
  {
   "cell_type": "code",
   "execution_count": 7,
   "id": "dcc89959",
   "metadata": {
    "scrolled": false
   },
   "outputs": [
    {
     "data": {
      "text/html": [
       "<div>\n",
       "<style scoped>\n",
       "    .dataframe tbody tr th:only-of-type {\n",
       "        vertical-align: middle;\n",
       "    }\n",
       "\n",
       "    .dataframe tbody tr th {\n",
       "        vertical-align: top;\n",
       "    }\n",
       "\n",
       "    .dataframe thead th {\n",
       "        text-align: right;\n",
       "    }\n",
       "</style>\n",
       "<table border=\"1\" class=\"dataframe\">\n",
       "  <thead>\n",
       "    <tr style=\"text-align: right;\">\n",
       "      <th></th>\n",
       "      <th>Population</th>\n",
       "      <th>TotalCensus</th>\n",
       "      <th>AbstentionPtge</th>\n",
       "      <th>Izda_Pct</th>\n",
       "      <th>Dcha_Pct</th>\n",
       "      <th>Otros_Pct</th>\n",
       "      <th>WomanPopulationPtge</th>\n",
       "      <th>ForeignersPtge</th>\n",
       "      <th>SameComAutonPtge</th>\n",
       "      <th>SameComAutonDiffProvPtge</th>\n",
       "    </tr>\n",
       "  </thead>\n",
       "  <tbody>\n",
       "    <tr>\n",
       "      <th>0</th>\n",
       "      <td>336</td>\n",
       "      <td>282</td>\n",
       "      <td>20.213</td>\n",
       "      <td>60.444</td>\n",
       "      <td>35.555</td>\n",
       "      <td>1.778</td>\n",
       "      <td>44.048</td>\n",
       "      <td>0.89</td>\n",
       "      <td>79.762</td>\n",
       "      <td>0.298</td>\n",
       "    </tr>\n",
       "    <tr>\n",
       "      <th>1</th>\n",
       "      <td>429</td>\n",
       "      <td>364</td>\n",
       "      <td>25.275</td>\n",
       "      <td>54.779</td>\n",
       "      <td>44.118</td>\n",
       "      <td>0.368</td>\n",
       "      <td>50.117</td>\n",
       "      <td>1.63</td>\n",
       "      <td>90.909</td>\n",
       "      <td>2.797</td>\n",
       "    </tr>\n",
       "    <tr>\n",
       "      <th>2</th>\n",
       "      <td>569</td>\n",
       "      <td>569</td>\n",
       "      <td>27.241</td>\n",
       "      <td>44.203</td>\n",
       "      <td>53.140</td>\n",
       "      <td>0.966</td>\n",
       "      <td>49.033</td>\n",
       "      <td>0.70</td>\n",
       "      <td>78.910</td>\n",
       "      <td>0.703</td>\n",
       "    </tr>\n",
       "    <tr>\n",
       "      <th>3</th>\n",
       "      <td>822</td>\n",
       "      <td>704</td>\n",
       "      <td>30.114</td>\n",
       "      <td>50.813</td>\n",
       "      <td>45.325</td>\n",
       "      <td>0.000</td>\n",
       "      <td>51.095</td>\n",
       "      <td>0.12</td>\n",
       "      <td>93.917</td>\n",
       "      <td>0.487</td>\n",
       "    </tr>\n",
       "    <tr>\n",
       "      <th>4</th>\n",
       "      <td>623</td>\n",
       "      <td>540</td>\n",
       "      <td>30.185</td>\n",
       "      <td>44.562</td>\n",
       "      <td>49.867</td>\n",
       "      <td>0.796</td>\n",
       "      <td>48.154</td>\n",
       "      <td>0.64</td>\n",
       "      <td>93.258</td>\n",
       "      <td>0.161</td>\n",
       "    </tr>\n",
       "  </tbody>\n",
       "</table>\n",
       "</div>"
      ],
      "text/plain": [
       "   Population  TotalCensus  AbstentionPtge  Izda_Pct  Dcha_Pct  Otros_Pct  \\\n",
       "0         336          282          20.213    60.444    35.555      1.778   \n",
       "1         429          364          25.275    54.779    44.118      0.368   \n",
       "2         569          569          27.241    44.203    53.140      0.966   \n",
       "3         822          704          30.114    50.813    45.325      0.000   \n",
       "4         623          540          30.185    44.562    49.867      0.796   \n",
       "\n",
       "   WomanPopulationPtge  ForeignersPtge  SameComAutonPtge  \\\n",
       "0               44.048            0.89            79.762   \n",
       "1               50.117            1.63            90.909   \n",
       "2               49.033            0.70            78.910   \n",
       "3               51.095            0.12            93.917   \n",
       "4               48.154            0.64            93.258   \n",
       "\n",
       "   SameComAutonDiffProvPtge  \n",
       "0                     0.298  \n",
       "1                     2.797  \n",
       "2                     0.703  \n",
       "3                     0.487  \n",
       "4                     0.161  "
      ]
     },
     "execution_count": 7,
     "metadata": {},
     "output_type": "execute_result"
    }
   ],
   "source": [
    "#seleccionamos 10 variables y sacamos codigoprovincia y las edades porque tienen valores fuera de rango que luego se consieran\n",
    "#missing. Por tanto, elegimos otras variables.\n",
    "elecciones= elecciones.iloc[:, 0:15]\n",
    "elecciones=elecciones.drop('CodigoProvincia',axis=1)\n",
    "elecciones=elecciones.drop('Age_0-4_Ptge',axis=1)\n",
    "elecciones=elecciones.drop('Age_under19_Ptge',axis=1)\n",
    "elecciones=elecciones.drop('Age_19_65_pct',axis=1)\n",
    "elecciones=elecciones.drop('Age_over65_pct',axis=1)\n",
    "elecciones.head()"
   ]
  },
  {
   "cell_type": "code",
   "execution_count": 318,
   "id": "8b26a752",
   "metadata": {},
   "outputs": [
    {
     "data": {
      "text/html": [
       "<div>\n",
       "<style scoped>\n",
       "    .dataframe tbody tr th:only-of-type {\n",
       "        vertical-align: middle;\n",
       "    }\n",
       "\n",
       "    .dataframe tbody tr th {\n",
       "        vertical-align: top;\n",
       "    }\n",
       "\n",
       "    .dataframe thead th {\n",
       "        text-align: right;\n",
       "    }\n",
       "</style>\n",
       "<table border=\"1\" class=\"dataframe\">\n",
       "  <thead>\n",
       "    <tr style=\"text-align: right;\">\n",
       "      <th></th>\n",
       "      <th>Population</th>\n",
       "      <th>TotalCensus</th>\n",
       "      <th>AbstentionPtge</th>\n",
       "      <th>Izda_Pct</th>\n",
       "      <th>Dcha_Pct</th>\n",
       "      <th>Otros_Pct</th>\n",
       "      <th>WomanPopulationPtge</th>\n",
       "      <th>ForeignersPtge</th>\n",
       "      <th>SameComAutonPtge</th>\n",
       "      <th>SameComAutonDiffProvPtge</th>\n",
       "    </tr>\n",
       "  </thead>\n",
       "  <tbody>\n",
       "    <tr>\n",
       "      <th>count</th>\n",
       "      <td>8.119000e+03</td>\n",
       "      <td>8.119000e+03</td>\n",
       "      <td>8119.000000</td>\n",
       "      <td>8119.000000</td>\n",
       "      <td>8119.000000</td>\n",
       "      <td>8119.000000</td>\n",
       "      <td>8119.000000</td>\n",
       "      <td>8119.000000</td>\n",
       "      <td>8119.000000</td>\n",
       "      <td>8119.000000</td>\n",
       "    </tr>\n",
       "    <tr>\n",
       "      <th>mean</th>\n",
       "      <td>5.741855e+03</td>\n",
       "      <td>4.260666e+03</td>\n",
       "      <td>26.506951</td>\n",
       "      <td>34.403789</td>\n",
       "      <td>48.915409</td>\n",
       "      <td>14.666183</td>\n",
       "      <td>47.302755</td>\n",
       "      <td>5.619553</td>\n",
       "      <td>81.629141</td>\n",
       "      <td>4.336688</td>\n",
       "    </tr>\n",
       "    <tr>\n",
       "      <th>std</th>\n",
       "      <td>4.621520e+04</td>\n",
       "      <td>3.442889e+04</td>\n",
       "      <td>7.540091</td>\n",
       "      <td>16.482285</td>\n",
       "      <td>19.945087</td>\n",
       "      <td>25.093642</td>\n",
       "      <td>4.361907</td>\n",
       "      <td>7.348553</td>\n",
       "      <td>12.289063</td>\n",
       "      <td>6.394440</td>\n",
       "    </tr>\n",
       "    <tr>\n",
       "      <th>min</th>\n",
       "      <td>5.000000e+00</td>\n",
       "      <td>5.000000e+00</td>\n",
       "      <td>0.000000</td>\n",
       "      <td>0.000000</td>\n",
       "      <td>0.000000</td>\n",
       "      <td>0.000000</td>\n",
       "      <td>11.765000</td>\n",
       "      <td>-8.960000</td>\n",
       "      <td>0.000000</td>\n",
       "      <td>0.000000</td>\n",
       "    </tr>\n",
       "    <tr>\n",
       "      <th>25%</th>\n",
       "      <td>1.660000e+02</td>\n",
       "      <td>1.400000e+02</td>\n",
       "      <td>21.678000</td>\n",
       "      <td>21.892500</td>\n",
       "      <td>38.690500</td>\n",
       "      <td>0.759500</td>\n",
       "      <td>45.725000</td>\n",
       "      <td>1.060000</td>\n",
       "      <td>75.806000</td>\n",
       "      <td>0.676000</td>\n",
       "    </tr>\n",
       "    <tr>\n",
       "      <th>50%</th>\n",
       "      <td>5.490000e+02</td>\n",
       "      <td>4.470000e+02</td>\n",
       "      <td>26.429000</td>\n",
       "      <td>35.165000</td>\n",
       "      <td>51.582000</td>\n",
       "      <td>1.883000</td>\n",
       "      <td>48.485000</td>\n",
       "      <td>3.590000</td>\n",
       "      <td>84.493000</td>\n",
       "      <td>2.190000</td>\n",
       "    </tr>\n",
       "    <tr>\n",
       "      <th>75%</th>\n",
       "      <td>2.427500e+03</td>\n",
       "      <td>1.846500e+03</td>\n",
       "      <td>31.475000</td>\n",
       "      <td>46.032000</td>\n",
       "      <td>62.201000</td>\n",
       "      <td>16.497000</td>\n",
       "      <td>50.000000</td>\n",
       "      <td>8.180000</td>\n",
       "      <td>90.462000</td>\n",
       "      <td>5.277000</td>\n",
       "    </tr>\n",
       "    <tr>\n",
       "      <th>max</th>\n",
       "      <td>3.141991e+06</td>\n",
       "      <td>2.363829e+06</td>\n",
       "      <td>57.576000</td>\n",
       "      <td>94.117000</td>\n",
       "      <td>100.000000</td>\n",
       "      <td>100.000000</td>\n",
       "      <td>72.683000</td>\n",
       "      <td>71.470000</td>\n",
       "      <td>127.156000</td>\n",
       "      <td>67.308000</td>\n",
       "    </tr>\n",
       "  </tbody>\n",
       "</table>\n",
       "</div>"
      ],
      "text/plain": [
       "         Population   TotalCensus  AbstentionPtge     Izda_Pct     Dcha_Pct  \\\n",
       "count  8.119000e+03  8.119000e+03     8119.000000  8119.000000  8119.000000   \n",
       "mean   5.741855e+03  4.260666e+03       26.506951    34.403789    48.915409   \n",
       "std    4.621520e+04  3.442889e+04        7.540091    16.482285    19.945087   \n",
       "min    5.000000e+00  5.000000e+00        0.000000     0.000000     0.000000   \n",
       "25%    1.660000e+02  1.400000e+02       21.678000    21.892500    38.690500   \n",
       "50%    5.490000e+02  4.470000e+02       26.429000    35.165000    51.582000   \n",
       "75%    2.427500e+03  1.846500e+03       31.475000    46.032000    62.201000   \n",
       "max    3.141991e+06  2.363829e+06       57.576000    94.117000   100.000000   \n",
       "\n",
       "         Otros_Pct  WomanPopulationPtge  ForeignersPtge  SameComAutonPtge  \\\n",
       "count  8119.000000          8119.000000     8119.000000       8119.000000   \n",
       "mean     14.666183            47.302755        5.619553         81.629141   \n",
       "std      25.093642             4.361907        7.348553         12.289063   \n",
       "min       0.000000            11.765000       -8.960000          0.000000   \n",
       "25%       0.759500            45.725000        1.060000         75.806000   \n",
       "50%       1.883000            48.485000        3.590000         84.493000   \n",
       "75%      16.497000            50.000000        8.180000         90.462000   \n",
       "max     100.000000            72.683000       71.470000        127.156000   \n",
       "\n",
       "       SameComAutonDiffProvPtge  \n",
       "count               8119.000000  \n",
       "mean                   4.336688  \n",
       "std                    6.394440  \n",
       "min                    0.000000  \n",
       "25%                    0.676000  \n",
       "50%                    2.190000  \n",
       "75%                    5.277000  \n",
       "max                   67.308000  "
      ]
     },
     "execution_count": 318,
     "metadata": {},
     "output_type": "execute_result"
    }
   ],
   "source": [
    "elecciones.describe()"
   ]
  },
  {
   "cell_type": "markdown",
   "id": "af00f2e5",
   "metadata": {},
   "source": [
    "En principio no hay ningún valor missing porque en todos los registros count = 8119. No obstante, se observan valores fuera de rango en los 3 últimos registros pues los porcentajes deben toamr valores de entre 0 y 100."
   ]
  },
  {
   "cell_type": "code",
   "execution_count": 319,
   "id": "b3f9686b",
   "metadata": {},
   "outputs": [],
   "source": [
    "import seaborn as sns\n",
    "import matplotlib.pyplot as plt\n",
    "\n",
    "def histogram_boxplot(data, xlabel = None, title = None, font_scale=2, figsize=(9,8), bins = None):\n",
    "    # Definir tamaño letra\n",
    "    sns.set(font_scale=font_scale)\n",
    "    # Crear ventana para los subgráficos\n",
    "    f2, (ax_box2, ax_hist2) = plt.subplots(2, sharex=True, gridspec_kw={\"height_ratios\": (.15, .85)}, figsize=figsize)\n",
    "    # Crear boxplot\n",
    "    sns.boxplot(x=data, ax=ax_box2)\n",
    "    # Crear histograma\n",
    "    sns.histplot(x=data, ax=ax_hist2, bins=bins) if bins else sns.histplot(x=data, ax=ax_hist2)\n",
    "    # Pintar una línea con la media\n",
    "    ax_hist2.axvline(np.mean(data),color='g',linestyle='-')\n",
    "    # Pintar una línea con la mediana\n",
    "    ax_hist2.axvline(np.median(data),color='y',linestyle='--')\n",
    "    # Asignar título y nombre de eje si tal\n",
    "    if xlabel: ax_hist2.set(xlabel=xlabel)\n",
    "    if title: ax_box2.set(title=title, xlabel=\"\")\n",
    "    # Mostrar gráfico\n",
    "    plt.show()"
   ]
  },
  {
   "cell_type": "code",
   "execution_count": 320,
   "id": "aa28aad6",
   "metadata": {},
   "outputs": [
    {
     "data": {
      "image/png": "[encoded data removed]",
      "text/plain": [
       "<Figure size 648x576 with 2 Axes>"
      ]
     },
     "metadata": {},
     "output_type": "display_data"
    },
    {
     "data": {
      "image/png": "[encoded data removed]",
      "text/plain": [
       "<Figure size 648x576 with 2 Axes>"
      ]
     },
     "metadata": {},
     "output_type": "display_data"
    },
    {
     "data": {
      "image/png": "[encoded data removed]",
      "text/plain": [
       "<Figure size 648x576 with 2 Axes>"
      ]
     },
     "metadata": {},
     "output_type": "display_data"
    },
    {
     "data": {
      "image/png": "[encoded data removed]",
      "text/plain": [
       "<Figure size 648x576 with 2 Axes>"
      ]
     },
     "metadata": {},
     "output_type": "display_data"
    },
    {
     "data": {
      "image/png": "[encoded data removed]",
      "text/plain": [
       "<Figure size 648x576 with 2 Axes>"
      ]
     },
     "metadata": {},
     "output_type": "display_data"
    },
    {
     "data": {
      "image/png": "[encoded data removed]",
      "text/plain": [
       "<Figure size 648x576 with 2 Axes>"
      ]
     },
     "metadata": {},
     "output_type": "display_data"
    },
    {
     "data": {
      "image/png": "[encoded data removed]",
      "text/plain": [
       "<Figure size 648x576 with 2 Axes>"
      ]
     },
     "metadata": {},
     "output_type": "display_data"
    },
    {
     "data": {
      "image/png": "[encoded data removed]",
      "text/plain": [
       "<Figure size 648x576 with 2 Axes>"
      ]
     },
     "metadata": {},
     "output_type": "display_data"
    },
    {
     "data": {
      "image/png": "[encoded data removed]",
      "text/plain": [
       "<Figure size 648x576 with 2 Axes>"
      ]
     },
     "metadata": {},
     "output_type": "display_data"
    },
    {
     "data": {
      "text/plain": [
       "TotalCensus                 None\n",
       "AbstentionPtge              None\n",
       "Izda_Pct                    None\n",
       "Dcha_Pct                    None\n",
       "Otros_Pct                   None\n",
       "WomanPopulationPtge         None\n",
       "ForeignersPtge              None\n",
       "SameComAutonPtge            None\n",
       "SameComAutonDiffProvPtge    None\n",
       "dtype: object"
      ]
     },
     "execution_count": 320,
     "metadata": {},
     "output_type": "execute_result"
    }
   ],
   "source": [
    "def plot(col):\n",
    "       histogram_boxplot(col, xlabel = col.name, title = 'Distibución continua')\n",
    "elecciones.iloc[:,1:10].apply(plot)\n"
   ]
  },
  {
   "cell_type": "markdown",
   "id": "d28a92e5",
   "metadata": {},
   "source": [
    "Veamos si existen valores atípicos. Para ello hacemos asimetría."
   ]
  },
  {
   "cell_type": "code",
   "execution_count": 321,
   "id": "b46b1efd",
   "metadata": {},
   "outputs": [
    {
     "data": {
      "text/plain": [
       "Population                  45.996406\n",
       "TotalCensus                 46.510817\n",
       "AbstentionPtge              -0.049941\n",
       "Izda_Pct                     0.059920\n",
       "Dcha_Pct                    -0.468014\n",
       "Otros_Pct                    1.801732\n",
       "WomanPopulationPtge         -1.671491\n",
       "ForeignersPtge               2.497559\n",
       "SameComAutonPtge            -1.521517\n",
       "SameComAutonDiffProvPtge     3.287183\n",
       "dtype: float64"
      ]
     },
     "execution_count": 321,
     "metadata": {},
     "output_type": "execute_result"
    }
   ],
   "source": [
    "elecciones.select_dtypes(include=np.number).apply(lambda x: x.skew())\n"
   ]
  },
  {
   "cell_type": "markdown",
   "id": "12c25623",
   "metadata": {},
   "source": [
    "Podemos observar como `Population` y `TotalCensus` son valores muy asimétricos, así mismo `Otros_Pct` y `WomanPopulationPtg`e también lo son según coeficiente de Asimetría de Fisher. Aplicamos método Winsor para colapsar los valores."
   ]
  },
  {
   "cell_type": "code",
   "execution_count": 8,
   "id": "3179d18d",
   "metadata": {},
   "outputs": [],
   "source": [
    "def winsorize_with_pandas(s, limits):\n",
    "    return s.clip(lower=s.quantile(limits[0], interpolation='lower'), \n",
    "                  upper=s.quantile(1-limits[1], interpolation='higher'))\n"
   ]
  },
  {
   "cell_type": "code",
   "execution_count": 9,
   "id": "48c249c9",
   "metadata": {
    "scrolled": true
   },
   "outputs": [
    {
     "name": "stdout",
     "output_type": "stream",
     "text": [
      "Population\n",
      "TotalCensus\n",
      "AbstentionPtge\n",
      "Izda_Pct\n",
      "Dcha_Pct\n",
      "Otros_Pct\n",
      "WomanPopulationPtge\n",
      "ForeignersPtge\n",
      "SameComAutonPtge\n",
      "SameComAutonDiffProvPtge\n"
     ]
    },
    {
     "data": {
      "text/html": [
       "<div>\n",
       "<style scoped>\n",
       "    .dataframe tbody tr th:only-of-type {\n",
       "        vertical-align: middle;\n",
       "    }\n",
       "\n",
       "    .dataframe tbody tr th {\n",
       "        vertical-align: top;\n",
       "    }\n",
       "\n",
       "    .dataframe thead th {\n",
       "        text-align: right;\n",
       "    }\n",
       "</style>\n",
       "<table border=\"1\" class=\"dataframe\">\n",
       "  <thead>\n",
       "    <tr style=\"text-align: right;\">\n",
       "      <th></th>\n",
       "      <th>Population</th>\n",
       "      <th>TotalCensus</th>\n",
       "      <th>AbstentionPtge</th>\n",
       "      <th>Izda_Pct</th>\n",
       "      <th>Dcha_Pct</th>\n",
       "      <th>Otros_Pct</th>\n",
       "      <th>WomanPopulationPtge</th>\n",
       "      <th>ForeignersPtge</th>\n",
       "      <th>SameComAutonPtge</th>\n",
       "      <th>SameComAutonDiffProvPtge</th>\n",
       "    </tr>\n",
       "  </thead>\n",
       "  <tbody>\n",
       "    <tr>\n",
       "      <th>0</th>\n",
       "      <td>0.000000</td>\n",
       "      <td>0.000000</td>\n",
       "      <td>0.0</td>\n",
       "      <td>0.0</td>\n",
       "      <td>0.0</td>\n",
       "      <td>0.0</td>\n",
       "      <td>0.123168</td>\n",
       "      <td>0.000000</td>\n",
       "      <td>0.012317</td>\n",
       "      <td>0.000000</td>\n",
       "    </tr>\n",
       "    <tr>\n",
       "      <th>1</th>\n",
       "      <td>1.391797</td>\n",
       "      <td>1.243996</td>\n",
       "      <td>0.0</td>\n",
       "      <td>0.0</td>\n",
       "      <td>0.0</td>\n",
       "      <td>0.0</td>\n",
       "      <td>0.000000</td>\n",
       "      <td>0.320236</td>\n",
       "      <td>0.000000</td>\n",
       "      <td>0.886809</td>\n",
       "    </tr>\n",
       "    <tr>\n",
       "      <th>2</th>\n",
       "      <td>1.391797</td>\n",
       "      <td>1.243996</td>\n",
       "      <td>0.0</td>\n",
       "      <td>0.0</td>\n",
       "      <td>0.0</td>\n",
       "      <td>0.0</td>\n",
       "      <td>0.123168</td>\n",
       "      <td>0.320236</td>\n",
       "      <td>0.012317</td>\n",
       "      <td>0.886809</td>\n",
       "    </tr>\n",
       "  </tbody>\n",
       "</table>\n",
       "</div>"
      ],
      "text/plain": [
       "   Population  TotalCensus  AbstentionPtge  Izda_Pct  Dcha_Pct  Otros_Pct  \\\n",
       "0    0.000000     0.000000             0.0       0.0       0.0        0.0   \n",
       "1    1.391797     1.243996             0.0       0.0       0.0        0.0   \n",
       "2    1.391797     1.243996             0.0       0.0       0.0        0.0   \n",
       "\n",
       "   WomanPopulationPtge  ForeignersPtge  SameComAutonPtge  \\\n",
       "0             0.123168        0.000000          0.012317   \n",
       "1             0.000000        0.320236          0.000000   \n",
       "2             0.123168        0.320236          0.012317   \n",
       "\n",
       "   SameComAutonDiffProvPtge  \n",
       "0                  0.000000  \n",
       "1                  0.886809  \n",
       "2                  0.886809  "
      ]
     },
     "execution_count": 9,
     "metadata": {},
     "output_type": "execute_result"
    }
   ],
   "source": [
    "\n",
    "def gestiona_outliers(col,clas = 'check'):\n",
    "    \n",
    "     print(col.name)\n",
    "   \n",
    "     if abs(col.skew()) < 1:\n",
    "        criterio1 = abs((col-col.mean())/col.std())>3 \n",
    "     else:\n",
    "        criterio1 = abs((col-col.median())/col.mad())>8\n",
    "     \n",
    "          \n",
    "     q1 = col.quantile(0.25)  \n",
    "    \n",
    "     q3 = col.quantile(0.75)\n",
    "   \n",
    "     IQR=q3-q1\n",
    "     \n",
    "     criterio2 = (col<(q1 - 3*IQR))|(col>(q3 + 3*IQR)) # | significa \"o\"\n",
    "     lower = col[criterio1&criterio2&(col<q1)].count()/col.dropna().count() #contamos lower y calculamos proporción s/válidos, cumplen criterio 1y2 y además col por debajo de q1\n",
    "     upper = col[criterio1&criterio2&(col>q3)].count()/col.dropna().count()\n",
    "       \n",
    "     if clas == 'check': \n",
    "            return(lower*100,upper*100,(lower+upper)*100)\n",
    "     elif clas == 'winsor':\n",
    "            return(winsorize_with_pandas(col,(lower,upper))) \n",
    "     elif clas == 'miss':\n",
    "            print('\\n MissingAntes: ' + str(col.isna().sum())) \n",
    "            col.loc[criterio1&criterio2] = np.nan \n",
    "            print('MissingDespues: ' + str(col.isna().sum()) +'\\n') \n",
    "            return(col) \n",
    "\n",
    "          \n",
    "\n",
    "elecciones.select_dtypes(include=np.number).copy().apply(lambda x: gestiona_outliers(x))"
   ]
  },
  {
   "cell_type": "markdown",
   "id": "53d59462",
   "metadata": {},
   "source": [
    "Se trata de identificar outliers lo cual necesariamente han de ser pocos. Si son el 20% o más de los registros, probablemente sean dos poblaciones diferentes y habría que tratarlo de diferente forma. En este caso vemos en la fila 0 los lower, fila 1 los upper y en la 2 los totales. Se puede observar como están por debajo del 2% por lo que se trata simplemente de valores atípicos."
   ]
  },
  {
   "cell_type": "code",
   "execution_count": 324,
   "id": "3a1aa16e",
   "metadata": {},
   "outputs": [
    {
     "data": {
      "text/html": [
       "<div>\n",
       "<style scoped>\n",
       "    .dataframe tbody tr th:only-of-type {\n",
       "        vertical-align: middle;\n",
       "    }\n",
       "\n",
       "    .dataframe tbody tr th {\n",
       "        vertical-align: top;\n",
       "    }\n",
       "\n",
       "    .dataframe thead th {\n",
       "        text-align: right;\n",
       "    }\n",
       "</style>\n",
       "<table border=\"1\" class=\"dataframe\">\n",
       "  <thead>\n",
       "    <tr style=\"text-align: right;\">\n",
       "      <th></th>\n",
       "      <th>Population</th>\n",
       "      <th>TotalCensus</th>\n",
       "      <th>AbstentionPtge</th>\n",
       "      <th>Izda_Pct</th>\n",
       "      <th>Dcha_Pct</th>\n",
       "      <th>Otros_Pct</th>\n",
       "      <th>WomanPopulationPtge</th>\n",
       "      <th>ForeignersPtge</th>\n",
       "      <th>SameComAutonPtge</th>\n",
       "      <th>SameComAutonDiffProvPtge</th>\n",
       "    </tr>\n",
       "  </thead>\n",
       "  <tbody>\n",
       "    <tr>\n",
       "      <th>count</th>\n",
       "      <td>8.119000e+03</td>\n",
       "      <td>8.119000e+03</td>\n",
       "      <td>8119.000000</td>\n",
       "      <td>8119.000000</td>\n",
       "      <td>8119.000000</td>\n",
       "      <td>8119.000000</td>\n",
       "      <td>8119.000000</td>\n",
       "      <td>8119.000000</td>\n",
       "      <td>8119.000000</td>\n",
       "      <td>8119.000000</td>\n",
       "    </tr>\n",
       "    <tr>\n",
       "      <th>mean</th>\n",
       "      <td>5.741855e+03</td>\n",
       "      <td>4.260666e+03</td>\n",
       "      <td>26.506951</td>\n",
       "      <td>34.403789</td>\n",
       "      <td>48.915409</td>\n",
       "      <td>14.666183</td>\n",
       "      <td>47.302755</td>\n",
       "      <td>5.619553</td>\n",
       "      <td>81.629141</td>\n",
       "      <td>4.336688</td>\n",
       "    </tr>\n",
       "    <tr>\n",
       "      <th>std</th>\n",
       "      <td>4.621520e+04</td>\n",
       "      <td>3.442889e+04</td>\n",
       "      <td>7.540091</td>\n",
       "      <td>16.482285</td>\n",
       "      <td>19.945087</td>\n",
       "      <td>25.093642</td>\n",
       "      <td>4.361907</td>\n",
       "      <td>7.348553</td>\n",
       "      <td>12.289063</td>\n",
       "      <td>6.394440</td>\n",
       "    </tr>\n",
       "    <tr>\n",
       "      <th>min</th>\n",
       "      <td>5.000000e+00</td>\n",
       "      <td>5.000000e+00</td>\n",
       "      <td>0.000000</td>\n",
       "      <td>0.000000</td>\n",
       "      <td>0.000000</td>\n",
       "      <td>0.000000</td>\n",
       "      <td>11.765000</td>\n",
       "      <td>-8.960000</td>\n",
       "      <td>0.000000</td>\n",
       "      <td>0.000000</td>\n",
       "    </tr>\n",
       "    <tr>\n",
       "      <th>25%</th>\n",
       "      <td>1.660000e+02</td>\n",
       "      <td>1.400000e+02</td>\n",
       "      <td>21.678000</td>\n",
       "      <td>21.892500</td>\n",
       "      <td>38.690500</td>\n",
       "      <td>0.759500</td>\n",
       "      <td>45.725000</td>\n",
       "      <td>1.060000</td>\n",
       "      <td>75.806000</td>\n",
       "      <td>0.676000</td>\n",
       "    </tr>\n",
       "    <tr>\n",
       "      <th>50%</th>\n",
       "      <td>5.490000e+02</td>\n",
       "      <td>4.470000e+02</td>\n",
       "      <td>26.429000</td>\n",
       "      <td>35.165000</td>\n",
       "      <td>51.582000</td>\n",
       "      <td>1.883000</td>\n",
       "      <td>48.485000</td>\n",
       "      <td>3.590000</td>\n",
       "      <td>84.493000</td>\n",
       "      <td>2.190000</td>\n",
       "    </tr>\n",
       "    <tr>\n",
       "      <th>75%</th>\n",
       "      <td>2.427500e+03</td>\n",
       "      <td>1.846500e+03</td>\n",
       "      <td>31.475000</td>\n",
       "      <td>46.032000</td>\n",
       "      <td>62.201000</td>\n",
       "      <td>16.497000</td>\n",
       "      <td>50.000000</td>\n",
       "      <td>8.180000</td>\n",
       "      <td>90.462000</td>\n",
       "      <td>5.277000</td>\n",
       "    </tr>\n",
       "    <tr>\n",
       "      <th>max</th>\n",
       "      <td>3.141991e+06</td>\n",
       "      <td>2.363829e+06</td>\n",
       "      <td>57.576000</td>\n",
       "      <td>94.117000</td>\n",
       "      <td>100.000000</td>\n",
       "      <td>100.000000</td>\n",
       "      <td>72.683000</td>\n",
       "      <td>71.470000</td>\n",
       "      <td>127.156000</td>\n",
       "      <td>67.308000</td>\n",
       "    </tr>\n",
       "  </tbody>\n",
       "</table>\n",
       "</div>"
      ],
      "text/plain": [
       "         Population   TotalCensus  AbstentionPtge     Izda_Pct     Dcha_Pct  \\\n",
       "count  8.119000e+03  8.119000e+03     8119.000000  8119.000000  8119.000000   \n",
       "mean   5.741855e+03  4.260666e+03       26.506951    34.403789    48.915409   \n",
       "std    4.621520e+04  3.442889e+04        7.540091    16.482285    19.945087   \n",
       "min    5.000000e+00  5.000000e+00        0.000000     0.000000     0.000000   \n",
       "25%    1.660000e+02  1.400000e+02       21.678000    21.892500    38.690500   \n",
       "50%    5.490000e+02  4.470000e+02       26.429000    35.165000    51.582000   \n",
       "75%    2.427500e+03  1.846500e+03       31.475000    46.032000    62.201000   \n",
       "max    3.141991e+06  2.363829e+06       57.576000    94.117000   100.000000   \n",
       "\n",
       "         Otros_Pct  WomanPopulationPtge  ForeignersPtge  SameComAutonPtge  \\\n",
       "count  8119.000000          8119.000000     8119.000000       8119.000000   \n",
       "mean     14.666183            47.302755        5.619553         81.629141   \n",
       "std      25.093642             4.361907        7.348553         12.289063   \n",
       "min       0.000000            11.765000       -8.960000          0.000000   \n",
       "25%       0.759500            45.725000        1.060000         75.806000   \n",
       "50%       1.883000            48.485000        3.590000         84.493000   \n",
       "75%      16.497000            50.000000        8.180000         90.462000   \n",
       "max     100.000000            72.683000       71.470000        127.156000   \n",
       "\n",
       "       SameComAutonDiffProvPtge  \n",
       "count               8119.000000  \n",
       "mean                   4.336688  \n",
       "std                    6.394440  \n",
       "min                    0.000000  \n",
       "25%                    0.676000  \n",
       "50%                    2.190000  \n",
       "75%                    5.277000  \n",
       "max                   67.308000  "
      ]
     },
     "execution_count": 324,
     "metadata": {},
     "output_type": "execute_result"
    }
   ],
   "source": [
    "elecciones.describe()"
   ]
  },
  {
   "cell_type": "markdown",
   "id": "52a11db7",
   "metadata": {},
   "source": [
    "Observando el máximo que nos brinda el describe() observamos como hay valores situados fuera de rango, concretamente los 3 ultimos registros. Todo valor fuera de rango habrá que tomarlo como valor perdido pues no podemos asignar claramente a otros valores. "
   ]
  },
  {
   "cell_type": "code",
   "execution_count": 10,
   "id": "d0b356a6",
   "metadata": {},
   "outputs": [],
   "source": [
    "elecciones.loc[~elecciones.ForeignersPtge.between(0,100), \"ForeignersPtge\"] = np.nan\n",
    "elecciones.loc[~elecciones.SameComAutonPtge.between(0,100), \"SameComAutonPtge\"] = np.nan\n",
    "elecciones.loc[~elecciones.SameComAutonDiffProvPtge.between(0,100), \"SameComAutonDiffProvPtge\"] = np.nan"
   ]
  },
  {
   "cell_type": "code",
   "execution_count": 326,
   "id": "370bd7c7",
   "metadata": {},
   "outputs": [
    {
     "data": {
      "text/html": [
       "<div>\n",
       "<style scoped>\n",
       "    .dataframe tbody tr th:only-of-type {\n",
       "        vertical-align: middle;\n",
       "    }\n",
       "\n",
       "    .dataframe tbody tr th {\n",
       "        vertical-align: top;\n",
       "    }\n",
       "\n",
       "    .dataframe thead th {\n",
       "        text-align: right;\n",
       "    }\n",
       "</style>\n",
       "<table border=\"1\" class=\"dataframe\">\n",
       "  <thead>\n",
       "    <tr style=\"text-align: right;\">\n",
       "      <th></th>\n",
       "      <th>Population</th>\n",
       "      <th>TotalCensus</th>\n",
       "      <th>AbstentionPtge</th>\n",
       "      <th>Izda_Pct</th>\n",
       "      <th>Dcha_Pct</th>\n",
       "      <th>Otros_Pct</th>\n",
       "      <th>WomanPopulationPtge</th>\n",
       "      <th>ForeignersPtge</th>\n",
       "      <th>SameComAutonPtge</th>\n",
       "      <th>SameComAutonDiffProvPtge</th>\n",
       "    </tr>\n",
       "  </thead>\n",
       "  <tbody>\n",
       "    <tr>\n",
       "      <th>count</th>\n",
       "      <td>8.119000e+03</td>\n",
       "      <td>8.119000e+03</td>\n",
       "      <td>8119.000000</td>\n",
       "      <td>8119.000000</td>\n",
       "      <td>8119.000000</td>\n",
       "      <td>8119.000000</td>\n",
       "      <td>8119.000000</td>\n",
       "      <td>7466.000000</td>\n",
       "      <td>8116.000000</td>\n",
       "      <td>8119.000000</td>\n",
       "    </tr>\n",
       "    <tr>\n",
       "      <th>mean</th>\n",
       "      <td>5.741855e+03</td>\n",
       "      <td>4.260666e+03</td>\n",
       "      <td>26.506951</td>\n",
       "      <td>34.403789</td>\n",
       "      <td>48.915409</td>\n",
       "      <td>14.666183</td>\n",
       "      <td>47.302755</td>\n",
       "      <td>6.344069</td>\n",
       "      <td>81.617870</td>\n",
       "      <td>4.336688</td>\n",
       "    </tr>\n",
       "    <tr>\n",
       "      <th>std</th>\n",
       "      <td>4.621520e+04</td>\n",
       "      <td>3.442889e+04</td>\n",
       "      <td>7.540091</td>\n",
       "      <td>16.482285</td>\n",
       "      <td>19.945087</td>\n",
       "      <td>25.093642</td>\n",
       "      <td>4.361907</td>\n",
       "      <td>7.194724</td>\n",
       "      <td>12.275589</td>\n",
       "      <td>6.394440</td>\n",
       "    </tr>\n",
       "    <tr>\n",
       "      <th>min</th>\n",
       "      <td>5.000000e+00</td>\n",
       "      <td>5.000000e+00</td>\n",
       "      <td>0.000000</td>\n",
       "      <td>0.000000</td>\n",
       "      <td>0.000000</td>\n",
       "      <td>0.000000</td>\n",
       "      <td>11.765000</td>\n",
       "      <td>0.000000</td>\n",
       "      <td>0.000000</td>\n",
       "      <td>0.000000</td>\n",
       "    </tr>\n",
       "    <tr>\n",
       "      <th>25%</th>\n",
       "      <td>1.660000e+02</td>\n",
       "      <td>1.400000e+02</td>\n",
       "      <td>21.678000</td>\n",
       "      <td>21.892500</td>\n",
       "      <td>38.690500</td>\n",
       "      <td>0.759500</td>\n",
       "      <td>45.725000</td>\n",
       "      <td>1.620000</td>\n",
       "      <td>75.803000</td>\n",
       "      <td>0.676000</td>\n",
       "    </tr>\n",
       "    <tr>\n",
       "      <th>50%</th>\n",
       "      <td>5.490000e+02</td>\n",
       "      <td>4.470000e+02</td>\n",
       "      <td>26.429000</td>\n",
       "      <td>35.165000</td>\n",
       "      <td>51.582000</td>\n",
       "      <td>1.883000</td>\n",
       "      <td>48.485000</td>\n",
       "      <td>4.130000</td>\n",
       "      <td>84.491000</td>\n",
       "      <td>2.190000</td>\n",
       "    </tr>\n",
       "    <tr>\n",
       "      <th>75%</th>\n",
       "      <td>2.427500e+03</td>\n",
       "      <td>1.846500e+03</td>\n",
       "      <td>31.475000</td>\n",
       "      <td>46.032000</td>\n",
       "      <td>62.201000</td>\n",
       "      <td>16.497000</td>\n",
       "      <td>50.000000</td>\n",
       "      <td>8.810000</td>\n",
       "      <td>90.459000</td>\n",
       "      <td>5.277000</td>\n",
       "    </tr>\n",
       "    <tr>\n",
       "      <th>max</th>\n",
       "      <td>3.141991e+06</td>\n",
       "      <td>2.363829e+06</td>\n",
       "      <td>57.576000</td>\n",
       "      <td>94.117000</td>\n",
       "      <td>100.000000</td>\n",
       "      <td>100.000000</td>\n",
       "      <td>72.683000</td>\n",
       "      <td>71.470000</td>\n",
       "      <td>100.000000</td>\n",
       "      <td>67.308000</td>\n",
       "    </tr>\n",
       "  </tbody>\n",
       "</table>\n",
       "</div>"
      ],
      "text/plain": [
       "         Population   TotalCensus  AbstentionPtge     Izda_Pct     Dcha_Pct  \\\n",
       "count  8.119000e+03  8.119000e+03     8119.000000  8119.000000  8119.000000   \n",
       "mean   5.741855e+03  4.260666e+03       26.506951    34.403789    48.915409   \n",
       "std    4.621520e+04  3.442889e+04        7.540091    16.482285    19.945087   \n",
       "min    5.000000e+00  5.000000e+00        0.000000     0.000000     0.000000   \n",
       "25%    1.660000e+02  1.400000e+02       21.678000    21.892500    38.690500   \n",
       "50%    5.490000e+02  4.470000e+02       26.429000    35.165000    51.582000   \n",
       "75%    2.427500e+03  1.846500e+03       31.475000    46.032000    62.201000   \n",
       "max    3.141991e+06  2.363829e+06       57.576000    94.117000   100.000000   \n",
       "\n",
       "         Otros_Pct  WomanPopulationPtge  ForeignersPtge  SameComAutonPtge  \\\n",
       "count  8119.000000          8119.000000     7466.000000       8116.000000   \n",
       "mean     14.666183            47.302755        6.344069         81.617870   \n",
       "std      25.093642             4.361907        7.194724         12.275589   \n",
       "min       0.000000            11.765000        0.000000          0.000000   \n",
       "25%       0.759500            45.725000        1.620000         75.803000   \n",
       "50%       1.883000            48.485000        4.130000         84.491000   \n",
       "75%      16.497000            50.000000        8.810000         90.459000   \n",
       "max     100.000000            72.683000       71.470000        100.000000   \n",
       "\n",
       "       SameComAutonDiffProvPtge  \n",
       "count               8119.000000  \n",
       "mean                   4.336688  \n",
       "std                    6.394440  \n",
       "min                    0.000000  \n",
       "25%                    0.676000  \n",
       "50%                    2.190000  \n",
       "75%                    5.277000  \n",
       "max                   67.308000  "
      ]
     },
     "execution_count": 326,
     "metadata": {},
     "output_type": "execute_result"
    }
   ],
   "source": [
    "elecciones.describe()"
   ]
  },
  {
   "cell_type": "markdown",
   "id": "654d2d90",
   "metadata": {},
   "source": [
    "Estos valores se convierten en NaN pero ya tenemos los rangos ajustados de los 3 últimos 0-100 por ser un porcentaje."
   ]
  },
  {
   "cell_type": "markdown",
   "id": "ac2e275e",
   "metadata": {},
   "source": [
    "Agregaremos los valores por CCAA distinguiendo entre valores relativos (agregación por la media) y valores absolutos (agregación por suma)."
   ]
  },
  {
   "cell_type": "code",
   "execution_count": 11,
   "id": "cabde363",
   "metadata": {},
   "outputs": [],
   "source": [
    "#Concatenamos nuestra variable objetivo con el resto de datos numéricos.\n",
    "dataCCAA = pd.concat((data.CCAA, elecciones),axis=1)"
   ]
  },
  {
   "cell_type": "code",
   "execution_count": 12,
   "id": "19c7f5de",
   "metadata": {},
   "outputs": [
    {
     "data": {
      "text/html": [
       "<div>\n",
       "<style scoped>\n",
       "    .dataframe tbody tr th:only-of-type {\n",
       "        vertical-align: middle;\n",
       "    }\n",
       "\n",
       "    .dataframe tbody tr th {\n",
       "        vertical-align: top;\n",
       "    }\n",
       "\n",
       "    .dataframe thead th {\n",
       "        text-align: right;\n",
       "    }\n",
       "</style>\n",
       "<table border=\"1\" class=\"dataframe\">\n",
       "  <thead>\n",
       "    <tr style=\"text-align: right;\">\n",
       "      <th></th>\n",
       "      <th>Population</th>\n",
       "      <th>TotalCensus</th>\n",
       "      <th>AbstentionPtge</th>\n",
       "      <th>Izda_Pct</th>\n",
       "      <th>Dcha_Pct</th>\n",
       "      <th>Otros_Pct</th>\n",
       "      <th>WomanPopulationPtge</th>\n",
       "      <th>ForeignersPtge</th>\n",
       "      <th>SameComAutonPtge</th>\n",
       "      <th>SameComAutonDiffProvPtge</th>\n",
       "    </tr>\n",
       "    <tr>\n",
       "      <th>CCAA</th>\n",
       "      <th></th>\n",
       "      <th></th>\n",
       "      <th></th>\n",
       "      <th></th>\n",
       "      <th></th>\n",
       "      <th></th>\n",
       "      <th></th>\n",
       "      <th></th>\n",
       "      <th></th>\n",
       "      <th></th>\n",
       "    </tr>\n",
       "  </thead>\n",
       "  <tbody>\n",
       "    <tr>\n",
       "      <th>Andalucía</th>\n",
       "      <td>10858.494179</td>\n",
       "      <td>8124.034929</td>\n",
       "      <td>28.702028</td>\n",
       "      <td>55.177999</td>\n",
       "      <td>41.409270</td>\n",
       "      <td>1.355818</td>\n",
       "      <td>49.366288</td>\n",
       "      <td>6.268234</td>\n",
       "      <td>87.369347</td>\n",
       "      <td>4.822617</td>\n",
       "    </tr>\n",
       "    <tr>\n",
       "      <th>Aragón</th>\n",
       "      <td>1802.800274</td>\n",
       "      <td>1346.496580</td>\n",
       "      <td>25.033557</td>\n",
       "      <td>41.598175</td>\n",
       "      <td>54.711115</td>\n",
       "      <td>1.783967</td>\n",
       "      <td>45.753094</td>\n",
       "      <td>7.410950</td>\n",
       "      <td>79.417042</td>\n",
       "      <td>4.933471</td>\n",
       "    </tr>\n",
       "    <tr>\n",
       "      <th>Asturias</th>\n",
       "      <td>13477.294872</td>\n",
       "      <td>11181.153846</td>\n",
       "      <td>33.762987</td>\n",
       "      <td>49.701974</td>\n",
       "      <td>46.295385</td>\n",
       "      <td>1.860462</td>\n",
       "      <td>49.841897</td>\n",
       "      <td>2.600959</td>\n",
       "      <td>86.720308</td>\n",
       "      <td>0.000000</td>\n",
       "    </tr>\n",
       "    <tr>\n",
       "      <th>Baleares</th>\n",
       "      <td>16484.761194</td>\n",
       "      <td>11180.074627</td>\n",
       "      <td>33.574701</td>\n",
       "      <td>44.388761</td>\n",
       "      <td>48.681119</td>\n",
       "      <td>4.588448</td>\n",
       "      <td>49.460373</td>\n",
       "      <td>16.095000</td>\n",
       "      <td>64.388284</td>\n",
       "      <td>0.000000</td>\n",
       "    </tr>\n",
       "    <tr>\n",
       "      <th>Canarias</th>\n",
       "      <td>23867.113636</td>\n",
       "      <td>17449.875000</td>\n",
       "      <td>34.843398</td>\n",
       "      <td>39.926080</td>\n",
       "      <td>45.635125</td>\n",
       "      <td>12.472602</td>\n",
       "      <td>49.451693</td>\n",
       "      <td>11.479125</td>\n",
       "      <td>76.895852</td>\n",
       "      <td>1.359284</td>\n",
       "    </tr>\n",
       "    <tr>\n",
       "      <th>Cantabria</th>\n",
       "      <td>5737.049020</td>\n",
       "      <td>4536.245098</td>\n",
       "      <td>26.880235</td>\n",
       "      <td>38.197441</td>\n",
       "      <td>58.299588</td>\n",
       "      <td>1.602990</td>\n",
       "      <td>47.716373</td>\n",
       "      <td>3.330575</td>\n",
       "      <td>81.739010</td>\n",
       "      <td>0.000000</td>\n",
       "    </tr>\n",
       "    <tr>\n",
       "      <th>CastillaLeón</th>\n",
       "      <td>1099.667260</td>\n",
       "      <td>885.501335</td>\n",
       "      <td>23.822925</td>\n",
       "      <td>31.514937</td>\n",
       "      <td>64.860948</td>\n",
       "      <td>1.457867</td>\n",
       "      <td>45.622654</td>\n",
       "      <td>3.829932</td>\n",
       "      <td>86.501724</td>\n",
       "      <td>4.338598</td>\n",
       "    </tr>\n",
       "    <tr>\n",
       "      <th>CastillaMancha</th>\n",
       "      <td>2240.686616</td>\n",
       "      <td>1675.803047</td>\n",
       "      <td>22.698995</td>\n",
       "      <td>42.159800</td>\n",
       "      <td>54.733021</td>\n",
       "      <td>1.301682</td>\n",
       "      <td>46.331884</td>\n",
       "      <td>7.221686</td>\n",
       "      <td>73.252835</td>\n",
       "      <td>2.051165</td>\n",
       "    </tr>\n",
       "    <tr>\n",
       "      <th>Cataluña</th>\n",
       "      <td>7928.306230</td>\n",
       "      <td>5610.942978</td>\n",
       "      <td>34.286721</td>\n",
       "      <td>9.709147</td>\n",
       "      <td>15.489498</td>\n",
       "      <td>72.753068</td>\n",
       "      <td>48.409210</td>\n",
       "      <td>9.184219</td>\n",
       "      <td>78.891256</td>\n",
       "      <td>11.746153</td>\n",
       "    </tr>\n",
       "    <tr>\n",
       "      <th>Ceuta</th>\n",
       "      <td>84263.000000</td>\n",
       "      <td>59125.000000</td>\n",
       "      <td>47.411000</td>\n",
       "      <td>33.027000</td>\n",
       "      <td>62.709000</td>\n",
       "      <td>2.103000</td>\n",
       "      <td>49.258000</td>\n",
       "      <td>6.110000</td>\n",
       "      <td>68.254000</td>\n",
       "      <td>0.611000</td>\n",
       "    </tr>\n",
       "    <tr>\n",
       "      <th>ComValenciana</th>\n",
       "      <td>9189.463100</td>\n",
       "      <td>6494.356089</td>\n",
       "      <td>21.888273</td>\n",
       "      <td>22.619101</td>\n",
       "      <td>49.068886</td>\n",
       "      <td>26.468162</td>\n",
       "      <td>48.963561</td>\n",
       "      <td>11.743380</td>\n",
       "      <td>76.264280</td>\n",
       "      <td>3.765277</td>\n",
       "    </tr>\n",
       "    <tr>\n",
       "      <th>Extremadura</th>\n",
       "      <td>2822.121447</td>\n",
       "      <td>2275.312661</td>\n",
       "      <td>26.541096</td>\n",
       "      <td>51.445243</td>\n",
       "      <td>45.760687</td>\n",
       "      <td>0.799522</td>\n",
       "      <td>49.124680</td>\n",
       "      <td>2.158768</td>\n",
       "      <td>87.220801</td>\n",
       "      <td>1.285031</td>\n",
       "    </tr>\n",
       "    <tr>\n",
       "      <th>Galicia</th>\n",
       "      <td>8701.742038</td>\n",
       "      <td>7190.894904</td>\n",
       "      <td>30.870268</td>\n",
       "      <td>22.624306</td>\n",
       "      <td>55.873277</td>\n",
       "      <td>19.151248</td>\n",
       "      <td>50.631452</td>\n",
       "      <td>2.466771</td>\n",
       "      <td>89.702385</td>\n",
       "      <td>3.962522</td>\n",
       "    </tr>\n",
       "    <tr>\n",
       "      <th>Madrid</th>\n",
       "      <td>35960.871508</td>\n",
       "      <td>26049.469274</td>\n",
       "      <td>25.072363</td>\n",
       "      <td>38.733570</td>\n",
       "      <td>57.527793</td>\n",
       "      <td>2.380844</td>\n",
       "      <td>48.564251</td>\n",
       "      <td>12.341173</td>\n",
       "      <td>68.252648</td>\n",
       "      <td>0.000000</td>\n",
       "    </tr>\n",
       "    <tr>\n",
       "      <th>Melilla</th>\n",
       "      <td>85584.000000</td>\n",
       "      <td>53307.000000</td>\n",
       "      <td>48.650000</td>\n",
       "      <td>34.417000</td>\n",
       "      <td>61.451000</td>\n",
       "      <td>1.838000</td>\n",
       "      <td>49.064000</td>\n",
       "      <td>15.120000</td>\n",
       "      <td>59.947000</td>\n",
       "      <td>0.361000</td>\n",
       "    </tr>\n",
       "    <tr>\n",
       "      <th>Murcia</th>\n",
       "      <td>32606.400000</td>\n",
       "      <td>22336.755556</td>\n",
       "      <td>27.383689</td>\n",
       "      <td>37.337111</td>\n",
       "      <td>59.297022</td>\n",
       "      <td>1.840911</td>\n",
       "      <td>49.159578</td>\n",
       "      <td>13.127619</td>\n",
       "      <td>76.572756</td>\n",
       "      <td>0.000000</td>\n",
       "    </tr>\n",
       "    <tr>\n",
       "      <th>Navarra</th>\n",
       "      <td>2354.691176</td>\n",
       "      <td>1756.371324</td>\n",
       "      <td>30.024482</td>\n",
       "      <td>40.204996</td>\n",
       "      <td>35.973989</td>\n",
       "      <td>21.495937</td>\n",
       "      <td>46.936813</td>\n",
       "      <td>5.123451</td>\n",
       "      <td>79.697886</td>\n",
       "      <td>0.000000</td>\n",
       "    </tr>\n",
       "    <tr>\n",
       "      <th>PaísVasco</th>\n",
       "      <td>8722.139442</td>\n",
       "      <td>6832.501992</td>\n",
       "      <td>31.964825</td>\n",
       "      <td>31.297908</td>\n",
       "      <td>9.794203</td>\n",
       "      <td>57.420367</td>\n",
       "      <td>48.836092</td>\n",
       "      <td>5.039550</td>\n",
       "      <td>80.994072</td>\n",
       "      <td>4.823171</td>\n",
       "    </tr>\n",
       "    <tr>\n",
       "      <th>Rioja</th>\n",
       "      <td>1822.143678</td>\n",
       "      <td>1338.517241</td>\n",
       "      <td>19.049741</td>\n",
       "      <td>37.199534</td>\n",
       "      <td>59.471718</td>\n",
       "      <td>1.133764</td>\n",
       "      <td>43.487810</td>\n",
       "      <td>6.492013</td>\n",
       "      <td>76.781282</td>\n",
       "      <td>0.000000</td>\n",
       "    </tr>\n",
       "  </tbody>\n",
       "</table>\n",
       "</div>"
      ],
      "text/plain": [
       "                  Population   TotalCensus  AbstentionPtge   Izda_Pct  \\\n",
       "CCAA                                                                    \n",
       "Andalucía       10858.494179   8124.034929       28.702028  55.177999   \n",
       "Aragón           1802.800274   1346.496580       25.033557  41.598175   \n",
       "Asturias        13477.294872  11181.153846       33.762987  49.701974   \n",
       "Baleares        16484.761194  11180.074627       33.574701  44.388761   \n",
       "Canarias        23867.113636  17449.875000       34.843398  39.926080   \n",
       "Cantabria        5737.049020   4536.245098       26.880235  38.197441   \n",
       "CastillaLeón     1099.667260    885.501335       23.822925  31.514937   \n",
       "CastillaMancha   2240.686616   1675.803047       22.698995  42.159800   \n",
       "Cataluña         7928.306230   5610.942978       34.286721   9.709147   \n",
       "Ceuta           84263.000000  59125.000000       47.411000  33.027000   \n",
       "ComValenciana    9189.463100   6494.356089       21.888273  22.619101   \n",
       "Extremadura      2822.121447   2275.312661       26.541096  51.445243   \n",
       "Galicia          8701.742038   7190.894904       30.870268  22.624306   \n",
       "Madrid          35960.871508  26049.469274       25.072363  38.733570   \n",
       "Melilla         85584.000000  53307.000000       48.650000  34.417000   \n",
       "Murcia          32606.400000  22336.755556       27.383689  37.337111   \n",
       "Navarra          2354.691176   1756.371324       30.024482  40.204996   \n",
       "PaísVasco        8722.139442   6832.501992       31.964825  31.297908   \n",
       "Rioja            1822.143678   1338.517241       19.049741  37.199534   \n",
       "\n",
       "                 Dcha_Pct  Otros_Pct  WomanPopulationPtge  ForeignersPtge  \\\n",
       "CCAA                                                                        \n",
       "Andalucía       41.409270   1.355818            49.366288        6.268234   \n",
       "Aragón          54.711115   1.783967            45.753094        7.410950   \n",
       "Asturias        46.295385   1.860462            49.841897        2.600959   \n",
       "Baleares        48.681119   4.588448            49.460373       16.095000   \n",
       "Canarias        45.635125  12.472602            49.451693       11.479125   \n",
       "Cantabria       58.299588   1.602990            47.716373        3.330575   \n",
       "CastillaLeón    64.860948   1.457867            45.622654        3.829932   \n",
       "CastillaMancha  54.733021   1.301682            46.331884        7.221686   \n",
       "Cataluña        15.489498  72.753068            48.409210        9.184219   \n",
       "Ceuta           62.709000   2.103000            49.258000        6.110000   \n",
       "ComValenciana   49.068886  26.468162            48.963561       11.743380   \n",
       "Extremadura     45.760687   0.799522            49.124680        2.158768   \n",
       "Galicia         55.873277  19.151248            50.631452        2.466771   \n",
       "Madrid          57.527793   2.380844            48.564251       12.341173   \n",
       "Melilla         61.451000   1.838000            49.064000       15.120000   \n",
       "Murcia          59.297022   1.840911            49.159578       13.127619   \n",
       "Navarra         35.973989  21.495937            46.936813        5.123451   \n",
       "PaísVasco        9.794203  57.420367            48.836092        5.039550   \n",
       "Rioja           59.471718   1.133764            43.487810        6.492013   \n",
       "\n",
       "                SameComAutonPtge  SameComAutonDiffProvPtge  \n",
       "CCAA                                                        \n",
       "Andalucía              87.369347                  4.822617  \n",
       "Aragón                 79.417042                  4.933471  \n",
       "Asturias               86.720308                  0.000000  \n",
       "Baleares               64.388284                  0.000000  \n",
       "Canarias               76.895852                  1.359284  \n",
       "Cantabria              81.739010                  0.000000  \n",
       "CastillaLeón           86.501724                  4.338598  \n",
       "CastillaMancha         73.252835                  2.051165  \n",
       "Cataluña               78.891256                 11.746153  \n",
       "Ceuta                  68.254000                  0.611000  \n",
       "ComValenciana          76.264280                  3.765277  \n",
       "Extremadura            87.220801                  1.285031  \n",
       "Galicia                89.702385                  3.962522  \n",
       "Madrid                 68.252648                  0.000000  \n",
       "Melilla                59.947000                  0.361000  \n",
       "Murcia                 76.572756                  0.000000  \n",
       "Navarra                79.697886                  0.000000  \n",
       "PaísVasco              80.994072                  4.823171  \n",
       "Rioja                  76.781282                  0.000000  "
      ]
     },
     "execution_count": 12,
     "metadata": {},
     "output_type": "execute_result"
    }
   ],
   "source": [
    "#utilizamos la funcion groupby() para agrupar todas las filas por el campo CCAA y hacemos la media mean() y lo guardamos en un DF\n",
    "CCAAmean = dataCCAA.groupby('CCAA').mean()\n",
    "CCAAmean"
   ]
  },
  {
   "cell_type": "code",
   "execution_count": 13,
   "id": "cf9b7ea8",
   "metadata": {
    "scrolled": true
   },
   "outputs": [
    {
     "data": {
      "text/html": [
       "<div>\n",
       "<style scoped>\n",
       "    .dataframe tbody tr th:only-of-type {\n",
       "        vertical-align: middle;\n",
       "    }\n",
       "\n",
       "    .dataframe tbody tr th {\n",
       "        vertical-align: top;\n",
       "    }\n",
       "\n",
       "    .dataframe thead th {\n",
       "        text-align: right;\n",
       "    }\n",
       "</style>\n",
       "<table border=\"1\" class=\"dataframe\">\n",
       "  <thead>\n",
       "    <tr style=\"text-align: right;\">\n",
       "      <th></th>\n",
       "      <th>Population</th>\n",
       "      <th>TotalCensus</th>\n",
       "      <th>AbstentionPtge</th>\n",
       "      <th>Izda_Pct</th>\n",
       "      <th>Dcha_Pct</th>\n",
       "      <th>Otros_Pct</th>\n",
       "      <th>WomanPopulationPtge</th>\n",
       "      <th>ForeignersPtge</th>\n",
       "      <th>SameComAutonPtge</th>\n",
       "      <th>SameComAutonDiffProvPtge</th>\n",
       "    </tr>\n",
       "    <tr>\n",
       "      <th>CCAA</th>\n",
       "      <th></th>\n",
       "      <th></th>\n",
       "      <th></th>\n",
       "      <th></th>\n",
       "      <th></th>\n",
       "      <th></th>\n",
       "      <th></th>\n",
       "      <th></th>\n",
       "      <th></th>\n",
       "      <th></th>\n",
       "    </tr>\n",
       "  </thead>\n",
       "  <tbody>\n",
       "    <tr>\n",
       "      <th>Andalucía</th>\n",
       "      <td>8393616</td>\n",
       "      <td>6279879</td>\n",
       "      <td>22186.668</td>\n",
       "      <td>42652.593</td>\n",
       "      <td>32009.366</td>\n",
       "      <td>1048.047</td>\n",
       "      <td>38160.141</td>\n",
       "      <td>4544.47</td>\n",
       "      <td>67274.397</td>\n",
       "      <td>3727.883</td>\n",
       "    </tr>\n",
       "    <tr>\n",
       "      <th>Aragón</th>\n",
       "      <td>1317847</td>\n",
       "      <td>984289</td>\n",
       "      <td>18299.530</td>\n",
       "      <td>30408.266</td>\n",
       "      <td>39993.825</td>\n",
       "      <td>1304.080</td>\n",
       "      <td>33445.512</td>\n",
       "      <td>4994.98</td>\n",
       "      <td>58053.858</td>\n",
       "      <td>3606.367</td>\n",
       "    </tr>\n",
       "    <tr>\n",
       "      <th>Asturias</th>\n",
       "      <td>1051229</td>\n",
       "      <td>872130</td>\n",
       "      <td>2633.513</td>\n",
       "      <td>3876.754</td>\n",
       "      <td>3611.040</td>\n",
       "      <td>145.116</td>\n",
       "      <td>3887.668</td>\n",
       "      <td>189.87</td>\n",
       "      <td>6764.184</td>\n",
       "      <td>0.000</td>\n",
       "    </tr>\n",
       "    <tr>\n",
       "      <th>Baleares</th>\n",
       "      <td>1104479</td>\n",
       "      <td>749065</td>\n",
       "      <td>2249.505</td>\n",
       "      <td>2974.047</td>\n",
       "      <td>3261.635</td>\n",
       "      <td>307.426</td>\n",
       "      <td>3313.845</td>\n",
       "      <td>965.70</td>\n",
       "      <td>4314.015</td>\n",
       "      <td>0.000</td>\n",
       "    </tr>\n",
       "    <tr>\n",
       "      <th>Canarias</th>\n",
       "      <td>2100306</td>\n",
       "      <td>1535589</td>\n",
       "      <td>3066.219</td>\n",
       "      <td>3513.495</td>\n",
       "      <td>4015.891</td>\n",
       "      <td>1097.589</td>\n",
       "      <td>4351.749</td>\n",
       "      <td>918.33</td>\n",
       "      <td>6766.835</td>\n",
       "      <td>119.617</td>\n",
       "    </tr>\n",
       "    <tr>\n",
       "      <th>Cantabria</th>\n",
       "      <td>585179</td>\n",
       "      <td>462697</td>\n",
       "      <td>2741.784</td>\n",
       "      <td>3896.139</td>\n",
       "      <td>5946.558</td>\n",
       "      <td>163.505</td>\n",
       "      <td>4867.070</td>\n",
       "      <td>289.76</td>\n",
       "      <td>8337.379</td>\n",
       "      <td>0.000</td>\n",
       "    </tr>\n",
       "    <tr>\n",
       "      <th>CastillaLeón</th>\n",
       "      <td>2472052</td>\n",
       "      <td>1990607</td>\n",
       "      <td>53553.936</td>\n",
       "      <td>70845.579</td>\n",
       "      <td>145807.411</td>\n",
       "      <td>3277.286</td>\n",
       "      <td>102559.726</td>\n",
       "      <td>7897.32</td>\n",
       "      <td>194455.876</td>\n",
       "      <td>9753.168</td>\n",
       "    </tr>\n",
       "    <tr>\n",
       "      <th>CastillaMancha</th>\n",
       "      <td>2059191</td>\n",
       "      <td>1540063</td>\n",
       "      <td>20860.376</td>\n",
       "      <td>38744.856</td>\n",
       "      <td>50299.646</td>\n",
       "      <td>1196.246</td>\n",
       "      <td>42579.001</td>\n",
       "      <td>6080.66</td>\n",
       "      <td>67319.355</td>\n",
       "      <td>1885.021</td>\n",
       "    </tr>\n",
       "    <tr>\n",
       "      <th>Cataluña</th>\n",
       "      <td>7508106</td>\n",
       "      <td>5313563</td>\n",
       "      <td>32469.525</td>\n",
       "      <td>9194.562</td>\n",
       "      <td>14668.555</td>\n",
       "      <td>68897.155</td>\n",
       "      <td>45843.522</td>\n",
       "      <td>8118.85</td>\n",
       "      <td>74710.019</td>\n",
       "      <td>11123.607</td>\n",
       "    </tr>\n",
       "    <tr>\n",
       "      <th>Ceuta</th>\n",
       "      <td>84263</td>\n",
       "      <td>59125</td>\n",
       "      <td>47.411</td>\n",
       "      <td>33.027</td>\n",
       "      <td>62.709</td>\n",
       "      <td>2.103</td>\n",
       "      <td>49.258</td>\n",
       "      <td>6.11</td>\n",
       "      <td>68.254</td>\n",
       "      <td>0.611</td>\n",
       "    </tr>\n",
       "    <tr>\n",
       "      <th>ComValenciana</th>\n",
       "      <td>4980689</td>\n",
       "      <td>3519941</td>\n",
       "      <td>11863.444</td>\n",
       "      <td>12259.553</td>\n",
       "      <td>26595.336</td>\n",
       "      <td>14345.744</td>\n",
       "      <td>26538.250</td>\n",
       "      <td>5871.69</td>\n",
       "      <td>41335.240</td>\n",
       "      <td>2040.780</td>\n",
       "    </tr>\n",
       "    <tr>\n",
       "      <th>Extremadura</th>\n",
       "      <td>1092161</td>\n",
       "      <td>880546</td>\n",
       "      <td>10271.404</td>\n",
       "      <td>19909.309</td>\n",
       "      <td>17709.386</td>\n",
       "      <td>309.415</td>\n",
       "      <td>19011.251</td>\n",
       "      <td>753.41</td>\n",
       "      <td>33754.450</td>\n",
       "      <td>497.307</td>\n",
       "    </tr>\n",
       "    <tr>\n",
       "      <th>Galicia</th>\n",
       "      <td>2732347</td>\n",
       "      <td>2257941</td>\n",
       "      <td>9693.264</td>\n",
       "      <td>7104.032</td>\n",
       "      <td>17544.209</td>\n",
       "      <td>6013.492</td>\n",
       "      <td>15898.276</td>\n",
       "      <td>710.43</td>\n",
       "      <td>28166.549</td>\n",
       "      <td>1244.232</td>\n",
       "    </tr>\n",
       "    <tr>\n",
       "      <th>Madrid</th>\n",
       "      <td>6436996</td>\n",
       "      <td>4662855</td>\n",
       "      <td>4487.953</td>\n",
       "      <td>6933.309</td>\n",
       "      <td>10297.475</td>\n",
       "      <td>426.171</td>\n",
       "      <td>8693.001</td>\n",
       "      <td>1999.27</td>\n",
       "      <td>12217.224</td>\n",
       "      <td>0.000</td>\n",
       "    </tr>\n",
       "    <tr>\n",
       "      <th>Melilla</th>\n",
       "      <td>85584</td>\n",
       "      <td>53307</td>\n",
       "      <td>48.650</td>\n",
       "      <td>34.417</td>\n",
       "      <td>61.451</td>\n",
       "      <td>1.838</td>\n",
       "      <td>49.064</td>\n",
       "      <td>15.12</td>\n",
       "      <td>59.947</td>\n",
       "      <td>0.361</td>\n",
       "    </tr>\n",
       "    <tr>\n",
       "      <th>Murcia</th>\n",
       "      <td>1467288</td>\n",
       "      <td>1005154</td>\n",
       "      <td>1232.266</td>\n",
       "      <td>1680.170</td>\n",
       "      <td>2668.366</td>\n",
       "      <td>82.841</td>\n",
       "      <td>2212.181</td>\n",
       "      <td>551.36</td>\n",
       "      <td>3445.774</td>\n",
       "      <td>0.000</td>\n",
       "    </tr>\n",
       "    <tr>\n",
       "      <th>Navarra</th>\n",
       "      <td>640476</td>\n",
       "      <td>477733</td>\n",
       "      <td>8166.659</td>\n",
       "      <td>10935.759</td>\n",
       "      <td>9784.925</td>\n",
       "      <td>5846.895</td>\n",
       "      <td>12766.813</td>\n",
       "      <td>1306.48</td>\n",
       "      <td>21677.825</td>\n",
       "      <td>0.000</td>\n",
       "    </tr>\n",
       "    <tr>\n",
       "      <th>PaísVasco</th>\n",
       "      <td>2189257</td>\n",
       "      <td>1714958</td>\n",
       "      <td>8023.171</td>\n",
       "      <td>7855.775</td>\n",
       "      <td>2458.345</td>\n",
       "      <td>14412.512</td>\n",
       "      <td>12257.859</td>\n",
       "      <td>1118.78</td>\n",
       "      <td>20329.512</td>\n",
       "      <td>1210.616</td>\n",
       "    </tr>\n",
       "    <tr>\n",
       "      <th>Rioja</th>\n",
       "      <td>317053</td>\n",
       "      <td>232902</td>\n",
       "      <td>3314.655</td>\n",
       "      <td>6472.719</td>\n",
       "      <td>10348.079</td>\n",
       "      <td>197.275</td>\n",
       "      <td>7566.879</td>\n",
       "      <td>1032.23</td>\n",
       "      <td>13359.943</td>\n",
       "      <td>0.000</td>\n",
       "    </tr>\n",
       "  </tbody>\n",
       "</table>\n",
       "</div>"
      ],
      "text/plain": [
       "                Population  TotalCensus  AbstentionPtge   Izda_Pct  \\\n",
       "CCAA                                                                 \n",
       "Andalucía          8393616      6279879       22186.668  42652.593   \n",
       "Aragón             1317847       984289       18299.530  30408.266   \n",
       "Asturias           1051229       872130        2633.513   3876.754   \n",
       "Baleares           1104479       749065        2249.505   2974.047   \n",
       "Canarias           2100306      1535589        3066.219   3513.495   \n",
       "Cantabria           585179       462697        2741.784   3896.139   \n",
       "CastillaLeón       2472052      1990607       53553.936  70845.579   \n",
       "CastillaMancha     2059191      1540063       20860.376  38744.856   \n",
       "Cataluña           7508106      5313563       32469.525   9194.562   \n",
       "Ceuta                84263        59125          47.411     33.027   \n",
       "ComValenciana      4980689      3519941       11863.444  12259.553   \n",
       "Extremadura        1092161       880546       10271.404  19909.309   \n",
       "Galicia            2732347      2257941        9693.264   7104.032   \n",
       "Madrid             6436996      4662855        4487.953   6933.309   \n",
       "Melilla              85584        53307          48.650     34.417   \n",
       "Murcia             1467288      1005154        1232.266   1680.170   \n",
       "Navarra             640476       477733        8166.659  10935.759   \n",
       "PaísVasco          2189257      1714958        8023.171   7855.775   \n",
       "Rioja               317053       232902        3314.655   6472.719   \n",
       "\n",
       "                  Dcha_Pct  Otros_Pct  WomanPopulationPtge  ForeignersPtge  \\\n",
       "CCAA                                                                         \n",
       "Andalucía        32009.366   1048.047            38160.141         4544.47   \n",
       "Aragón           39993.825   1304.080            33445.512         4994.98   \n",
       "Asturias          3611.040    145.116             3887.668          189.87   \n",
       "Baleares          3261.635    307.426             3313.845          965.70   \n",
       "Canarias          4015.891   1097.589             4351.749          918.33   \n",
       "Cantabria         5946.558    163.505             4867.070          289.76   \n",
       "CastillaLeón    145807.411   3277.286           102559.726         7897.32   \n",
       "CastillaMancha   50299.646   1196.246            42579.001         6080.66   \n",
       "Cataluña         14668.555  68897.155            45843.522         8118.85   \n",
       "Ceuta               62.709      2.103               49.258            6.11   \n",
       "ComValenciana    26595.336  14345.744            26538.250         5871.69   \n",
       "Extremadura      17709.386    309.415            19011.251          753.41   \n",
       "Galicia          17544.209   6013.492            15898.276          710.43   \n",
       "Madrid           10297.475    426.171             8693.001         1999.27   \n",
       "Melilla             61.451      1.838               49.064           15.12   \n",
       "Murcia            2668.366     82.841             2212.181          551.36   \n",
       "Navarra           9784.925   5846.895            12766.813         1306.48   \n",
       "PaísVasco         2458.345  14412.512            12257.859         1118.78   \n",
       "Rioja            10348.079    197.275             7566.879         1032.23   \n",
       "\n",
       "                SameComAutonPtge  SameComAutonDiffProvPtge  \n",
       "CCAA                                                        \n",
       "Andalucía              67274.397                  3727.883  \n",
       "Aragón                 58053.858                  3606.367  \n",
       "Asturias                6764.184                     0.000  \n",
       "Baleares                4314.015                     0.000  \n",
       "Canarias                6766.835                   119.617  \n",
       "Cantabria               8337.379                     0.000  \n",
       "CastillaLeón          194455.876                  9753.168  \n",
       "CastillaMancha         67319.355                  1885.021  \n",
       "Cataluña               74710.019                 11123.607  \n",
       "Ceuta                     68.254                     0.611  \n",
       "ComValenciana          41335.240                  2040.780  \n",
       "Extremadura            33754.450                   497.307  \n",
       "Galicia                28166.549                  1244.232  \n",
       "Madrid                 12217.224                     0.000  \n",
       "Melilla                   59.947                     0.361  \n",
       "Murcia                  3445.774                     0.000  \n",
       "Navarra                21677.825                     0.000  \n",
       "PaísVasco              20329.512                  1210.616  \n",
       "Rioja                  13359.943                     0.000  "
      ]
     },
     "execution_count": 13,
     "metadata": {},
     "output_type": "execute_result"
    }
   ],
   "source": [
    "#utilizamos la funcion groupby() para agrupar todas las filas por el campo CCAA y hacemos la suma sum() y lo guardamos en un DF\n",
    "CCAAsum = dataCCAA.groupby('CCAA').sum()\n",
    "CCAAsum"
   ]
  },
  {
   "cell_type": "markdown",
   "id": "bc2508e2",
   "metadata": {},
   "source": [
    "En primer luegar, antes de la aplicación de métodos de clustering escalaremos los datos ya que distintas medidas afectan a la evaluación de distancias en el espacio. En este dataframe observamos unidades muy diferentes por lo que vamos a proceder con el escalado."
   ]
  },
  {
   "cell_type": "code",
   "execution_count": 14,
   "id": "a2e338c7",
   "metadata": {
    "scrolled": true
   },
   "outputs": [
    {
     "data": {
      "text/html": [
       "<div>\n",
       "<style scoped>\n",
       "    .dataframe tbody tr th:only-of-type {\n",
       "        vertical-align: middle;\n",
       "    }\n",
       "\n",
       "    .dataframe tbody tr th {\n",
       "        vertical-align: top;\n",
       "    }\n",
       "\n",
       "    .dataframe thead th {\n",
       "        text-align: right;\n",
       "    }\n",
       "</style>\n",
       "<table border=\"1\" class=\"dataframe\">\n",
       "  <thead>\n",
       "    <tr style=\"text-align: right;\">\n",
       "      <th></th>\n",
       "      <th>0</th>\n",
       "      <th>1</th>\n",
       "      <th>2</th>\n",
       "      <th>3</th>\n",
       "      <th>4</th>\n",
       "      <th>5</th>\n",
       "      <th>6</th>\n",
       "      <th>7</th>\n",
       "      <th>8</th>\n",
       "      <th>9</th>\n",
       "    </tr>\n",
       "  </thead>\n",
       "  <tbody>\n",
       "    <tr>\n",
       "      <th>0</th>\n",
       "      <td>-0.317447</td>\n",
       "      <td>-0.303412</td>\n",
       "      <td>-0.189308</td>\n",
       "      <td>1.750486</td>\n",
       "      <td>-0.508933</td>\n",
       "      <td>-0.552883</td>\n",
       "      <td>0.661649</td>\n",
       "      <td>-0.345141</td>\n",
       "      <td>1.190994</td>\n",
       "      <td>0.853301</td>\n",
       "    </tr>\n",
       "    <tr>\n",
       "      <th>1</th>\n",
       "      <td>-0.683501</td>\n",
       "      <td>-0.717569</td>\n",
       "      <td>-0.675797</td>\n",
       "      <td>0.449270</td>\n",
       "      <td>0.408073</td>\n",
       "      <td>-0.531264</td>\n",
       "      <td>-1.404916</td>\n",
       "      <td>-0.077962</td>\n",
       "      <td>0.197635</td>\n",
       "      <td>0.891082</td>\n",
       "    </tr>\n",
       "    <tr>\n",
       "      <th>2</th>\n",
       "      <td>-0.211589</td>\n",
       "      <td>-0.116600</td>\n",
       "      <td>0.481845</td>\n",
       "      <td>1.225774</td>\n",
       "      <td>-0.172093</td>\n",
       "      <td>-0.527402</td>\n",
       "      <td>0.933673</td>\n",
       "      <td>-1.202590</td>\n",
       "      <td>1.109919</td>\n",
       "      <td>-0.790320</td>\n",
       "    </tr>\n",
       "    <tr>\n",
       "      <th>3</th>\n",
       "      <td>-0.090019</td>\n",
       "      <td>-0.116666</td>\n",
       "      <td>0.456875</td>\n",
       "      <td>0.716663</td>\n",
       "      <td>-0.007624</td>\n",
       "      <td>-0.389661</td>\n",
       "      <td>0.715460</td>\n",
       "      <td>1.952463</td>\n",
       "      <td>-1.679676</td>\n",
       "      <td>-0.790320</td>\n",
       "    </tr>\n",
       "    <tr>\n",
       "      <th>4</th>\n",
       "      <td>0.208394</td>\n",
       "      <td>0.266464</td>\n",
       "      <td>0.625122</td>\n",
       "      <td>0.289050</td>\n",
       "      <td>-0.217610</td>\n",
       "      <td>0.008426</td>\n",
       "      <td>0.710496</td>\n",
       "      <td>0.873221</td>\n",
       "      <td>-0.117299</td>\n",
       "      <td>-0.327055</td>\n",
       "    </tr>\n",
       "    <tr>\n",
       "      <th>5</th>\n",
       "      <td>-0.524469</td>\n",
       "      <td>-0.522652</td>\n",
       "      <td>-0.430902</td>\n",
       "      <td>0.123412</td>\n",
       "      <td>0.655456</td>\n",
       "      <td>-0.540402</td>\n",
       "      <td>-0.282020</td>\n",
       "      <td>-1.031997</td>\n",
       "      <td>0.487682</td>\n",
       "      <td>-0.790320</td>\n",
       "    </tr>\n",
       "    <tr>\n",
       "      <th>6</th>\n",
       "      <td>-0.711924</td>\n",
       "      <td>-0.745739</td>\n",
       "      <td>-0.836343</td>\n",
       "      <td>-0.516904</td>\n",
       "      <td>1.107785</td>\n",
       "      <td>-0.547730</td>\n",
       "      <td>-1.479521</td>\n",
       "      <td>-0.915242</td>\n",
       "      <td>1.082615</td>\n",
       "      <td>0.688340</td>\n",
       "    </tr>\n",
       "    <tr>\n",
       "      <th>7</th>\n",
       "      <td>-0.665801</td>\n",
       "      <td>-0.697446</td>\n",
       "      <td>-0.985392</td>\n",
       "      <td>0.503085</td>\n",
       "      <td>0.409583</td>\n",
       "      <td>-0.555616</td>\n",
       "      <td>-1.073878</td>\n",
       "      <td>-0.122214</td>\n",
       "      <td>-0.572365</td>\n",
       "      <td>-0.091251</td>\n",
       "    </tr>\n",
       "    <tr>\n",
       "      <th>8</th>\n",
       "      <td>-0.435893</td>\n",
       "      <td>-0.456980</td>\n",
       "      <td>0.551299</td>\n",
       "      <td>-2.606330</td>\n",
       "      <td>-2.295797</td>\n",
       "      <td>3.052108</td>\n",
       "      <td>0.114248</td>\n",
       "      <td>0.336648</td>\n",
       "      <td>0.131956</td>\n",
       "      <td>3.212948</td>\n",
       "    </tr>\n",
       "    <tr>\n",
       "      <th>9</th>\n",
       "      <td>2.649748</td>\n",
       "      <td>2.813115</td>\n",
       "      <td>2.291758</td>\n",
       "      <td>-0.372018</td>\n",
       "      <td>0.959433</td>\n",
       "      <td>-0.515156</td>\n",
       "      <td>0.599713</td>\n",
       "      <td>-0.382138</td>\n",
       "      <td>-1.196792</td>\n",
       "      <td>-0.582082</td>\n",
       "    </tr>\n",
       "    <tr>\n",
       "      <th>10</th>\n",
       "      <td>-0.384914</td>\n",
       "      <td>-0.402997</td>\n",
       "      <td>-1.092905</td>\n",
       "      <td>-1.369301</td>\n",
       "      <td>0.019107</td>\n",
       "      <td>0.715090</td>\n",
       "      <td>0.431309</td>\n",
       "      <td>0.935007</td>\n",
       "      <td>-0.196191</td>\n",
       "      <td>0.492944</td>\n",
       "    </tr>\n",
       "    <tr>\n",
       "      <th>11</th>\n",
       "      <td>-0.642298</td>\n",
       "      <td>-0.660812</td>\n",
       "      <td>-0.475877</td>\n",
       "      <td>1.392814</td>\n",
       "      <td>-0.208954</td>\n",
       "      <td>-0.580971</td>\n",
       "      <td>0.523461</td>\n",
       "      <td>-1.305979</td>\n",
       "      <td>1.172438</td>\n",
       "      <td>-0.352362</td>\n",
       "    </tr>\n",
       "    <tr>\n",
       "      <th>12</th>\n",
       "      <td>-0.404629</td>\n",
       "      <td>-0.360434</td>\n",
       "      <td>0.098230</td>\n",
       "      <td>-1.368802</td>\n",
       "      <td>0.488190</td>\n",
       "      <td>0.345645</td>\n",
       "      <td>1.385258</td>\n",
       "      <td>-1.233964</td>\n",
       "      <td>1.482424</td>\n",
       "      <td>0.560168</td>\n",
       "    </tr>\n",
       "    <tr>\n",
       "      <th>13</th>\n",
       "      <td>0.697254</td>\n",
       "      <td>0.791961</td>\n",
       "      <td>-0.670651</td>\n",
       "      <td>0.174784</td>\n",
       "      <td>0.602250</td>\n",
       "      <td>-0.501127</td>\n",
       "      <td>0.202924</td>\n",
       "      <td>1.074777</td>\n",
       "      <td>-1.196961</td>\n",
       "      <td>-0.790320</td>\n",
       "    </tr>\n",
       "    <tr>\n",
       "      <th>14</th>\n",
       "      <td>2.703146</td>\n",
       "      <td>2.457593</td>\n",
       "      <td>2.456066</td>\n",
       "      <td>-0.238829</td>\n",
       "      <td>0.872709</td>\n",
       "      <td>-0.528536</td>\n",
       "      <td>0.488755</td>\n",
       "      <td>1.724497</td>\n",
       "      <td>-2.234458</td>\n",
       "      <td>-0.667285</td>\n",
       "    </tr>\n",
       "    <tr>\n",
       "      <th>15</th>\n",
       "      <td>0.561658</td>\n",
       "      <td>0.565088</td>\n",
       "      <td>-0.364138</td>\n",
       "      <td>0.040976</td>\n",
       "      <td>0.724218</td>\n",
       "      <td>-0.528389</td>\n",
       "      <td>0.543421</td>\n",
       "      <td>1.258657</td>\n",
       "      <td>-0.157658</td>\n",
       "      <td>-0.790320</td>\n",
       "    </tr>\n",
       "    <tr>\n",
       "      <th>16</th>\n",
       "      <td>-0.661193</td>\n",
       "      <td>-0.692523</td>\n",
       "      <td>-0.013932</td>\n",
       "      <td>0.315776</td>\n",
       "      <td>-0.883632</td>\n",
       "      <td>0.464033</td>\n",
       "      <td>-0.727889</td>\n",
       "      <td>-0.612804</td>\n",
       "      <td>0.232716</td>\n",
       "      <td>-0.790320</td>\n",
       "    </tr>\n",
       "    <tr>\n",
       "      <th>17</th>\n",
       "      <td>-0.403804</td>\n",
       "      <td>-0.382334</td>\n",
       "      <td>0.243384</td>\n",
       "      <td>-0.537699</td>\n",
       "      <td>-2.688421</td>\n",
       "      <td>2.277929</td>\n",
       "      <td>0.358403</td>\n",
       "      <td>-0.632421</td>\n",
       "      <td>0.394629</td>\n",
       "      <td>0.853490</td>\n",
       "    </tr>\n",
       "    <tr>\n",
       "      <th>18</th>\n",
       "      <td>-0.682719</td>\n",
       "      <td>-0.718056</td>\n",
       "      <td>-1.469333</td>\n",
       "      <td>0.027793</td>\n",
       "      <td>0.736261</td>\n",
       "      <td>-0.564094</td>\n",
       "      <td>-2.700544</td>\n",
       "      <td>-0.292819</td>\n",
       "      <td>-0.131610</td>\n",
       "      <td>-0.790320</td>\n",
       "    </tr>\n",
       "  </tbody>\n",
       "</table>\n",
       "</div>"
      ],
      "text/plain": [
       "           0         1         2         3         4         5         6  \\\n",
       "0  -0.317447 -0.303412 -0.189308  1.750486 -0.508933 -0.552883  0.661649   \n",
       "1  -0.683501 -0.717569 -0.675797  0.449270  0.408073 -0.531264 -1.404916   \n",
       "2  -0.211589 -0.116600  0.481845  1.225774 -0.172093 -0.527402  0.933673   \n",
       "3  -0.090019 -0.116666  0.456875  0.716663 -0.007624 -0.389661  0.715460   \n",
       "4   0.208394  0.266464  0.625122  0.289050 -0.217610  0.008426  0.710496   \n",
       "5  -0.524469 -0.522652 -0.430902  0.123412  0.655456 -0.540402 -0.282020   \n",
       "6  -0.711924 -0.745739 -0.836343 -0.516904  1.107785 -0.547730 -1.479521   \n",
       "7  -0.665801 -0.697446 -0.985392  0.503085  0.409583 -0.555616 -1.073878   \n",
       "8  -0.435893 -0.456980  0.551299 -2.606330 -2.295797  3.052108  0.114248   \n",
       "9   2.649748  2.813115  2.291758 -0.372018  0.959433 -0.515156  0.599713   \n",
       "10 -0.384914 -0.402997 -1.092905 -1.369301  0.019107  0.715090  0.431309   \n",
       "11 -0.642298 -0.660812 -0.475877  1.392814 -0.208954 -0.580971  0.523461   \n",
       "12 -0.404629 -0.360434  0.098230 -1.368802  0.488190  0.345645  1.385258   \n",
       "13  0.697254  0.791961 -0.670651  0.174784  0.602250 -0.501127  0.202924   \n",
       "14  2.703146  2.457593  2.456066 -0.238829  0.872709 -0.528536  0.488755   \n",
       "15  0.561658  0.565088 -0.364138  0.040976  0.724218 -0.528389  0.543421   \n",
       "16 -0.661193 -0.692523 -0.013932  0.315776 -0.883632  0.464033 -0.727889   \n",
       "17 -0.403804 -0.382334  0.243384 -0.537699 -2.688421  2.277929  0.358403   \n",
       "18 -0.682719 -0.718056 -1.469333  0.027793  0.736261 -0.564094 -2.700544   \n",
       "\n",
       "           7         8         9  \n",
       "0  -0.345141  1.190994  0.853301  \n",
       "1  -0.077962  0.197635  0.891082  \n",
       "2  -1.202590  1.109919 -0.790320  \n",
       "3   1.952463 -1.679676 -0.790320  \n",
       "4   0.873221 -0.117299 -0.327055  \n",
       "5  -1.031997  0.487682 -0.790320  \n",
       "6  -0.915242  1.082615  0.688340  \n",
       "7  -0.122214 -0.572365 -0.091251  \n",
       "8   0.336648  0.131956  3.212948  \n",
       "9  -0.382138 -1.196792 -0.582082  \n",
       "10  0.935007 -0.196191  0.492944  \n",
       "11 -1.305979  1.172438 -0.352362  \n",
       "12 -1.233964  1.482424  0.560168  \n",
       "13  1.074777 -1.196961 -0.790320  \n",
       "14  1.724497 -2.234458 -0.667285  \n",
       "15  1.258657 -0.157658 -0.790320  \n",
       "16 -0.612804  0.232716 -0.790320  \n",
       "17 -0.632421  0.394629  0.853490  \n",
       "18 -0.292819 -0.131610 -0.790320  "
      ]
     },
     "execution_count": 14,
     "metadata": {},
     "output_type": "execute_result"
    }
   ],
   "source": [
    "#escalamos datos porque unidades de medida diferentes\n",
    "from sklearn.preprocessing import StandardScaler\n",
    "CCAAmeanesc = StandardScaler()\n",
    "CCAAmeanesc.fit(CCAAmean)\n",
    "X = CCAAmeanesc.transform(CCAAmean) \n",
    "CCAAesc=pd.DataFrame(X) #convertimos en dataframe\n",
    "CCAAesc"
   ]
  },
  {
   "cell_type": "code",
   "execution_count": 15,
   "id": "3e15bee3",
   "metadata": {
    "scrolled": true
   },
   "outputs": [],
   "source": [
    "#Cambiamos nombres de las columnas\n",
    "CCAAesc.columns = ['Population', 'TotalCensus', 'AbstentionPtge', 'Izda_Pct', 'Dcha_Pct', 'Otros_Pct','WomanPopulationPtge','ForeignersPtge','SameComAutonPtge','SameComAutonDiffProvPtge']"
   ]
  },
  {
   "cell_type": "code",
   "execution_count": 16,
   "id": "a5b9bd3b",
   "metadata": {},
   "outputs": [],
   "source": [
    "#Cambiamos nombres de las filas por CCAA\n",
    "CCAAesc.rename(index={0:'Andalucía',1:'Aragón',2:'Asturias',3:'Baleares',4:'Canarias',5:'Cantabria',6:'CastillaLeón',7:'CastillaMancha',8:'Cataluña',9:'Ceuta',10:'ComValenciana',11:'Extremadura',12:'Galicia',13:'Madrid',14:'Melilla',15:'Murcia',16:'Navarra',17:'PaísVasco',18:'Rioja'}, inplace=True)"
   ]
  },
  {
   "cell_type": "markdown",
   "id": "f6d28f8c",
   "metadata": {},
   "source": [
    "La distancia a aplicar sería la distancia Euclidea porque se adapta bien a los datos numéricos y es la medida de distancia más simple."
   ]
  },
  {
   "cell_type": "markdown",
   "id": "a76e003e",
   "metadata": {},
   "source": [
    "### Métodos de clustering y Linkage"
   ]
  },
  {
   "cell_type": "markdown",
   "id": "b4288a04",
   "metadata": {},
   "source": [
    "Los métodos de clustering jerárquico servirán para hacerse una idea de la dinámica de agrupación de los datos y proponer, en base al dendograma, un número de grupos tentativos que presenten características comunes. No es necesario, por tanto, pre-especificar el número de clusters. Para qie este proceso de agrupación se pueda llevar a cabo, tenemos como se cuantifica la similitud entre clusters. A este proceso se la conoce como linkage. Existen varios tipos de linkage y en este caso vamos a representar todos y elegir 1:\n",
    "\n",
    "\n",
    "- Ward: método mínima varianza, cuyo objetivo es minimizar la suma total de la varianza intra-cluster.\n",
    "- Average: se calcula la distancia de todos los clusters y el valor promedio de todas ellas se selecciona como distancia entre clusters.\n",
    "- Complete: computa todas las distrancias entre las observaciones de 1 y B y calcula la mayor de ellas com distancia.\n",
    "- Single: calcula todas y coge la distancia más cercana.\n",
    "\n"
   ]
  },
  {
   "cell_type": "markdown",
   "id": "9e61fcd8",
   "metadata": {},
   "source": [
    "Vamos a definir una función que facilite la creación del dendograma dado el modelo jerárquico que se desee visualizar."
   ]
  },
  {
   "cell_type": "code",
   "execution_count": 17,
   "id": "b184e25a",
   "metadata": {},
   "outputs": [],
   "source": [
    "from sklearn.cluster import AgglomerativeClustering\n",
    "from scipy.cluster.hierarchy import dendrogram\n",
    "from time import time\n",
    "\n",
    "\n",
    "def plot_dendogram(model, **kwargs):\n",
    "  \n",
    "  '''\n",
    "  Esta función extrae la información de un modelo AgglomerativeClustering\n",
    "  y representa su dendograma con la función dendogram de scipy.cluster.hierarchy\n",
    "  '''\n",
    "      \n",
    "  counts = np.zeros(model.children_.shape[0])\n",
    "  n_samples = len(model.labels_)\n",
    "  for i, merge in enumerate(model.children_):\n",
    "    current_count = 0\n",
    "    for child_idx in merge:\n",
    "      if child_idx < n_samples:\n",
    "        current_count += 1  # leaf node\n",
    "      else:\n",
    "        current_count += counts[child_idx - n_samples]\n",
    "    counts[i] = current_count\n",
    "  \n",
    "  linkage_matrix = np.column_stack([model.children_, model.distances_,\n",
    "                                        counts]).astype(float)\n",
    "  \n",
    "  # Plot\n",
    "  dendrogram(linkage_matrix, **kwargs)\n",
    "  plt.show()\n",
    "    "
   ]
  },
  {
   "cell_type": "markdown",
   "id": "5aa51013",
   "metadata": {},
   "source": [
    "Aplicamos el dendograma para los 4 métodos de Linkage principales para comparar la dinámica de agrupación propuesta por cada uno de ellos. El dendograma es un gráfico como un árbol. Las hojas del árbol corresponden a los registros y la longitud de la rama del árbol indica el grado de disimilitud entre los grupos correspondientes. A diferencia de k-means no es necesario especificar previamente el número de grupos."
   ]
  },
  {
   "cell_type": "code",
   "execution_count": 18,
   "id": "9c70023e",
   "metadata": {
    "scrolled": false
   },
   "outputs": [
    {
     "name": "stdout",
     "output_type": "stream",
     "text": [
      "ward :\t0.02s\n"
     ]
    },
    {
     "data": {
      "image/png": "[encoded data removed]",
      "text/plain": [
       "<Figure size 864x720 with 1 Axes>"
      ]
     },
     "metadata": {},
     "output_type": "display_data"
    },
    {
     "name": "stdout",
     "output_type": "stream",
     "text": [
      "average :\t0.00s\n"
     ]
    },
    {
     "data": {
      "image/png": "[encoded data removed]",
      "text/plain": [
       "<Figure size 864x720 with 1 Axes>"
      ]
     },
     "metadata": {},
     "output_type": "display_data"
    },
    {
     "name": "stdout",
     "output_type": "stream",
     "text": [
      "complete :\t0.00s\n"
     ]
    },
    {
     "data": {
      "image/png": "[encoded data removed]",
      "text/plain": [
       "<Figure size 864x720 with 1 Axes>"
      ]
     },
     "metadata": {},
     "output_type": "display_data"
    },
    {
     "name": "stdout",
     "output_type": "stream",
     "text": [
      "single :\t0.01s\n"
     ]
    },
    {
     "data": {
      "image/png": "[encoded data removed]",
      "text/plain": [
       "<Figure size 864x720 with 1 Axes>"
      ]
     },
     "metadata": {},
     "output_type": "display_data"
    }
   ],
   "source": [
    "for linkage in (\"ward\", \"average\", \"complete\", \"single\"):\n",
    "    clustering = AgglomerativeClustering(linkage=linkage, n_clusters=None,\n",
    "                            distance_threshold = 0)\n",
    "    t0 = time()\n",
    "    clustering.fit(CCAAesc)\n",
    "    print(\"%s :\\t%.2fs\" % (linkage, time() - t0))\n",
    "    \n",
    "    plt.clf()\n",
    "    plot_dendogram(clustering)\n",
    "    #plot_clustering(X_scaled, clustering.labels_, \"%s linkage\" % linkage)\n",
    "\n",
    "\n",
    "plt.show()"
   ]
  },
  {
   "cell_type": "markdown",
   "id": "f6d51fa5",
   "metadata": {},
   "source": [
    "Todos los métodos nos dan 4 grupos excepto el último que nos da 3. No obstante, decidimos quedarnos con el método de mínima varianza de Ward ya que las alturas de corte parecen discriminar algo mejor a los grupos. "
   ]
  },
  {
   "cell_type": "markdown",
   "id": "eb1c9666",
   "metadata": {},
   "source": [
    "Ajustamos un clustering jerárquico por el Linkage de Ward y 4 grupos. Extraeremos la clasificación propuesta en forma de vector de clase predicha y calcularemos dos métricas de evaluación en ambiente no supervisado:\n",
    "\n",
    "- Silueta. El coeficiente de silueta se define para cada registro como  𝑏−𝑎𝑚𝑎𝑥(𝑎,𝑏)\n",
    "  siendo a la distancia a su centroide y b la distancia al centroide del grupo más cercano y al que no pertenece dicho registro según la agrupación propuesta. Nos informa para cada registro de lo \"bien\" clasificado que se encuentra en su grupo actual o si tal vez estaría mejor perteneciendo al grupo más cercano. La función silhouette_score devuelve el promedio para todas las observaciones del archivo. Siempre se puede querer consultar los coeficientes para cada observación, lo haríamos con silhouette_samples.\n",
    "\n",
    "- Indice de Calinski-Harabasz. El criterio de la varianza de toda la vida. Compara la varianza entre grupos bss con la varianza intra wss a través de un cociente. Cuanto mayor sea el índice, mejor se considera el clustering. "
   ]
  },
  {
   "cell_type": "code",
   "execution_count": 19,
   "id": "cda2eac6",
   "metadata": {},
   "outputs": [],
   "source": [
    "modelo_hclust_ward = AgglomerativeClustering(\n",
    "                            affinity = 'euclidean',\n",
    "                            linkage  = 'ward',\n",
    "                            n_clusters  = 4\n",
    "                     )\n",
    "modelo_hclust_ward.fit(X=CCAAesc)\n",
    "\n",
    "cluster_labels = modelo_hclust_ward.fit_predict(CCAAesc)\n"
   ]
  },
  {
   "cell_type": "code",
   "execution_count": 20,
   "id": "f6b6f74a",
   "metadata": {},
   "outputs": [
    {
     "data": {
      "text/plain": [
       "array([0, 0, 0, 1, 1, 0, 0, 0, 2, 3, 0, 0, 0, 1, 3, 1, 0, 2, 0],\n",
       "      dtype=int64)"
      ]
     },
     "execution_count": 20,
     "metadata": {},
     "output_type": "execute_result"
    }
   ],
   "source": [
    "cluster_labels"
   ]
  },
  {
   "cell_type": "markdown",
   "id": "626a8c27",
   "metadata": {},
   "source": [
    "*Silueta clustering Ward*"
   ]
  },
  {
   "cell_type": "code",
   "execution_count": 21,
   "id": "d0c2ce04",
   "metadata": {},
   "outputs": [
    {
     "data": {
      "text/plain": [
       "0.2900357390410709"
      ]
     },
     "execution_count": 21,
     "metadata": {},
     "output_type": "execute_result"
    }
   ],
   "source": [
    "silhouette_score(CCAAesc, cluster_labels)\n"
   ]
  },
  {
   "cell_type": "markdown",
   "id": "8f1e4ec4",
   "metadata": {},
   "source": [
    "*Indice de Calinski-Harabasz clustering Ward*"
   ]
  },
  {
   "cell_type": "code",
   "execution_count": 22,
   "id": "e01684c6",
   "metadata": {},
   "outputs": [
    {
     "data": {
      "text/plain": [
       "9.522368569954416"
      ]
     },
     "execution_count": 22,
     "metadata": {},
     "output_type": "execute_result"
    }
   ],
   "source": [
    "from sklearn import metrics\n",
    "metrics.calinski_harabasz_score(CCAAesc, cluster_labels)\n"
   ]
  },
  {
   "cell_type": "markdown",
   "id": "d61fb964",
   "metadata": {},
   "source": [
    "Se puede observar una Silueta bastante regular porque está muy por debajo de 0,5 por lo que no es del todo buena. En cuanto al Indice de Calinski no podemos afirmar nada porque sirve para comparar dos modelos pero a priori parece una cifra pequeña."
   ]
  },
  {
   "cell_type": "markdown",
   "id": "b1338c25",
   "metadata": {},
   "source": [
    "Aplicamos para seleccionar los componetnes principales y ver que porcentaje de la varianza capturan."
   ]
  },
  {
   "cell_type": "code",
   "execution_count": 39,
   "id": "a29fb782",
   "metadata": {},
   "outputs": [
    {
     "name": "stdout",
     "output_type": "stream",
     "text": [
      "[pca] >Processing dataframe..\n",
      "[pca] >Normalizing input data per feature (zero mean and unit variance)..\n",
      "[pca] >The PCA reduction is performed on the [10] columns of the input dataframe.\n",
      "[pca] >Fit using PCA.\n",
      "[pca] >Compute loadings and PCs.\n",
      "[pca] >Compute explained variance.\n",
      "[pca] >Outlier detection using Hotelling T2 test with alpha=[0.05] and n_components=[3]\n",
      "[pca] >Outlier detection using SPE/DmodX with n_std=[2]\n"
     ]
    },
    {
     "data": {
      "image/png": "[encoded data removed]",
      "text/plain": [
       "<Figure size 1080x720 with 1 Axes>"
      ]
     },
     "metadata": {},
     "output_type": "display_data"
    },
    {
     "data": {
      "text/plain": [
       "(<Figure size 1080x720 with 1 Axes>,\n",
       " <AxesSubplot:title={'center':'Cumulative explained variance\\n 3 Principal Components explain [81.45%] of the variance.'}, xlabel='Principle Component', ylabel='Percentage explained variance'>)"
      ]
     },
     "execution_count": 39,
     "metadata": {},
     "output_type": "execute_result"
    },
    {
     "data": {
      "text/plain": [
       "<Figure size 864x720 with 0 Axes>"
      ]
     },
     "metadata": {},
     "output_type": "display_data"
    }
   ],
   "source": [
    "from sklearn import decomposition as dc\n",
    "# Load library\n",
    "from pca import pca\n",
    "\n",
    "pcaModel = pca(normalize=True,n_components=3) # elegimos 3 componentes\n",
    "results = pcaModel.fit_transform(CCAAesc)\n",
    "\n",
    "pcaModel.plot()"
   ]
  },
  {
   "cell_type": "markdown",
   "id": "103aaba4",
   "metadata": {},
   "source": [
    "Se busca un equilibrio entre reducir la dimensionalidad del conjunto de datos y retener la mayor cantidad posible de información. Un porcentaje del 81.45% sugiere que las tres primeras componentes principales están capturando una proporción significativa de la variabilidad presente en los datos originales."
   ]
  },
  {
   "cell_type": "code",
   "execution_count": 40,
   "id": "2503030e",
   "metadata": {},
   "outputs": [
    {
     "data": {
      "text/html": [
       "<div>\n",
       "<style scoped>\n",
       "    .dataframe tbody tr th:only-of-type {\n",
       "        vertical-align: middle;\n",
       "    }\n",
       "\n",
       "    .dataframe tbody tr th {\n",
       "        vertical-align: top;\n",
       "    }\n",
       "\n",
       "    .dataframe thead th {\n",
       "        text-align: right;\n",
       "    }\n",
       "</style>\n",
       "<table border=\"1\" class=\"dataframe\">\n",
       "  <thead>\n",
       "    <tr style=\"text-align: right;\">\n",
       "      <th></th>\n",
       "      <th>PC1</th>\n",
       "      <th>PC2</th>\n",
       "      <th>PC3</th>\n",
       "    </tr>\n",
       "  </thead>\n",
       "  <tbody>\n",
       "    <tr>\n",
       "      <th>Andalucía</th>\n",
       "      <td>-0.941794</td>\n",
       "      <td>-0.615124</td>\n",
       "      <td>1.555342</td>\n",
       "    </tr>\n",
       "    <tr>\n",
       "      <th>Aragón</th>\n",
       "      <td>-1.228247</td>\n",
       "      <td>-1.044220</td>\n",
       "      <td>-0.952444</td>\n",
       "    </tr>\n",
       "    <tr>\n",
       "      <th>Asturias</th>\n",
       "      <td>-0.259449</td>\n",
       "      <td>-0.983908</td>\n",
       "      <td>2.249509</td>\n",
       "    </tr>\n",
       "    <tr>\n",
       "      <th>Baleares</th>\n",
       "      <td>1.749670</td>\n",
       "      <td>-0.128626</td>\n",
       "      <td>-0.828629</td>\n",
       "    </tr>\n",
       "    <tr>\n",
       "      <th>Canarias</th>\n",
       "      <td>0.912316</td>\n",
       "      <td>0.390499</td>\n",
       "      <td>0.322893</td>\n",
       "    </tr>\n",
       "    <tr>\n",
       "      <th>Cantabria</th>\n",
       "      <td>-0.689945</td>\n",
       "      <td>-1.441977</td>\n",
       "      <td>0.372566</td>\n",
       "    </tr>\n",
       "    <tr>\n",
       "      <th>CastillaLeón</th>\n",
       "      <td>-1.749074</td>\n",
       "      <td>-1.268669</td>\n",
       "      <td>-0.654973</td>\n",
       "    </tr>\n",
       "    <tr>\n",
       "      <th>CastillaMancha</th>\n",
       "      <td>-0.702274</td>\n",
       "      <td>-1.416667</td>\n",
       "      <td>-1.084032</td>\n",
       "    </tr>\n",
       "    <tr>\n",
       "      <th>Cataluña</th>\n",
       "      <td>-2.361646</td>\n",
       "      <td>5.064070</td>\n",
       "      <td>-0.953054</td>\n",
       "    </tr>\n",
       "    <tr>\n",
       "      <th>Ceuta</th>\n",
       "      <td>4.273890</td>\n",
       "      <td>0.852834</td>\n",
       "      <td>1.059451</td>\n",
       "    </tr>\n",
       "    <tr>\n",
       "      <th>ComValenciana</th>\n",
       "      <td>-0.686672</td>\n",
       "      <td>0.990392</td>\n",
       "      <td>-1.273331</td>\n",
       "    </tr>\n",
       "    <tr>\n",
       "      <th>Extremadura</th>\n",
       "      <td>-1.277358</td>\n",
       "      <td>-1.422263</td>\n",
       "      <td>1.722300</td>\n",
       "    </tr>\n",
       "    <tr>\n",
       "      <th>Galicia</th>\n",
       "      <td>-1.220324</td>\n",
       "      <td>0.775784</td>\n",
       "      <td>1.389449</td>\n",
       "    </tr>\n",
       "    <tr>\n",
       "      <th>Madrid</th>\n",
       "      <td>1.746801</td>\n",
       "      <td>-0.597089</td>\n",
       "      <td>-0.946802</td>\n",
       "    </tr>\n",
       "    <tr>\n",
       "      <th>Melilla</th>\n",
       "      <td>5.209696</td>\n",
       "      <td>1.149552</td>\n",
       "      <td>-0.392149</td>\n",
       "    </tr>\n",
       "    <tr>\n",
       "      <th>Murcia</th>\n",
       "      <td>1.415709</td>\n",
       "      <td>-0.541767</td>\n",
       "      <td>-0.379255</td>\n",
       "    </tr>\n",
       "    <tr>\n",
       "      <th>Navarra</th>\n",
       "      <td>-1.104460</td>\n",
       "      <td>-0.320742</td>\n",
       "      <td>0.135468</td>\n",
       "    </tr>\n",
       "    <tr>\n",
       "      <th>PaísVasco</th>\n",
       "      <td>-1.939996</td>\n",
       "      <td>2.806133</td>\n",
       "      <td>0.667659</td>\n",
       "    </tr>\n",
       "    <tr>\n",
       "      <th>Rioja</th>\n",
       "      <td>-1.146844</td>\n",
       "      <td>-2.248211</td>\n",
       "      <td>-2.009970</td>\n",
       "    </tr>\n",
       "  </tbody>\n",
       "</table>\n",
       "</div>"
      ],
      "text/plain": [
       "                     PC1       PC2       PC3\n",
       "Andalucía      -0.941794 -0.615124  1.555342\n",
       "Aragón         -1.228247 -1.044220 -0.952444\n",
       "Asturias       -0.259449 -0.983908  2.249509\n",
       "Baleares        1.749670 -0.128626 -0.828629\n",
       "Canarias        0.912316  0.390499  0.322893\n",
       "Cantabria      -0.689945 -1.441977  0.372566\n",
       "CastillaLeón   -1.749074 -1.268669 -0.654973\n",
       "CastillaMancha -0.702274 -1.416667 -1.084032\n",
       "Cataluña       -2.361646  5.064070 -0.953054\n",
       "Ceuta           4.273890  0.852834  1.059451\n",
       "ComValenciana  -0.686672  0.990392 -1.273331\n",
       "Extremadura    -1.277358 -1.422263  1.722300\n",
       "Galicia        -1.220324  0.775784  1.389449\n",
       "Madrid          1.746801 -0.597089 -0.946802\n",
       "Melilla         5.209696  1.149552 -0.392149\n",
       "Murcia          1.415709 -0.541767 -0.379255\n",
       "Navarra        -1.104460 -0.320742  0.135468\n",
       "PaísVasco      -1.939996  2.806133  0.667659\n",
       "Rioja          -1.146844 -2.248211 -2.009970"
      ]
     },
     "execution_count": 40,
     "metadata": {},
     "output_type": "execute_result"
    }
   ],
   "source": [
    "#Acceso a las cargas\n",
    "PCAclust = pd.DataFrame(pcaModel.results['PC'])\n",
    "PCAclust"
   ]
  },
  {
   "cell_type": "markdown",
   "id": "b27f753a",
   "metadata": {},
   "source": [
    "Veamos como sería el biplot si elegimos solamente 2 componentes que explican el 68,20% de la variabilidad de la varianza."
   ]
  },
  {
   "cell_type": "code",
   "execution_count": 42,
   "id": "f82383fe",
   "metadata": {},
   "outputs": [
    {
     "name": "stdout",
     "output_type": "stream",
     "text": [
      "[pca] >Processing dataframe..\n",
      "[pca] >Normalizing input data per feature (zero mean and unit variance)..\n",
      "[pca] >The PCA reduction is performed on the [10] columns of the input dataframe.\n",
      "[pca] >Fit using PCA.\n",
      "[pca] >Compute loadings and PCs.\n",
      "[pca] >Compute explained variance.\n",
      "[pca] >Outlier detection using Hotelling T2 test with alpha=[0.05] and n_components=[2]\n",
      "[pca] >Outlier detection using SPE/DmodX with n_std=[2]\n",
      "[pca] >Plot PC1 vs PC2 with loadings.\n",
      "[colourmap]> Warning: Colormap [Set1] can not create [19] unique colors! Available unique colors: [9].\n",
      "[colourmap]> Warning: Colormap [Set1] can not create [19] unique colors! Available unique colors: [9].\n"
     ]
    },
    {
     "data": {
      "text/plain": [
       "(<Figure size 1080x720 with 1 Axes>,\n",
       " <AxesSubplot:title={'center':'2 Principal Components explain [68.20%] of the variance'}, xlabel='PC1 (40.1% expl.var)', ylabel='PC2 (28.0% expl.var)'>)"
      ]
     },
     "execution_count": 42,
     "metadata": {},
     "output_type": "execute_result"
    },
    {
     "data": {
      "image/png": "[encoded data removed]",
      "text/plain": [
       "<Figure size 1080x720 with 1 Axes>"
      ]
     },
     "metadata": {},
     "output_type": "display_data"
    }
   ],
   "source": [
    "pcaModel2 = pca(normalize=True,n_components=2) # elegimos 3 componentes\n",
    "results = pcaModel2.fit_transform(CCAAesc)\n",
    "pcaModel2.biplot(legend=True)"
   ]
  },
  {
   "cell_type": "markdown",
   "id": "b235f817",
   "metadata": {},
   "source": [
    "Este biplot muestra las observaciones en el espacio de las primeras dos componentes principales y las direcciones de las variables originales en la misma gráfica. Esto te permitirá visualizar tanto la relación entre las observaciones como la contribución de cada variable a las componentes principales.\n",
    "\n",
    "Con dos componentes retenemos el 68.20% de la variabilidad del archivo. Se observa que la componente 1 está asociada a `AbstentionPtge`, mientras que la componente 2 se asocia de forma positiva a `Population` y `TotalCensus`.\n",
    "\n",
    "Así, los países del segundo cuadrante, con valores positivos en la componente 2, se caracterizan por alta población y alto censo. Mientras que los países que se hallan en el cuadrante 3 registran menor población y censo pero más abstención.\n",
    "\n",
    "No obstante, tendremos en cuenta 3 PCA ya que explican prácticamente el 90% de la variabilidad de la varianza y evaluaremos las regiones donde se sitúan los clusters creados."
   ]
  },
  {
   "cell_type": "code",
   "execution_count": 44,
   "id": "a6a8d6db",
   "metadata": {},
   "outputs": [],
   "source": [
    "from numpy import random\n",
    "import pandas as pd\n",
    "cluster_labelsdf = pd.DataFrame(cluster_labels)\n",
    "cluster_labelsdf.rename(index={0:'Andalucía',1:'Aragón',2:'Asturias',3:'Baleares',4:'Canarias',5:'Cantabria',6:'CastillaLeón',7:'CastillaMancha',8:'Cataluña',9:'Ceuta',10:'ComValenciana',11:'Extremadura',12:'Galicia',13:'Madrid',14:'Melilla',15:'Murcia',16:'Navarra',17:'PaísVasco',18:'Rioja'}, inplace=True)"
   ]
  },
  {
   "cell_type": "code",
   "execution_count": 45,
   "id": "0be86f4c",
   "metadata": {
    "scrolled": true
   },
   "outputs": [
    {
     "data": {
      "text/html": [
       "<div>\n",
       "<style scoped>\n",
       "    .dataframe tbody tr th:only-of-type {\n",
       "        vertical-align: middle;\n",
       "    }\n",
       "\n",
       "    .dataframe tbody tr th {\n",
       "        vertical-align: top;\n",
       "    }\n",
       "\n",
       "    .dataframe thead th {\n",
       "        text-align: right;\n",
       "    }\n",
       "</style>\n",
       "<table border=\"1\" class=\"dataframe\">\n",
       "  <thead>\n",
       "    <tr style=\"text-align: right;\">\n",
       "      <th></th>\n",
       "      <th>PC1</th>\n",
       "      <th>PC2</th>\n",
       "      <th>PC3</th>\n",
       "    </tr>\n",
       "  </thead>\n",
       "  <tbody>\n",
       "    <tr>\n",
       "      <th>Andalucía</th>\n",
       "      <td>-0.941794</td>\n",
       "      <td>-0.615124</td>\n",
       "      <td>1.555342</td>\n",
       "    </tr>\n",
       "    <tr>\n",
       "      <th>Aragón</th>\n",
       "      <td>-1.228247</td>\n",
       "      <td>-1.044220</td>\n",
       "      <td>-0.952444</td>\n",
       "    </tr>\n",
       "    <tr>\n",
       "      <th>Asturias</th>\n",
       "      <td>-0.259449</td>\n",
       "      <td>-0.983908</td>\n",
       "      <td>2.249509</td>\n",
       "    </tr>\n",
       "    <tr>\n",
       "      <th>Baleares</th>\n",
       "      <td>1.749670</td>\n",
       "      <td>-0.128626</td>\n",
       "      <td>-0.828629</td>\n",
       "    </tr>\n",
       "    <tr>\n",
       "      <th>Canarias</th>\n",
       "      <td>0.912316</td>\n",
       "      <td>0.390499</td>\n",
       "      <td>0.322893</td>\n",
       "    </tr>\n",
       "    <tr>\n",
       "      <th>Cantabria</th>\n",
       "      <td>-0.689945</td>\n",
       "      <td>-1.441977</td>\n",
       "      <td>0.372566</td>\n",
       "    </tr>\n",
       "    <tr>\n",
       "      <th>CastillaLeón</th>\n",
       "      <td>-1.749074</td>\n",
       "      <td>-1.268669</td>\n",
       "      <td>-0.654973</td>\n",
       "    </tr>\n",
       "    <tr>\n",
       "      <th>CastillaMancha</th>\n",
       "      <td>-0.702274</td>\n",
       "      <td>-1.416667</td>\n",
       "      <td>-1.084032</td>\n",
       "    </tr>\n",
       "    <tr>\n",
       "      <th>Cataluña</th>\n",
       "      <td>-2.361646</td>\n",
       "      <td>5.064070</td>\n",
       "      <td>-0.953054</td>\n",
       "    </tr>\n",
       "    <tr>\n",
       "      <th>Ceuta</th>\n",
       "      <td>4.273890</td>\n",
       "      <td>0.852834</td>\n",
       "      <td>1.059451</td>\n",
       "    </tr>\n",
       "    <tr>\n",
       "      <th>ComValenciana</th>\n",
       "      <td>-0.686672</td>\n",
       "      <td>0.990392</td>\n",
       "      <td>-1.273331</td>\n",
       "    </tr>\n",
       "    <tr>\n",
       "      <th>Extremadura</th>\n",
       "      <td>-1.277358</td>\n",
       "      <td>-1.422263</td>\n",
       "      <td>1.722300</td>\n",
       "    </tr>\n",
       "    <tr>\n",
       "      <th>Galicia</th>\n",
       "      <td>-1.220324</td>\n",
       "      <td>0.775784</td>\n",
       "      <td>1.389449</td>\n",
       "    </tr>\n",
       "    <tr>\n",
       "      <th>Madrid</th>\n",
       "      <td>1.746801</td>\n",
       "      <td>-0.597089</td>\n",
       "      <td>-0.946802</td>\n",
       "    </tr>\n",
       "    <tr>\n",
       "      <th>Melilla</th>\n",
       "      <td>5.209696</td>\n",
       "      <td>1.149552</td>\n",
       "      <td>-0.392149</td>\n",
       "    </tr>\n",
       "    <tr>\n",
       "      <th>Murcia</th>\n",
       "      <td>1.415709</td>\n",
       "      <td>-0.541767</td>\n",
       "      <td>-0.379255</td>\n",
       "    </tr>\n",
       "    <tr>\n",
       "      <th>Navarra</th>\n",
       "      <td>-1.104460</td>\n",
       "      <td>-0.320742</td>\n",
       "      <td>0.135468</td>\n",
       "    </tr>\n",
       "    <tr>\n",
       "      <th>PaísVasco</th>\n",
       "      <td>-1.939996</td>\n",
       "      <td>2.806133</td>\n",
       "      <td>0.667659</td>\n",
       "    </tr>\n",
       "    <tr>\n",
       "      <th>Rioja</th>\n",
       "      <td>-1.146844</td>\n",
       "      <td>-2.248211</td>\n",
       "      <td>-2.009970</td>\n",
       "    </tr>\n",
       "  </tbody>\n",
       "</table>\n",
       "</div>"
      ],
      "text/plain": [
       "                     PC1       PC2       PC3\n",
       "Andalucía      -0.941794 -0.615124  1.555342\n",
       "Aragón         -1.228247 -1.044220 -0.952444\n",
       "Asturias       -0.259449 -0.983908  2.249509\n",
       "Baleares        1.749670 -0.128626 -0.828629\n",
       "Canarias        0.912316  0.390499  0.322893\n",
       "Cantabria      -0.689945 -1.441977  0.372566\n",
       "CastillaLeón   -1.749074 -1.268669 -0.654973\n",
       "CastillaMancha -0.702274 -1.416667 -1.084032\n",
       "Cataluña       -2.361646  5.064070 -0.953054\n",
       "Ceuta           4.273890  0.852834  1.059451\n",
       "ComValenciana  -0.686672  0.990392 -1.273331\n",
       "Extremadura    -1.277358 -1.422263  1.722300\n",
       "Galicia        -1.220324  0.775784  1.389449\n",
       "Madrid          1.746801 -0.597089 -0.946802\n",
       "Melilla         5.209696  1.149552 -0.392149\n",
       "Murcia          1.415709 -0.541767 -0.379255\n",
       "Navarra        -1.104460 -0.320742  0.135468\n",
       "PaísVasco      -1.939996  2.806133  0.667659\n",
       "Rioja          -1.146844 -2.248211 -2.009970"
      ]
     },
     "execution_count": 45,
     "metadata": {},
     "output_type": "execute_result"
    }
   ],
   "source": [
    "# Acceso a scores\n",
    "pcaModel.results['PC']"
   ]
  },
  {
   "cell_type": "code",
   "execution_count": 46,
   "id": "86e896db",
   "metadata": {
    "scrolled": true
   },
   "outputs": [
    {
     "data": {
      "text/html": [
       "<div>\n",
       "<style scoped>\n",
       "    .dataframe tbody tr th:only-of-type {\n",
       "        vertical-align: middle;\n",
       "    }\n",
       "\n",
       "    .dataframe tbody tr th {\n",
       "        vertical-align: top;\n",
       "    }\n",
       "\n",
       "    .dataframe thead th {\n",
       "        text-align: right;\n",
       "    }\n",
       "</style>\n",
       "<table border=\"1\" class=\"dataframe\">\n",
       "  <thead>\n",
       "    <tr style=\"text-align: right;\">\n",
       "      <th></th>\n",
       "      <th>PC1</th>\n",
       "      <th>PC2</th>\n",
       "      <th>PC3</th>\n",
       "      <th>0</th>\n",
       "    </tr>\n",
       "  </thead>\n",
       "  <tbody>\n",
       "    <tr>\n",
       "      <th>Andalucía</th>\n",
       "      <td>-0.941794</td>\n",
       "      <td>-0.615124</td>\n",
       "      <td>1.555342</td>\n",
       "      <td>0</td>\n",
       "    </tr>\n",
       "    <tr>\n",
       "      <th>Aragón</th>\n",
       "      <td>-1.228247</td>\n",
       "      <td>-1.044220</td>\n",
       "      <td>-0.952444</td>\n",
       "      <td>0</td>\n",
       "    </tr>\n",
       "    <tr>\n",
       "      <th>Asturias</th>\n",
       "      <td>-0.259449</td>\n",
       "      <td>-0.983908</td>\n",
       "      <td>2.249509</td>\n",
       "      <td>0</td>\n",
       "    </tr>\n",
       "    <tr>\n",
       "      <th>Baleares</th>\n",
       "      <td>1.749670</td>\n",
       "      <td>-0.128626</td>\n",
       "      <td>-0.828629</td>\n",
       "      <td>1</td>\n",
       "    </tr>\n",
       "    <tr>\n",
       "      <th>Canarias</th>\n",
       "      <td>0.912316</td>\n",
       "      <td>0.390499</td>\n",
       "      <td>0.322893</td>\n",
       "      <td>1</td>\n",
       "    </tr>\n",
       "    <tr>\n",
       "      <th>Cantabria</th>\n",
       "      <td>-0.689945</td>\n",
       "      <td>-1.441977</td>\n",
       "      <td>0.372566</td>\n",
       "      <td>0</td>\n",
       "    </tr>\n",
       "    <tr>\n",
       "      <th>CastillaLeón</th>\n",
       "      <td>-1.749074</td>\n",
       "      <td>-1.268669</td>\n",
       "      <td>-0.654973</td>\n",
       "      <td>0</td>\n",
       "    </tr>\n",
       "    <tr>\n",
       "      <th>CastillaMancha</th>\n",
       "      <td>-0.702274</td>\n",
       "      <td>-1.416667</td>\n",
       "      <td>-1.084032</td>\n",
       "      <td>0</td>\n",
       "    </tr>\n",
       "    <tr>\n",
       "      <th>Cataluña</th>\n",
       "      <td>-2.361646</td>\n",
       "      <td>5.064070</td>\n",
       "      <td>-0.953054</td>\n",
       "      <td>2</td>\n",
       "    </tr>\n",
       "    <tr>\n",
       "      <th>Ceuta</th>\n",
       "      <td>4.273890</td>\n",
       "      <td>0.852834</td>\n",
       "      <td>1.059451</td>\n",
       "      <td>3</td>\n",
       "    </tr>\n",
       "    <tr>\n",
       "      <th>ComValenciana</th>\n",
       "      <td>-0.686672</td>\n",
       "      <td>0.990392</td>\n",
       "      <td>-1.273331</td>\n",
       "      <td>0</td>\n",
       "    </tr>\n",
       "    <tr>\n",
       "      <th>Extremadura</th>\n",
       "      <td>-1.277358</td>\n",
       "      <td>-1.422263</td>\n",
       "      <td>1.722300</td>\n",
       "      <td>0</td>\n",
       "    </tr>\n",
       "    <tr>\n",
       "      <th>Galicia</th>\n",
       "      <td>-1.220324</td>\n",
       "      <td>0.775784</td>\n",
       "      <td>1.389449</td>\n",
       "      <td>0</td>\n",
       "    </tr>\n",
       "    <tr>\n",
       "      <th>Madrid</th>\n",
       "      <td>1.746801</td>\n",
       "      <td>-0.597089</td>\n",
       "      <td>-0.946802</td>\n",
       "      <td>1</td>\n",
       "    </tr>\n",
       "    <tr>\n",
       "      <th>Melilla</th>\n",
       "      <td>5.209696</td>\n",
       "      <td>1.149552</td>\n",
       "      <td>-0.392149</td>\n",
       "      <td>3</td>\n",
       "    </tr>\n",
       "    <tr>\n",
       "      <th>Murcia</th>\n",
       "      <td>1.415709</td>\n",
       "      <td>-0.541767</td>\n",
       "      <td>-0.379255</td>\n",
       "      <td>1</td>\n",
       "    </tr>\n",
       "    <tr>\n",
       "      <th>Navarra</th>\n",
       "      <td>-1.104460</td>\n",
       "      <td>-0.320742</td>\n",
       "      <td>0.135468</td>\n",
       "      <td>0</td>\n",
       "    </tr>\n",
       "    <tr>\n",
       "      <th>PaísVasco</th>\n",
       "      <td>-1.939996</td>\n",
       "      <td>2.806133</td>\n",
       "      <td>0.667659</td>\n",
       "      <td>2</td>\n",
       "    </tr>\n",
       "    <tr>\n",
       "      <th>Rioja</th>\n",
       "      <td>-1.146844</td>\n",
       "      <td>-2.248211</td>\n",
       "      <td>-2.009970</td>\n",
       "      <td>0</td>\n",
       "    </tr>\n",
       "  </tbody>\n",
       "</table>\n",
       "</div>"
      ],
      "text/plain": [
       "                     PC1       PC2       PC3  0\n",
       "Andalucía      -0.941794 -0.615124  1.555342  0\n",
       "Aragón         -1.228247 -1.044220 -0.952444  0\n",
       "Asturias       -0.259449 -0.983908  2.249509  0\n",
       "Baleares        1.749670 -0.128626 -0.828629  1\n",
       "Canarias        0.912316  0.390499  0.322893  1\n",
       "Cantabria      -0.689945 -1.441977  0.372566  0\n",
       "CastillaLeón   -1.749074 -1.268669 -0.654973  0\n",
       "CastillaMancha -0.702274 -1.416667 -1.084032  0\n",
       "Cataluña       -2.361646  5.064070 -0.953054  2\n",
       "Ceuta           4.273890  0.852834  1.059451  3\n",
       "ComValenciana  -0.686672  0.990392 -1.273331  0\n",
       "Extremadura    -1.277358 -1.422263  1.722300  0\n",
       "Galicia        -1.220324  0.775784  1.389449  0\n",
       "Madrid          1.746801 -0.597089 -0.946802  1\n",
       "Melilla         5.209696  1.149552 -0.392149  3\n",
       "Murcia          1.415709 -0.541767 -0.379255  1\n",
       "Navarra        -1.104460 -0.320742  0.135468  0\n",
       "PaísVasco      -1.939996  2.806133  0.667659  2\n",
       "Rioja          -1.146844 -2.248211 -2.009970  0"
      ]
     },
     "execution_count": 46,
     "metadata": {},
     "output_type": "execute_result"
    }
   ],
   "source": [
    "# Unimos variable de cluster_kmeans previamente creada\n",
    "CCAA_pca = pcaModel.results['PC'].join(cluster_labelsdf[0])\n",
    "CCAA_pca"
   ]
  },
  {
   "cell_type": "code",
   "execution_count": 47,
   "id": "8d1465cb",
   "metadata": {
    "scrolled": true
   },
   "outputs": [
    {
     "data": {
      "text/html": [
       "<div>\n",
       "<style scoped>\n",
       "    .dataframe tbody tr th:only-of-type {\n",
       "        vertical-align: middle;\n",
       "    }\n",
       "\n",
       "    .dataframe tbody tr th {\n",
       "        vertical-align: top;\n",
       "    }\n",
       "\n",
       "    .dataframe thead th {\n",
       "        text-align: right;\n",
       "    }\n",
       "</style>\n",
       "<table border=\"1\" class=\"dataframe\">\n",
       "  <thead>\n",
       "    <tr style=\"text-align: right;\">\n",
       "      <th></th>\n",
       "      <th>PC1</th>\n",
       "      <th>PC2</th>\n",
       "      <th>PC3</th>\n",
       "      <th>cluster_labels</th>\n",
       "    </tr>\n",
       "  </thead>\n",
       "  <tbody>\n",
       "    <tr>\n",
       "      <th>Andalucía</th>\n",
       "      <td>-0.941794</td>\n",
       "      <td>-0.615124</td>\n",
       "      <td>1.555342</td>\n",
       "      <td>0</td>\n",
       "    </tr>\n",
       "    <tr>\n",
       "      <th>Aragón</th>\n",
       "      <td>-1.228247</td>\n",
       "      <td>-1.044220</td>\n",
       "      <td>-0.952444</td>\n",
       "      <td>0</td>\n",
       "    </tr>\n",
       "    <tr>\n",
       "      <th>Asturias</th>\n",
       "      <td>-0.259449</td>\n",
       "      <td>-0.983908</td>\n",
       "      <td>2.249509</td>\n",
       "      <td>0</td>\n",
       "    </tr>\n",
       "    <tr>\n",
       "      <th>Baleares</th>\n",
       "      <td>1.749670</td>\n",
       "      <td>-0.128626</td>\n",
       "      <td>-0.828629</td>\n",
       "      <td>1</td>\n",
       "    </tr>\n",
       "    <tr>\n",
       "      <th>Canarias</th>\n",
       "      <td>0.912316</td>\n",
       "      <td>0.390499</td>\n",
       "      <td>0.322893</td>\n",
       "      <td>1</td>\n",
       "    </tr>\n",
       "    <tr>\n",
       "      <th>Cantabria</th>\n",
       "      <td>-0.689945</td>\n",
       "      <td>-1.441977</td>\n",
       "      <td>0.372566</td>\n",
       "      <td>0</td>\n",
       "    </tr>\n",
       "    <tr>\n",
       "      <th>CastillaLeón</th>\n",
       "      <td>-1.749074</td>\n",
       "      <td>-1.268669</td>\n",
       "      <td>-0.654973</td>\n",
       "      <td>0</td>\n",
       "    </tr>\n",
       "    <tr>\n",
       "      <th>CastillaMancha</th>\n",
       "      <td>-0.702274</td>\n",
       "      <td>-1.416667</td>\n",
       "      <td>-1.084032</td>\n",
       "      <td>0</td>\n",
       "    </tr>\n",
       "    <tr>\n",
       "      <th>Cataluña</th>\n",
       "      <td>-2.361646</td>\n",
       "      <td>5.064070</td>\n",
       "      <td>-0.953054</td>\n",
       "      <td>2</td>\n",
       "    </tr>\n",
       "    <tr>\n",
       "      <th>Ceuta</th>\n",
       "      <td>4.273890</td>\n",
       "      <td>0.852834</td>\n",
       "      <td>1.059451</td>\n",
       "      <td>3</td>\n",
       "    </tr>\n",
       "    <tr>\n",
       "      <th>ComValenciana</th>\n",
       "      <td>-0.686672</td>\n",
       "      <td>0.990392</td>\n",
       "      <td>-1.273331</td>\n",
       "      <td>0</td>\n",
       "    </tr>\n",
       "    <tr>\n",
       "      <th>Extremadura</th>\n",
       "      <td>-1.277358</td>\n",
       "      <td>-1.422263</td>\n",
       "      <td>1.722300</td>\n",
       "      <td>0</td>\n",
       "    </tr>\n",
       "    <tr>\n",
       "      <th>Galicia</th>\n",
       "      <td>-1.220324</td>\n",
       "      <td>0.775784</td>\n",
       "      <td>1.389449</td>\n",
       "      <td>0</td>\n",
       "    </tr>\n",
       "    <tr>\n",
       "      <th>Madrid</th>\n",
       "      <td>1.746801</td>\n",
       "      <td>-0.597089</td>\n",
       "      <td>-0.946802</td>\n",
       "      <td>1</td>\n",
       "    </tr>\n",
       "    <tr>\n",
       "      <th>Melilla</th>\n",
       "      <td>5.209696</td>\n",
       "      <td>1.149552</td>\n",
       "      <td>-0.392149</td>\n",
       "      <td>3</td>\n",
       "    </tr>\n",
       "    <tr>\n",
       "      <th>Murcia</th>\n",
       "      <td>1.415709</td>\n",
       "      <td>-0.541767</td>\n",
       "      <td>-0.379255</td>\n",
       "      <td>1</td>\n",
       "    </tr>\n",
       "    <tr>\n",
       "      <th>Navarra</th>\n",
       "      <td>-1.104460</td>\n",
       "      <td>-0.320742</td>\n",
       "      <td>0.135468</td>\n",
       "      <td>0</td>\n",
       "    </tr>\n",
       "    <tr>\n",
       "      <th>PaísVasco</th>\n",
       "      <td>-1.939996</td>\n",
       "      <td>2.806133</td>\n",
       "      <td>0.667659</td>\n",
       "      <td>2</td>\n",
       "    </tr>\n",
       "    <tr>\n",
       "      <th>Rioja</th>\n",
       "      <td>-1.146844</td>\n",
       "      <td>-2.248211</td>\n",
       "      <td>-2.009970</td>\n",
       "      <td>0</td>\n",
       "    </tr>\n",
       "  </tbody>\n",
       "</table>\n",
       "</div>"
      ],
      "text/plain": [
       "                     PC1       PC2       PC3  cluster_labels\n",
       "Andalucía      -0.941794 -0.615124  1.555342               0\n",
       "Aragón         -1.228247 -1.044220 -0.952444               0\n",
       "Asturias       -0.259449 -0.983908  2.249509               0\n",
       "Baleares        1.749670 -0.128626 -0.828629               1\n",
       "Canarias        0.912316  0.390499  0.322893               1\n",
       "Cantabria      -0.689945 -1.441977  0.372566               0\n",
       "CastillaLeón   -1.749074 -1.268669 -0.654973               0\n",
       "CastillaMancha -0.702274 -1.416667 -1.084032               0\n",
       "Cataluña       -2.361646  5.064070 -0.953054               2\n",
       "Ceuta           4.273890  0.852834  1.059451               3\n",
       "ComValenciana  -0.686672  0.990392 -1.273331               0\n",
       "Extremadura    -1.277358 -1.422263  1.722300               0\n",
       "Galicia        -1.220324  0.775784  1.389449               0\n",
       "Madrid          1.746801 -0.597089 -0.946802               1\n",
       "Melilla         5.209696  1.149552 -0.392149               3\n",
       "Murcia          1.415709 -0.541767 -0.379255               1\n",
       "Navarra        -1.104460 -0.320742  0.135468               0\n",
       "PaísVasco      -1.939996  2.806133  0.667659               2\n",
       "Rioja          -1.146844 -2.248211 -2.009970               0"
      ]
     },
     "execution_count": 47,
     "metadata": {},
     "output_type": "execute_result"
    }
   ],
   "source": [
    "#cambiamos de nombre a la columna del cluster_labels para poder representarlo.\n",
    "CCAA_pca = CCAA_pca.set_axis(['PC1', 'PC2', 'PC3','cluster_labels'], axis=1)\n",
    "CCAA_pca"
   ]
  },
  {
   "cell_type": "code",
   "execution_count": 49,
   "id": "f5652d60",
   "metadata": {},
   "outputs": [
    {
     "data": {
      "application/vnd.plotly.v1+json": {
       "config": {
        "plotlyServerURL": "https://plot.ly"
       },
       "data": [
        {
         "hovertemplate": "PC1=%{x}<br>PC2=%{y}<br>PC3=%{z}<br>index=%{text}<br>cluster_labels=%{marker.color}<extra></extra>",
         "legendgroup": "",
         "marker": {
          "color": [
           0,
           0,
           0,
           1,
           1,
           0,
           0,
           0,
           2,
           3,
           0,
           0,
           0,
           1,
           3,
           1,
           0,
           2,
           0
          ],
          "coloraxis": "coloraxis",
          "symbol": "circle"
         },
         "mode": "markers+text",
         "name": "",
         "scene": "scene",
         "showlegend": false,
         "text": [
          "Andalucía",
          "Aragón",
          "Asturias",
          "Baleares",
          "Canarias",
          "Cantabria",
          "CastillaLeón",
          "CastillaMancha",
          "Cataluña",
          "Ceuta",
          "ComValenciana",
          "Extremadura",
          "Galicia",
          "Madrid",
          "Melilla",
          "Murcia",
          "Navarra",
          "PaísVasco",
          "Rioja"
         ],
         "type": "scatter3d",
         "x": [
          -0.941793845094047,
          -1.2282466219764827,
          -0.25944946940095187,
          1.7496697933685879,
          0.9123156963322165,
          -0.6899445543800239,
          -1.7490739195431768,
          -0.7022737810071797,
          -2.361646050700863,
          4.273889688133879,
          -0.6866721819396356,
          -1.2773582144366697,
          -1.2203237037189123,
          1.7468014700870533,
          5.209695811628954,
          1.4157089738990911,
          -1.1044595847077932,
          -1.9399957380904287,
          -1.146843768453618
         ],
         "y": [
          -0.6151239155843361,
          -1.044219835548403,
          -0.9839076007903417,
          -0.128626240501923,
          0.3904989836296912,
          -1.4419767229530118,
          -1.268669166002103,
          -1.4166670247250683,
          5.064069807638441,
          0.8528337425520667,
          0.9903922199359931,
          -1.4222631610404421,
          0.7757841811342169,
          -0.5970894933822033,
          1.1495515590950416,
          -0.54176742813516,
          -0.32074170250880585,
          2.8061329729064513,
          -2.248211175720104
         ],
         "z": [
          1.555341875552606,
          -0.9524437554832262,
          2.2495094927708266,
          -0.8286285919973023,
          0.32289325436268074,
          0.3725662654404085,
          -0.6549731592711472,
          -1.0840315599118708,
          -0.9530536095817819,
          1.0594511855723387,
          -1.27333132862653,
          1.722300222619468,
          1.3894489331181434,
          -0.9468021609385514,
          -0.39214906230537766,
          -0.37925502853472753,
          0.1354684970995025,
          0.6676585066219846,
          -2.0099699765074446
         ]
        }
       ],
       "layout": {
        "coloraxis": {
         "colorbar": {
          "title": {
           "text": "cluster_labels"
          }
         },
         "colorscale": [
          [
           0,
           "#0d0887"
          ],
          [
           0.1111111111111111,
           "#46039f"
          ],
          [
           0.2222222222222222,
           "#7201a8"
          ],
          [
           0.3333333333333333,
           "#9c179e"
          ],
          [
           0.4444444444444444,
           "#bd3786"
          ],
          [
           0.5555555555555556,
           "#d8576b"
          ],
          [
           0.6666666666666666,
           "#ed7953"
          ],
          [
           0.7777777777777778,
           "#fb9f3a"
          ],
          [
           0.8888888888888888,
           "#fdca26"
          ],
          [
           1,
           "#f0f921"
          ]
         ]
        },
        "legend": {
         "tracegroupgap": 0
        },
        "margin": {
         "t": 60
        },
        "scene": {
         "domain": {
          "x": [
           0,
           1
          ],
          "y": [
           0,
           1
          ]
         },
         "xaxis": {
          "title": {
           "text": "PC1"
          }
         },
         "yaxis": {
          "title": {
           "text": "PC2"
          }
         },
         "zaxis": {
          "title": {
           "text": "PC3"
          }
         }
        },
        "template": {
         "data": {
          "bar": [
           {
            "error_x": {
             "color": "#2a3f5f"
            },
            "error_y": {
             "color": "#2a3f5f"
            },
            "marker": {
             "line": {
              "color": "#E5ECF6",
              "width": 0.5
             },
             "pattern": {
              "fillmode": "overlay",
              "size": 10,
              "solidity": 0.2
             }
            },
            "type": "bar"
           }
          ],
          "barpolar": [
           {
            "marker": {
             "line": {
              "color": "#E5ECF6",
              "width": 0.5
             },
             "pattern": {
              "fillmode": "overlay",
              "size": 10,
              "solidity": 0.2
             }
            },
            "type": "barpolar"
           }
          ],
          "carpet": [
           {
            "aaxis": {
             "endlinecolor": "#2a3f5f",
             "gridcolor": "white",
             "linecolor": "white",
             "minorgridcolor": "white",
             "startlinecolor": "#2a3f5f"
            },
            "baxis": {
             "endlinecolor": "#2a3f5f",
             "gridcolor": "white",
             "linecolor": "white",
             "minorgridcolor": "white",
             "startlinecolor": "#2a3f5f"
            },
            "type": "carpet"
           }
          ],
          "choropleth": [
           {
            "colorbar": {
             "outlinewidth": 0,
             "ticks": ""
            },
            "type": "choropleth"
           }
          ],
          "contour": [
           {
            "colorbar": {
             "outlinewidth": 0,
             "ticks": ""
            },
            "colorscale": [
             [
              0,
              "#0d0887"
             ],
             [
              0.1111111111111111,
              "#46039f"
             ],
             [
              0.2222222222222222,
              "#7201a8"
             ],
             [
              0.3333333333333333,
              "#9c179e"
             ],
             [
              0.4444444444444444,
              "#bd3786"
             ],
             [
              0.5555555555555556,
              "#d8576b"
             ],
             [
              0.6666666666666666,
              "#ed7953"
             ],
             [
              0.7777777777777778,
              "#fb9f3a"
             ],
             [
              0.8888888888888888,
              "#fdca26"
             ],
             [
              1,
              "#f0f921"
             ]
            ],
            "type": "contour"
           }
          ],
          "contourcarpet": [
           {
            "colorbar": {
             "outlinewidth": 0,
             "ticks": ""
            },
            "type": "contourcarpet"
           }
          ],
          "heatmap": [
           {
            "colorbar": {
             "outlinewidth": 0,
             "ticks": ""
            },
            "colorscale": [
             [
              0,
              "#0d0887"
             ],
             [
              0.1111111111111111,
              "#46039f"
             ],
             [
              0.2222222222222222,
              "#7201a8"
             ],
             [
              0.3333333333333333,
              "#9c179e"
             ],
             [
              0.4444444444444444,
              "#bd3786"
             ],
             [
              0.5555555555555556,
              "#d8576b"
             ],
             [
              0.6666666666666666,
              "#ed7953"
             ],
             [
              0.7777777777777778,
              "#fb9f3a"
             ],
             [
              0.8888888888888888,
              "#fdca26"
             ],
             [
              1,
              "#f0f921"
             ]
            ],
            "type": "heatmap"
           }
          ],
          "heatmapgl": [
           {
            "colorbar": {
             "outlinewidth": 0,
             "ticks": ""
            },
            "colorscale": [
             [
              0,
              "#0d0887"
             ],
             [
              0.1111111111111111,
              "#46039f"
             ],
             [
              0.2222222222222222,
              "#7201a8"
             ],
             [
              0.3333333333333333,
              "#9c179e"
             ],
             [
              0.4444444444444444,
              "#bd3786"
             ],
             [
              0.5555555555555556,
              "#d8576b"
             ],
             [
              0.6666666666666666,
              "#ed7953"
             ],
             [
              0.7777777777777778,
              "#fb9f3a"
             ],
             [
              0.8888888888888888,
              "#fdca26"
             ],
             [
              1,
              "#f0f921"
             ]
            ],
            "type": "heatmapgl"
           }
          ],
          "histogram": [
           {
            "marker": {
             "pattern": {
              "fillmode": "overlay",
              "size": 10,
              "solidity": 0.2
             }
            },
            "type": "histogram"
           }
          ],
          "histogram2d": [
           {
            "colorbar": {
             "outlinewidth": 0,
             "ticks": ""
            },
            "colorscale": [
             [
              0,
              "#0d0887"
             ],
             [
              0.1111111111111111,
              "#46039f"
             ],
             [
              0.2222222222222222,
              "#7201a8"
             ],
             [
              0.3333333333333333,
              "#9c179e"
             ],
             [
              0.4444444444444444,
              "#bd3786"
             ],
             [
              0.5555555555555556,
              "#d8576b"
             ],
             [
              0.6666666666666666,
              "#ed7953"
             ],
             [
              0.7777777777777778,
              "#fb9f3a"
             ],
             [
              0.8888888888888888,
              "#fdca26"
             ],
             [
              1,
              "#f0f921"
             ]
            ],
            "type": "histogram2d"
           }
          ],
          "histogram2dcontour": [
           {
            "colorbar": {
             "outlinewidth": 0,
             "ticks": ""
            },
            "colorscale": [
             [
              0,
              "#0d0887"
             ],
             [
              0.1111111111111111,
              "#46039f"
             ],
             [
              0.2222222222222222,
              "#7201a8"
             ],
             [
              0.3333333333333333,
              "#9c179e"
             ],
             [
              0.4444444444444444,
              "#bd3786"
             ],
             [
              0.5555555555555556,
              "#d8576b"
             ],
             [
              0.6666666666666666,
              "#ed7953"
             ],
             [
              0.7777777777777778,
              "#fb9f3a"
             ],
             [
              0.8888888888888888,
              "#fdca26"
             ],
             [
              1,
              "#f0f921"
             ]
            ],
            "type": "histogram2dcontour"
           }
          ],
          "mesh3d": [
           {
            "colorbar": {
             "outlinewidth": 0,
             "ticks": ""
            },
            "type": "mesh3d"
           }
          ],
          "parcoords": [
           {
            "line": {
             "colorbar": {
              "outlinewidth": 0,
              "ticks": ""
             }
            },
            "type": "parcoords"
           }
          ],
          "pie": [
           {
            "automargin": true,
            "type": "pie"
           }
          ],
          "scatter": [
           {
            "marker": {
             "colorbar": {
              "outlinewidth": 0,
              "ticks": ""
             }
            },
            "type": "scatter"
           }
          ],
          "scatter3d": [
           {
            "line": {
             "colorbar": {
              "outlinewidth": 0,
              "ticks": ""
             }
            },
            "marker": {
             "colorbar": {
              "outlinewidth": 0,
              "ticks": ""
             }
            },
            "type": "scatter3d"
           }
          ],
          "scattercarpet": [
           {
            "marker": {
             "colorbar": {
              "outlinewidth": 0,
              "ticks": ""
             }
            },
            "type": "scattercarpet"
           }
          ],
          "scattergeo": [
           {
            "marker": {
             "colorbar": {
              "outlinewidth": 0,
              "ticks": ""
             }
            },
            "type": "scattergeo"
           }
          ],
          "scattergl": [
           {
            "marker": {
             "colorbar": {
              "outlinewidth": 0,
              "ticks": ""
             }
            },
            "type": "scattergl"
           }
          ],
          "scattermapbox": [
           {
            "marker": {
             "colorbar": {
              "outlinewidth": 0,
              "ticks": ""
             }
            },
            "type": "scattermapbox"
           }
          ],
          "scatterpolar": [
           {
            "marker": {
             "colorbar": {
              "outlinewidth": 0,
              "ticks": ""
             }
            },
            "type": "scatterpolar"
           }
          ],
          "scatterpolargl": [
           {
            "marker": {
             "colorbar": {
              "outlinewidth": 0,
              "ticks": ""
             }
            },
            "type": "scatterpolargl"
           }
          ],
          "scatterternary": [
           {
            "marker": {
             "colorbar": {
              "outlinewidth": 0,
              "ticks": ""
             }
            },
            "type": "scatterternary"
           }
          ],
          "surface": [
           {
            "colorbar": {
             "outlinewidth": 0,
             "ticks": ""
            },
            "colorscale": [
             [
              0,
              "#0d0887"
             ],
             [
              0.1111111111111111,
              "#46039f"
             ],
             [
              0.2222222222222222,
              "#7201a8"
             ],
             [
              0.3333333333333333,
              "#9c179e"
             ],
             [
              0.4444444444444444,
              "#bd3786"
             ],
             [
              0.5555555555555556,
              "#d8576b"
             ],
             [
              0.6666666666666666,
              "#ed7953"
             ],
             [
              0.7777777777777778,
              "#fb9f3a"
             ],
             [
              0.8888888888888888,
              "#fdca26"
             ],
             [
              1,
              "#f0f921"
             ]
            ],
            "type": "surface"
           }
          ],
          "table": [
           {
            "cells": {
             "fill": {
              "color": "#EBF0F8"
             },
             "line": {
              "color": "white"
             }
            },
            "header": {
             "fill": {
              "color": "#C8D4E3"
             },
             "line": {
              "color": "white"
             }
            },
            "type": "table"
           }
          ]
         },
         "layout": {
          "annotationdefaults": {
           "arrowcolor": "#2a3f5f",
           "arrowhead": 0,
           "arrowwidth": 1
          },
          "autotypenumbers": "strict",
          "coloraxis": {
           "colorbar": {
            "outlinewidth": 0,
            "ticks": ""
           }
          },
          "colorscale": {
           "diverging": [
            [
             0,
             "#8e0152"
            ],
            [
             0.1,
             "#c51b7d"
            ],
            [
             0.2,
             "#de77ae"
            ],
            [
             0.3,
             "#f1b6da"
            ],
            [
             0.4,
             "#fde0ef"
            ],
            [
             0.5,
             "#f7f7f7"
            ],
            [
             0.6,
             "#e6f5d0"
            ],
            [
             0.7,
             "#b8e186"
            ],
            [
             0.8,
             "#7fbc41"
            ],
            [
             0.9,
             "#4d9221"
            ],
            [
             1,
             "#276419"
            ]
           ],
           "sequential": [
            [
             0,
             "#0d0887"
            ],
            [
             0.1111111111111111,
             "#46039f"
            ],
            [
             0.2222222222222222,
             "#7201a8"
            ],
            [
             0.3333333333333333,
             "#9c179e"
            ],
            [
             0.4444444444444444,
             "#bd3786"
            ],
            [
             0.5555555555555556,
             "#d8576b"
            ],
            [
             0.6666666666666666,
             "#ed7953"
            ],
            [
             0.7777777777777778,
             "#fb9f3a"
            ],
            [
             0.8888888888888888,
             "#fdca26"
            ],
            [
             1,
             "#f0f921"
            ]
           ],
           "sequentialminus": [
            [
             0,
             "#0d0887"
            ],
            [
             0.1111111111111111,
             "#46039f"
            ],
            [
             0.2222222222222222,
             "#7201a8"
            ],
            [
             0.3333333333333333,
             "#9c179e"
            ],
            [
             0.4444444444444444,
             "#bd3786"
            ],
            [
             0.5555555555555556,
             "#d8576b"
            ],
            [
             0.6666666666666666,
             "#ed7953"
            ],
            [
             0.7777777777777778,
             "#fb9f3a"
            ],
            [
             0.8888888888888888,
             "#fdca26"
            ],
            [
             1,
             "#f0f921"
            ]
           ]
          },
          "colorway": [
           "#636efa",
           "#EF553B",
           "#00cc96",
           "#ab63fa",
           "#FFA15A",
           "#19d3f3",
           "#FF6692",
           "#B6E880",
           "#FF97FF",
           "#FECB52"
          ],
          "font": {
           "color": "#2a3f5f"
          },
          "geo": {
           "bgcolor": "white",
           "lakecolor": "white",
           "landcolor": "#E5ECF6",
           "showlakes": true,
           "showland": true,
           "subunitcolor": "white"
          },
          "hoverlabel": {
           "align": "left"
          },
          "hovermode": "closest",
          "mapbox": {
           "style": "light"
          },
          "paper_bgcolor": "white",
          "plot_bgcolor": "#E5ECF6",
          "polar": {
           "angularaxis": {
            "gridcolor": "white",
            "linecolor": "white",
            "ticks": ""
           },
           "bgcolor": "#E5ECF6",
           "radialaxis": {
            "gridcolor": "white",
            "linecolor": "white",
            "ticks": ""
           }
          },
          "scene": {
           "xaxis": {
            "backgroundcolor": "#E5ECF6",
            "gridcolor": "white",
            "gridwidth": 2,
            "linecolor": "white",
            "showbackground": true,
            "ticks": "",
            "zerolinecolor": "white"
           },
           "yaxis": {
            "backgroundcolor": "#E5ECF6",
            "gridcolor": "white",
            "gridwidth": 2,
            "linecolor": "white",
            "showbackground": true,
            "ticks": "",
            "zerolinecolor": "white"
           },
           "zaxis": {
            "backgroundcolor": "#E5ECF6",
            "gridcolor": "white",
            "gridwidth": 2,
            "linecolor": "white",
            "showbackground": true,
            "ticks": "",
            "zerolinecolor": "white"
           }
          },
          "shapedefaults": {
           "line": {
            "color": "#2a3f5f"
           }
          },
          "ternary": {
           "aaxis": {
            "gridcolor": "white",
            "linecolor": "white",
            "ticks": ""
           },
           "baxis": {
            "gridcolor": "white",
            "linecolor": "white",
            "ticks": ""
           },
           "bgcolor": "#E5ECF6",
           "caxis": {
            "gridcolor": "white",
            "linecolor": "white",
            "ticks": ""
           }
          },
          "title": {
           "x": 0.05
          },
          "xaxis": {
           "automargin": true,
           "gridcolor": "white",
           "linecolor": "white",
           "ticks": "",
           "title": {
            "standoff": 15
           },
           "zerolinecolor": "white",
           "zerolinewidth": 2
          },
          "yaxis": {
           "automargin": true,
           "gridcolor": "white",
           "linecolor": "white",
           "ticks": "",
           "title": {
            "standoff": 15
           },
           "zerolinecolor": "white",
           "zerolinewidth": 2
          }
         }
        }
       }
      },
      "text/html": [
       "<div>                            <div id=\"07f17180-8956-4de8-b0c0-c39b1388aa80\" class=\"plotly-graph-div\" style=\"height:525px; width:100%;\"></div>            <script type=\"text/javascript\">                require([\"plotly\"], function(Plotly) {                    window.PLOTLYENV=window.PLOTLYENV || {};                                    if (document.getElementById(\"07f17180-8956-4de8-b0c0-c39b1388aa80\")) {                    Plotly.newPlot(                        \"07f17180-8956-4de8-b0c0-c39b1388aa80\",                        [{\"hovertemplate\":\"PC1=%{x}<br>PC2=%{y}<br>PC3=%{z}<br>index=%{text}<br>cluster_labels=%{marker.color}<extra></extra>\",\"legendgroup\":\"\",\"marker\":{\"color\":[0,0,0,1,1,0,0,0,2,3,0,0,0,1,3,1,0,2,0],\"coloraxis\":\"coloraxis\",\"symbol\":\"circle\"},\"mode\":\"markers+text\",\"name\":\"\",\"scene\":\"scene\",\"showlegend\":false,\"text\":[\"Andalucía\",\"Aragón\",\"Asturias\",\"Baleares\",\"Canarias\",\"Cantabria\",\"CastillaLeón\",\"CastillaMancha\",\"Cataluña\",\"Ceuta\",\"ComValenciana\",\"Extremadura\",\"Galicia\",\"Madrid\",\"Melilla\",\"Murcia\",\"Navarra\",\"PaísVasco\",\"Rioja\"],\"x\":[-0.941793845094047,-1.2282466219764827,-0.25944946940095187,1.7496697933685879,0.9123156963322165,-0.6899445543800239,-1.7490739195431768,-0.7022737810071797,-2.361646050700863,4.273889688133879,-0.6866721819396356,-1.2773582144366697,-1.2203237037189123,1.7468014700870533,5.209695811628954,1.4157089738990911,-1.1044595847077932,-1.9399957380904287,-1.146843768453618],\"y\":[-0.6151239155843361,-1.044219835548403,-0.9839076007903417,-0.128626240501923,0.3904989836296912,-1.4419767229530118,-1.268669166002103,-1.4166670247250683,5.064069807638441,0.8528337425520667,0.9903922199359931,-1.4222631610404421,0.7757841811342169,-0.5970894933822033,1.1495515590950416,-0.54176742813516,-0.32074170250880585,2.8061329729064513,-2.248211175720104],\"z\":[1.555341875552606,-0.9524437554832262,2.2495094927708266,-0.8286285919973023,0.32289325436268074,0.3725662654404085,-0.6549731592711472,-1.0840315599118708,-0.9530536095817819,1.0594511855723387,-1.27333132862653,1.722300222619468,1.3894489331181434,-0.9468021609385514,-0.39214906230537766,-0.37925502853472753,0.1354684970995025,0.6676585066219846,-2.0099699765074446],\"type\":\"scatter3d\"}],                        {\"template\":{\"data\":{\"bar\":[{\"error_x\":{\"color\":\"#2a3f5f\"},\"error_y\":{\"color\":\"#2a3f5f\"},\"marker\":{\"line\":{\"color\":\"#E5ECF6\",\"width\":0.5},\"pattern\":{\"fillmode\":\"overlay\",\"size\":10,\"solidity\":0.2}},\"type\":\"bar\"}],\"barpolar\":[{\"marker\":{\"line\":{\"color\":\"#E5ECF6\",\"width\":0.5},\"pattern\":{\"fillmode\":\"overlay\",\"size\":10,\"solidity\":0.2}},\"type\":\"barpolar\"}],\"carpet\":[{\"aaxis\":{\"endlinecolor\":\"#2a3f5f\",\"gridcolor\":\"white\",\"linecolor\":\"white\",\"minorgridcolor\":\"white\",\"startlinecolor\":\"#2a3f5f\"},\"baxis\":{\"endlinecolor\":\"#2a3f5f\",\"gridcolor\":\"white\",\"linecolor\":\"white\",\"minorgridcolor\":\"white\",\"startlinecolor\":\"#2a3f5f\"},\"type\":\"carpet\"}],\"choropleth\":[{\"colorbar\":{\"outlinewidth\":0,\"ticks\":\"\"},\"type\":\"choropleth\"}],\"contour\":[{\"colorbar\":{\"outlinewidth\":0,\"ticks\":\"\"},\"colorscale\":[[0.0,\"#0d0887\"],[0.1111111111111111,\"#46039f\"],[0.2222222222222222,\"#7201a8\"],[0.3333333333333333,\"#9c179e\"],[0.4444444444444444,\"#bd3786\"],[0.5555555555555556,\"#d8576b\"],[0.6666666666666666,\"#ed7953\"],[0.7777777777777778,\"#fb9f3a\"],[0.8888888888888888,\"#fdca26\"],[1.0,\"#f0f921\"]],\"type\":\"contour\"}],\"contourcarpet\":[{\"colorbar\":{\"outlinewidth\":0,\"ticks\":\"\"},\"type\":\"contourcarpet\"}],\"heatmap\":[{\"colorbar\":{\"outlinewidth\":0,\"ticks\":\"\"},\"colorscale\":[[0.0,\"#0d0887\"],[0.1111111111111111,\"#46039f\"],[0.2222222222222222,\"#7201a8\"],[0.3333333333333333,\"#9c179e\"],[0.4444444444444444,\"#bd3786\"],[0.5555555555555556,\"#d8576b\"],[0.6666666666666666,\"#ed7953\"],[0.7777777777777778,\"#fb9f3a\"],[0.8888888888888888,\"#fdca26\"],[1.0,\"#f0f921\"]],\"type\":\"heatmap\"}],\"heatmapgl\":[{\"colorbar\":{\"outlinewidth\":0,\"ticks\":\"\"},\"colorscale\":[[0.0,\"#0d0887\"],[0.1111111111111111,\"#46039f\"],[0.2222222222222222,\"#7201a8\"],[0.3333333333333333,\"#9c179e\"],[0.4444444444444444,\"#bd3786\"],[0.5555555555555556,\"#d8576b\"],[0.6666666666666666,\"#ed7953\"],[0.7777777777777778,\"#fb9f3a\"],[0.8888888888888888,\"#fdca26\"],[1.0,\"#f0f921\"]],\"type\":\"heatmapgl\"}],\"histogram\":[{\"marker\":{\"pattern\":{\"fillmode\":\"overlay\",\"size\":10,\"solidity\":0.2}},\"type\":\"histogram\"}],\"histogram2d\":[{\"colorbar\":{\"outlinewidth\":0,\"ticks\":\"\"},\"colorscale\":[[0.0,\"#0d0887\"],[0.1111111111111111,\"#46039f\"],[0.2222222222222222,\"#7201a8\"],[0.3333333333333333,\"#9c179e\"],[0.4444444444444444,\"#bd3786\"],[0.5555555555555556,\"#d8576b\"],[0.6666666666666666,\"#ed7953\"],[0.7777777777777778,\"#fb9f3a\"],[0.8888888888888888,\"#fdca26\"],[1.0,\"#f0f921\"]],\"type\":\"histogram2d\"}],\"histogram2dcontour\":[{\"colorbar\":{\"outlinewidth\":0,\"ticks\":\"\"},\"colorscale\":[[0.0,\"#0d0887\"],[0.1111111111111111,\"#46039f\"],[0.2222222222222222,\"#7201a8\"],[0.3333333333333333,\"#9c179e\"],[0.4444444444444444,\"#bd3786\"],[0.5555555555555556,\"#d8576b\"],[0.6666666666666666,\"#ed7953\"],[0.7777777777777778,\"#fb9f3a\"],[0.8888888888888888,\"#fdca26\"],[1.0,\"#f0f921\"]],\"type\":\"histogram2dcontour\"}],\"mesh3d\":[{\"colorbar\":{\"outlinewidth\":0,\"ticks\":\"\"},\"type\":\"mesh3d\"}],\"parcoords\":[{\"line\":{\"colorbar\":{\"outlinewidth\":0,\"ticks\":\"\"}},\"type\":\"parcoords\"}],\"pie\":[{\"automargin\":true,\"type\":\"pie\"}],\"scatter\":[{\"marker\":{\"colorbar\":{\"outlinewidth\":0,\"ticks\":\"\"}},\"type\":\"scatter\"}],\"scatter3d\":[{\"line\":{\"colorbar\":{\"outlinewidth\":0,\"ticks\":\"\"}},\"marker\":{\"colorbar\":{\"outlinewidth\":0,\"ticks\":\"\"}},\"type\":\"scatter3d\"}],\"scattercarpet\":[{\"marker\":{\"colorbar\":{\"outlinewidth\":0,\"ticks\":\"\"}},\"type\":\"scattercarpet\"}],\"scattergeo\":[{\"marker\":{\"colorbar\":{\"outlinewidth\":0,\"ticks\":\"\"}},\"type\":\"scattergeo\"}],\"scattergl\":[{\"marker\":{\"colorbar\":{\"outlinewidth\":0,\"ticks\":\"\"}},\"type\":\"scattergl\"}],\"scattermapbox\":[{\"marker\":{\"colorbar\":{\"outlinewidth\":0,\"ticks\":\"\"}},\"type\":\"scattermapbox\"}],\"scatterpolar\":[{\"marker\":{\"colorbar\":{\"outlinewidth\":0,\"ticks\":\"\"}},\"type\":\"scatterpolar\"}],\"scatterpolargl\":[{\"marker\":{\"colorbar\":{\"outlinewidth\":0,\"ticks\":\"\"}},\"type\":\"scatterpolargl\"}],\"scatterternary\":[{\"marker\":{\"colorbar\":{\"outlinewidth\":0,\"ticks\":\"\"}},\"type\":\"scatterternary\"}],\"surface\":[{\"colorbar\":{\"outlinewidth\":0,\"ticks\":\"\"},\"colorscale\":[[0.0,\"#0d0887\"],[0.1111111111111111,\"#46039f\"],[0.2222222222222222,\"#7201a8\"],[0.3333333333333333,\"#9c179e\"],[0.4444444444444444,\"#bd3786\"],[0.5555555555555556,\"#d8576b\"],[0.6666666666666666,\"#ed7953\"],[0.7777777777777778,\"#fb9f3a\"],[0.8888888888888888,\"#fdca26\"],[1.0,\"#f0f921\"]],\"type\":\"surface\"}],\"table\":[{\"cells\":{\"fill\":{\"color\":\"#EBF0F8\"},\"line\":{\"color\":\"white\"}},\"header\":{\"fill\":{\"color\":\"#C8D4E3\"},\"line\":{\"color\":\"white\"}},\"type\":\"table\"}]},\"layout\":{\"annotationdefaults\":{\"arrowcolor\":\"#2a3f5f\",\"arrowhead\":0,\"arrowwidth\":1},\"autotypenumbers\":\"strict\",\"coloraxis\":{\"colorbar\":{\"outlinewidth\":0,\"ticks\":\"\"}},\"colorscale\":{\"diverging\":[[0,\"#8e0152\"],[0.1,\"#c51b7d\"],[0.2,\"#de77ae\"],[0.3,\"#f1b6da\"],[0.4,\"#fde0ef\"],[0.5,\"#f7f7f7\"],[0.6,\"#e6f5d0\"],[0.7,\"#b8e186\"],[0.8,\"#7fbc41\"],[0.9,\"#4d9221\"],[1,\"#276419\"]],\"sequential\":[[0.0,\"#0d0887\"],[0.1111111111111111,\"#46039f\"],[0.2222222222222222,\"#7201a8\"],[0.3333333333333333,\"#9c179e\"],[0.4444444444444444,\"#bd3786\"],[0.5555555555555556,\"#d8576b\"],[0.6666666666666666,\"#ed7953\"],[0.7777777777777778,\"#fb9f3a\"],[0.8888888888888888,\"#fdca26\"],[1.0,\"#f0f921\"]],\"sequentialminus\":[[0.0,\"#0d0887\"],[0.1111111111111111,\"#46039f\"],[0.2222222222222222,\"#7201a8\"],[0.3333333333333333,\"#9c179e\"],[0.4444444444444444,\"#bd3786\"],[0.5555555555555556,\"#d8576b\"],[0.6666666666666666,\"#ed7953\"],[0.7777777777777778,\"#fb9f3a\"],[0.8888888888888888,\"#fdca26\"],[1.0,\"#f0f921\"]]},\"colorway\":[\"#636efa\",\"#EF553B\",\"#00cc96\",\"#ab63fa\",\"#FFA15A\",\"#19d3f3\",\"#FF6692\",\"#B6E880\",\"#FF97FF\",\"#FECB52\"],\"font\":{\"color\":\"#2a3f5f\"},\"geo\":{\"bgcolor\":\"white\",\"lakecolor\":\"white\",\"landcolor\":\"#E5ECF6\",\"showlakes\":true,\"showland\":true,\"subunitcolor\":\"white\"},\"hoverlabel\":{\"align\":\"left\"},\"hovermode\":\"closest\",\"mapbox\":{\"style\":\"light\"},\"paper_bgcolor\":\"white\",\"plot_bgcolor\":\"#E5ECF6\",\"polar\":{\"angularaxis\":{\"gridcolor\":\"white\",\"linecolor\":\"white\",\"ticks\":\"\"},\"bgcolor\":\"#E5ECF6\",\"radialaxis\":{\"gridcolor\":\"white\",\"linecolor\":\"white\",\"ticks\":\"\"}},\"scene\":{\"xaxis\":{\"backgroundcolor\":\"#E5ECF6\",\"gridcolor\":\"white\",\"gridwidth\":2,\"linecolor\":\"white\",\"showbackground\":true,\"ticks\":\"\",\"zerolinecolor\":\"white\"},\"yaxis\":{\"backgroundcolor\":\"#E5ECF6\",\"gridcolor\":\"white\",\"gridwidth\":2,\"linecolor\":\"white\",\"showbackground\":true,\"ticks\":\"\",\"zerolinecolor\":\"white\"},\"zaxis\":{\"backgroundcolor\":\"#E5ECF6\",\"gridcolor\":\"white\",\"gridwidth\":2,\"linecolor\":\"white\",\"showbackground\":true,\"ticks\":\"\",\"zerolinecolor\":\"white\"}},\"shapedefaults\":{\"line\":{\"color\":\"#2a3f5f\"}},\"ternary\":{\"aaxis\":{\"gridcolor\":\"white\",\"linecolor\":\"white\",\"ticks\":\"\"},\"baxis\":{\"gridcolor\":\"white\",\"linecolor\":\"white\",\"ticks\":\"\"},\"bgcolor\":\"#E5ECF6\",\"caxis\":{\"gridcolor\":\"white\",\"linecolor\":\"white\",\"ticks\":\"\"}},\"title\":{\"x\":0.05},\"xaxis\":{\"automargin\":true,\"gridcolor\":\"white\",\"linecolor\":\"white\",\"ticks\":\"\",\"title\":{\"standoff\":15},\"zerolinecolor\":\"white\",\"zerolinewidth\":2},\"yaxis\":{\"automargin\":true,\"gridcolor\":\"white\",\"linecolor\":\"white\",\"ticks\":\"\",\"title\":{\"standoff\":15},\"zerolinecolor\":\"white\",\"zerolinewidth\":2}}},\"scene\":{\"domain\":{\"x\":[0.0,1.0],\"y\":[0.0,1.0]},\"xaxis\":{\"title\":{\"text\":\"PC1\"}},\"yaxis\":{\"title\":{\"text\":\"PC2\"}},\"zaxis\":{\"title\":{\"text\":\"PC3\"}}},\"coloraxis\":{\"colorbar\":{\"title\":{\"text\":\"cluster_labels\"}},\"colorscale\":[[0.0,\"#0d0887\"],[0.1111111111111111,\"#46039f\"],[0.2222222222222222,\"#7201a8\"],[0.3333333333333333,\"#9c179e\"],[0.4444444444444444,\"#bd3786\"],[0.5555555555555556,\"#d8576b\"],[0.6666666666666666,\"#ed7953\"],[0.7777777777777778,\"#fb9f3a\"],[0.8888888888888888,\"#fdca26\"],[1.0,\"#f0f921\"]]},\"legend\":{\"tracegroupgap\":0},\"margin\":{\"t\":60}},                        {\"responsive\": true}                    ).then(function(){\n",
       "                            \n",
       "var gd = document.getElementById('07f17180-8956-4de8-b0c0-c39b1388aa80');\n",
       "var x = new MutationObserver(function (mutations, observer) {{\n",
       "        var display = window.getComputedStyle(gd).display;\n",
       "        if (!display || display === 'none') {{\n",
       "            console.log([gd, 'removed!']);\n",
       "            Plotly.purge(gd);\n",
       "            observer.disconnect();\n",
       "        }}\n",
       "}});\n",
       "\n",
       "// Listen for the removal of the full notebook cells\n",
       "var notebookContainer = gd.closest('#notebook-container');\n",
       "if (notebookContainer) {{\n",
       "    x.observe(notebookContainer, {childList: true});\n",
       "}}\n",
       "\n",
       "// Listen for the clearing of the current output cell\n",
       "var outputEl = gd.closest('.output');\n",
       "if (outputEl) {{\n",
       "    x.observe(outputEl, {childList: true});\n",
       "}}\n",
       "\n",
       "                        })                };                });            </script>        </div>"
      ]
     },
     "metadata": {},
     "output_type": "display_data"
    }
   ],
   "source": [
    "import plotly.express as px\n",
    "\n",
    "fig = px.scatter_3d(CCAA_pca, x='PC1', y='PC2', z='PC3', color='cluster_labels', text=CCAA_pca.index)\n",
    "fig.show()\n"
   ]
  },
  {
   "cell_type": "markdown",
   "id": "489697b8",
   "metadata": {},
   "source": [
    "Podemos observar los cuatro grupos que se han formado:\n",
    "\n",
    "     - GRUPO 0: lo forman las CCAA de Asturias, Galicia, Extremadura, Andalucía, Cantabria, Comunidad Valenciana, Castilla La Mancha y Castilla León, Navarra, Aragón y La Rioja. Estas presentan un PC1 negativo.\n",
    "    \n",
    "    - GRUPO 1: formado por las islas tanto Canarias como Baleares y se le suman Madrid y Murcia. En todos los PC se registra una cifra cercana a 0, siendo PC1 el más elevado.\n",
    "        \n",
    "    - GRUPO 2: formado por las CCAA de País Vasco y Cataluña. PC1 negativo, PC2 elevado y PC3 cercano a 0.\n",
    "        \n",
    "    - GRUPO 3: lo forman las ciudades autónomas Ceuta y Melilla que presentan un PC1 muy elevado y un PC2 cercano a 0."
   ]
  },
  {
   "cell_type": "markdown",
   "id": "827647c0",
   "metadata": {},
   "source": [
    "Haremos el cálculo de centroides que es una técnica ensencial de agrupamiento para crear representaciones compactas de grupos de datos, facilitar la asignación de nuevos datos a clústeres existentes y proporcionar una comprensión más clara de la estructura del conjunto de datos."
   ]
  },
  {
   "cell_type": "code",
   "execution_count": 50,
   "id": "65c34d88",
   "metadata": {},
   "outputs": [
    {
     "name": "stdout",
     "output_type": "stream",
     "text": [
      "[[-1.00058542 -0.81778217  0.13180777  0.        ]\n",
      " [ 1.45612398 -0.21924604 -0.45794813  1.        ]\n",
      " [-2.15082089  3.93510139 -0.14269755  2.        ]\n",
      " [ 4.74179275  1.00119265  0.33365106  3.        ]]\n"
     ]
    }
   ],
   "source": [
    "from sklearn.neighbors import NearestCentroid\n",
    "# Crear un clasificador de centroides\n",
    "clf = NearestCentroid()\n",
    "# Ajustar el clasificador utilizando los datos de las componentes principales y las etiquetas del clúster\n",
    "clf.fit(CCAA_pca, cluster_labels)\n",
    "print(clf.centroids_)\n"
   ]
  },
  {
   "cell_type": "markdown",
   "id": "b12c3a11",
   "metadata": {},
   "source": [
    "El valor de cada coordenada indica la posición relativa del centroide en cada componente principal. Por ejemplo, en la primera fila, el centroide del clúster 0 tiene coordenadas (-1.00058542, -0.81778217, 0.13180777) en PC1, PC2 y PC3, respectivamente."
   ]
  },
  {
   "cell_type": "markdown",
   "id": "942e03c0",
   "metadata": {},
   "source": [
    "#### Número de clústers y método K-means"
   ]
  },
  {
   "cell_type": "markdown",
   "id": "7422ff82",
   "metadata": {},
   "source": [
    "Vamos a generar una función para facilitar la búsqueda del número de grupos óptimo en relación a 3 métricas. Variabilidad interna de los grupos, silueta y % de variabilidad explicada por los grupos con respecto a la variabilidad total del dataset.\n",
    "\n",
    "Con un input consistente en el dataset en bruto de aplicación (se escalará por si acaso dentro de la función) y el numero máximo de grupos a evaluar, proporciona una salida de 3 gráficos para la evolución de las 3 métricas a lo largo del número de clusters de la solución.\n",
    "\n",
    "Lo que buscamos es el famoso \"codo\" en los gráficos, es decir, a partir de qué punto las métricas se estabilizan un poco. Hay que resaultar que la función se programa para empezar en 2 grupos debido a que la silueta no está definida para 1 ó n grupos siendo n el número de registros (recordemos que necesita comparar con el cluster más cercano al de clasificación actual)."
   ]
  },
  {
   "cell_type": "code",
   "execution_count": 51,
   "id": "34af1472",
   "metadata": {},
   "outputs": [],
   "source": [
    "# Cremos función scree_plot_kmeans para buscar el número de clusters óptimo \n",
    "# con 3 métricas usuales. Wss, silueta y % de varianza explicada\n",
    "# Input: data = dataset en bruto (se escala dentro de la propia función)\n",
    "#        n_max = número máximo de grupos a evaluar\n",
    "# ==============================================================================\n",
    "from scipy.spatial.distance import cdist, pdist\n",
    "\n",
    "def scree_plot_kmeans(data,n_max):\n",
    "  range_n_clusters = range(2, n_max)\n",
    "  X_scaled = scale(data)\n",
    "  inertias = []\n",
    "  silhouette = []\n",
    "  var_perc = []\n",
    "  \n",
    "  for n_clusters in range_n_clusters:\n",
    "      modelo_kmeans = KMeans(\n",
    "                          n_clusters   = n_clusters, \n",
    "                          n_init       = 20, \n",
    "                          random_state = 123\n",
    "                      )\n",
    "      modelo_kmeans.fit(X_scaled)\n",
    "      cluster_labels = modelo_kmeans.fit_predict(X_scaled)\n",
    "      inertias.append(modelo_kmeans.inertia_)\n",
    "      silhouette.append(silhouette_score(X_scaled, cluster_labels))\n",
    "      tss = sum(pdist(X_scaled)**2)/X_scaled.shape[0]\n",
    "      bss = tss - modelo_kmeans.inertia_\n",
    "      var_perc.append(bss/tss*100)\n",
    "      \n",
    "  fig, ax = plt.subplots(1, 3, figsize=(16, 6))\n",
    "  ax[0].plot(range_n_clusters, inertias, marker='o')\n",
    "  ax[0].set_title(\"Scree plot Varianza intra\")\n",
    "  ax[0].set_xlabel('Número clusters')\n",
    "  ax[0].set_ylabel('Intra-cluster (inertia)')\n",
    "  \n",
    "  ax[1].plot(range_n_clusters, silhouette, marker='o')\n",
    "  ax[1].set_title(\"Scree plot silhouette\")\n",
    "  ax[1].set_xlabel('Número clusters')\n",
    "  ax[1].set_ylabel('Media índices silhouette');\n",
    "  \n",
    "  ax[2].plot(range_n_clusters, var_perc, marker='o')\n",
    "  ax[2].set_title(\"Scree plot % Varianza\")\n",
    "  ax[2].set_xlabel('Número clusters')\n",
    "  ax[2].set_ylabel('% de varianza explicada')\n"
   ]
  },
  {
   "cell_type": "code",
   "execution_count": 52,
   "id": "b0847918",
   "metadata": {},
   "outputs": [
    {
     "data": {
      "image/png": "[encoded data removed]",
      "text/plain": [
       "<Figure size 1152x432 with 3 Axes>"
      ]
     },
     "metadata": {},
     "output_type": "display_data"
    }
   ],
   "source": [
    "#Aplicamos la función a la matriz de puntos simulados en bruto X.\n",
    "scree_plot_kmeans(X,10)\n",
    "plt.show()\n"
   ]
  },
  {
   "cell_type": "markdown",
   "id": "a87d41fd",
   "metadata": {},
   "source": [
    "Según los dendogramas lo ideal serían 4 grupos pero si observamos estos gráficos, eligiríamos 5 grupos aunque la variabilidad de la varianza explicada continuaría siendo bastante baja y por lo que vimos en los dendogramas creemos que se adapta bastante bien el modelo con 4 cluster."
   ]
  },
  {
   "cell_type": "code",
   "execution_count": 53,
   "id": "e702e542",
   "metadata": {},
   "outputs": [
    {
     "name": "stdout",
     "output_type": "stream",
     "text": [
      "Varianza intra: 63.65955788997811\n",
      "Centroides\n",
      "[[ 0.19847453  0.22076983 -0.20913923 -0.02956553  0.22406806 -0.13913203\n",
      "   0.52072185  1.21882509 -0.66955704 -0.44101411]\n",
      " [-0.55055697 -0.5535243  -0.44968099  0.39027039  0.20317361 -0.35906856\n",
      "  -0.41647281 -0.71407116  0.62524496 -0.06120003]\n",
      " [-0.41984856 -0.41965735  0.39734127 -1.57201468 -2.49210938  2.66501889\n",
      "   0.23632544 -0.14788653  0.26329264  2.03321901]\n",
      " [ 2.67644707  2.63535428  2.37391175 -0.30542347  0.91607118 -0.52184602\n",
      "   0.54423396  0.67117961 -1.71562485 -0.62468357]]\n",
      "Etiquetas\n"
     ]
    },
    {
     "data": {
      "text/plain": [
       "array([1, 1, 1, 0, 0, 1, 1, 1, 2, 3, 0, 1, 1, 0, 3, 0, 1, 2, 1])"
      ]
     },
     "execution_count": 53,
     "metadata": {},
     "output_type": "execute_result"
    }
   ],
   "source": [
    "# Modelo\n",
    "# ==============================================================================\n",
    "X_scaled = scale(X)\n",
    "modelo_kmeans = KMeans(n_clusters=4, n_init=25, random_state=123) #elegimos 4 cluster como comentamos anteriormente\n",
    "modelo_kmeans.fit(X=X_scaled)\n",
    "print('Varianza intra: ' + str(modelo_kmeans.inertia_))\n",
    "\n",
    "print('Centroides')\n",
    "print(modelo_kmeans.cluster_centers_)\n",
    "\n",
    "print('Etiquetas')\n",
    "modelo_kmeans.labels_[:19]\n"
   ]
  },
  {
   "cell_type": "markdown",
   "id": "002df976",
   "metadata": {},
   "source": [
    "##### Métricas de evaluación"
   ]
  },
  {
   "cell_type": "markdown",
   "id": "35f73964",
   "metadata": {},
   "source": [
    "*Silueta clustering Ward*"
   ]
  },
  {
   "cell_type": "code",
   "execution_count": 54,
   "id": "97d8e0d6",
   "metadata": {},
   "outputs": [
    {
     "data": {
      "text/plain": [
       "0.3024104561509409"
      ]
     },
     "execution_count": 54,
     "metadata": {},
     "output_type": "execute_result"
    }
   ],
   "source": [
    "# Clasificación con el modelo kmeans\n",
    "# ==============================================================================\n",
    "y_predict = modelo_kmeans.predict(X=X_scaled)\n",
    "\n",
    "silhouette_score(X_scaled, y_predict)"
   ]
  },
  {
   "cell_type": "markdown",
   "id": "841f54f5",
   "metadata": {},
   "source": [
    "*Indice de Calinski-Harabasz clustering Ward*"
   ]
  },
  {
   "cell_type": "code",
   "execution_count": 56,
   "id": "32dfd44a",
   "metadata": {},
   "outputs": [
    {
     "data": {
      "text/plain": [
       "9.923132228500101"
      ]
     },
     "execution_count": 56,
     "metadata": {},
     "output_type": "execute_result"
    }
   ],
   "source": [
    "from sklearn import metrics\n",
    "metrics.calinski_harabasz_score(X_scaled, y_predict)\n"
   ]
  },
  {
   "cell_type": "markdown",
   "id": "3d4b4845",
   "metadata": {},
   "source": [
    "### Comparativa Ward-Kmeans"
   ]
  },
  {
   "cell_type": "markdown",
   "id": "f8a15db4",
   "metadata": {},
   "source": [
    "Si hacemos la comparación con Ward, observamos que el modelo K-means es mejor que el otro en cuanto a Silueta e Indice de Calinski pero tampoco podemos afirmar que sea un buen modelo."
   ]
  },
  {
   "cell_type": "markdown",
   "id": "d4423d0c",
   "metadata": {},
   "source": [
    "Vamos a ver el detalle de las observaciones que has sido clasificadas en distintos grupos por los dos métodos utilizados. "
   ]
  },
  {
   "cell_type": "code",
   "execution_count": 55,
   "id": "a156473b",
   "metadata": {},
   "outputs": [],
   "source": [
    "from numpy import random\n",
    "import pandas as pd\n",
    "modelo_kmeanslabels= pd.DataFrame(modelo_kmeans.labels_[:19])\n",
    "modelo_kmeanslabels.rename(index={0:'Andalucía',1:'Aragón',2:'Asturias',3:'Baleares',4:'Canarias',5:'Cantabria',6:'CastillaLeón',7:'CastillaMancha',8:'Cataluña',9:'Ceuta',10:'ComValenciana',11:'Extremadura',12:'Galicia',13:'Madrid',14:'Melilla',15:'Murcia',16:'Navarra',17:'PaísVasco',18:'Rioja'}, inplace=True)"
   ]
  },
  {
   "cell_type": "code",
   "execution_count": 355,
   "id": "b019396d",
   "metadata": {
    "scrolled": true
   },
   "outputs": [
    {
     "data": {
      "text/html": [
       "<div>\n",
       "<style scoped>\n",
       "    .dataframe tbody tr th:only-of-type {\n",
       "        vertical-align: middle;\n",
       "    }\n",
       "\n",
       "    .dataframe tbody tr th {\n",
       "        vertical-align: top;\n",
       "    }\n",
       "\n",
       "    .dataframe thead th {\n",
       "        text-align: right;\n",
       "    }\n",
       "</style>\n",
       "<table border=\"1\" class=\"dataframe\">\n",
       "  <thead>\n",
       "    <tr style=\"text-align: right;\">\n",
       "      <th></th>\n",
       "      <th>0</th>\n",
       "    </tr>\n",
       "  </thead>\n",
       "  <tbody>\n",
       "    <tr>\n",
       "      <th>Andalucía</th>\n",
       "      <td>1</td>\n",
       "    </tr>\n",
       "    <tr>\n",
       "      <th>Aragón</th>\n",
       "      <td>1</td>\n",
       "    </tr>\n",
       "    <tr>\n",
       "      <th>Asturias</th>\n",
       "      <td>1</td>\n",
       "    </tr>\n",
       "    <tr>\n",
       "      <th>Baleares</th>\n",
       "      <td>0</td>\n",
       "    </tr>\n",
       "    <tr>\n",
       "      <th>Canarias</th>\n",
       "      <td>0</td>\n",
       "    </tr>\n",
       "    <tr>\n",
       "      <th>Cantabria</th>\n",
       "      <td>1</td>\n",
       "    </tr>\n",
       "    <tr>\n",
       "      <th>CastillaLeón</th>\n",
       "      <td>1</td>\n",
       "    </tr>\n",
       "    <tr>\n",
       "      <th>CastillaMancha</th>\n",
       "      <td>1</td>\n",
       "    </tr>\n",
       "    <tr>\n",
       "      <th>Cataluña</th>\n",
       "      <td>2</td>\n",
       "    </tr>\n",
       "    <tr>\n",
       "      <th>Ceuta</th>\n",
       "      <td>3</td>\n",
       "    </tr>\n",
       "    <tr>\n",
       "      <th>ComValenciana</th>\n",
       "      <td>0</td>\n",
       "    </tr>\n",
       "    <tr>\n",
       "      <th>Extremadura</th>\n",
       "      <td>1</td>\n",
       "    </tr>\n",
       "    <tr>\n",
       "      <th>Galicia</th>\n",
       "      <td>1</td>\n",
       "    </tr>\n",
       "    <tr>\n",
       "      <th>Madrid</th>\n",
       "      <td>0</td>\n",
       "    </tr>\n",
       "    <tr>\n",
       "      <th>Melilla</th>\n",
       "      <td>3</td>\n",
       "    </tr>\n",
       "    <tr>\n",
       "      <th>Murcia</th>\n",
       "      <td>0</td>\n",
       "    </tr>\n",
       "    <tr>\n",
       "      <th>Navarra</th>\n",
       "      <td>1</td>\n",
       "    </tr>\n",
       "    <tr>\n",
       "      <th>PaísVasco</th>\n",
       "      <td>2</td>\n",
       "    </tr>\n",
       "    <tr>\n",
       "      <th>Rioja</th>\n",
       "      <td>1</td>\n",
       "    </tr>\n",
       "  </tbody>\n",
       "</table>\n",
       "</div>"
      ],
      "text/plain": [
       "                0\n",
       "Andalucía       1\n",
       "Aragón          1\n",
       "Asturias        1\n",
       "Baleares        0\n",
       "Canarias        0\n",
       "Cantabria       1\n",
       "CastillaLeón    1\n",
       "CastillaMancha  1\n",
       "Cataluña        2\n",
       "Ceuta           3\n",
       "ComValenciana   0\n",
       "Extremadura     1\n",
       "Galicia         1\n",
       "Madrid          0\n",
       "Melilla         3\n",
       "Murcia          0\n",
       "Navarra         1\n",
       "PaísVasco       2\n",
       "Rioja           1"
      ]
     },
     "execution_count": 355,
     "metadata": {},
     "output_type": "execute_result"
    }
   ],
   "source": [
    "modelo_kmeanslabels"
   ]
  },
  {
   "cell_type": "code",
   "execution_count": 57,
   "id": "bf3a2ee7",
   "metadata": {
    "scrolled": true
   },
   "outputs": [
    {
     "data": {
      "text/html": [
       "<div>\n",
       "<style scoped>\n",
       "    .dataframe tbody tr th:only-of-type {\n",
       "        vertical-align: middle;\n",
       "    }\n",
       "\n",
       "    .dataframe tbody tr th {\n",
       "        vertical-align: top;\n",
       "    }\n",
       "\n",
       "    .dataframe thead th {\n",
       "        text-align: right;\n",
       "    }\n",
       "</style>\n",
       "<table border=\"1\" class=\"dataframe\">\n",
       "  <thead>\n",
       "    <tr style=\"text-align: right;\">\n",
       "      <th></th>\n",
       "      <th>PC1</th>\n",
       "      <th>PC2</th>\n",
       "      <th>PC3</th>\n",
       "      <th>cluster_labels</th>\n",
       "      <th>0</th>\n",
       "    </tr>\n",
       "  </thead>\n",
       "  <tbody>\n",
       "    <tr>\n",
       "      <th>Andalucía</th>\n",
       "      <td>-0.941794</td>\n",
       "      <td>-0.615124</td>\n",
       "      <td>1.555342</td>\n",
       "      <td>0</td>\n",
       "      <td>1</td>\n",
       "    </tr>\n",
       "    <tr>\n",
       "      <th>Aragón</th>\n",
       "      <td>-1.228247</td>\n",
       "      <td>-1.044220</td>\n",
       "      <td>-0.952444</td>\n",
       "      <td>0</td>\n",
       "      <td>1</td>\n",
       "    </tr>\n",
       "    <tr>\n",
       "      <th>Asturias</th>\n",
       "      <td>-0.259449</td>\n",
       "      <td>-0.983908</td>\n",
       "      <td>2.249509</td>\n",
       "      <td>0</td>\n",
       "      <td>1</td>\n",
       "    </tr>\n",
       "    <tr>\n",
       "      <th>Baleares</th>\n",
       "      <td>1.749670</td>\n",
       "      <td>-0.128626</td>\n",
       "      <td>-0.828629</td>\n",
       "      <td>1</td>\n",
       "      <td>0</td>\n",
       "    </tr>\n",
       "    <tr>\n",
       "      <th>Canarias</th>\n",
       "      <td>0.912316</td>\n",
       "      <td>0.390499</td>\n",
       "      <td>0.322893</td>\n",
       "      <td>1</td>\n",
       "      <td>0</td>\n",
       "    </tr>\n",
       "    <tr>\n",
       "      <th>Cantabria</th>\n",
       "      <td>-0.689945</td>\n",
       "      <td>-1.441977</td>\n",
       "      <td>0.372566</td>\n",
       "      <td>0</td>\n",
       "      <td>1</td>\n",
       "    </tr>\n",
       "    <tr>\n",
       "      <th>CastillaLeón</th>\n",
       "      <td>-1.749074</td>\n",
       "      <td>-1.268669</td>\n",
       "      <td>-0.654973</td>\n",
       "      <td>0</td>\n",
       "      <td>1</td>\n",
       "    </tr>\n",
       "    <tr>\n",
       "      <th>CastillaMancha</th>\n",
       "      <td>-0.702274</td>\n",
       "      <td>-1.416667</td>\n",
       "      <td>-1.084032</td>\n",
       "      <td>0</td>\n",
       "      <td>1</td>\n",
       "    </tr>\n",
       "    <tr>\n",
       "      <th>Cataluña</th>\n",
       "      <td>-2.361646</td>\n",
       "      <td>5.064070</td>\n",
       "      <td>-0.953054</td>\n",
       "      <td>2</td>\n",
       "      <td>2</td>\n",
       "    </tr>\n",
       "    <tr>\n",
       "      <th>Ceuta</th>\n",
       "      <td>4.273890</td>\n",
       "      <td>0.852834</td>\n",
       "      <td>1.059451</td>\n",
       "      <td>3</td>\n",
       "      <td>3</td>\n",
       "    </tr>\n",
       "    <tr>\n",
       "      <th>ComValenciana</th>\n",
       "      <td>-0.686672</td>\n",
       "      <td>0.990392</td>\n",
       "      <td>-1.273331</td>\n",
       "      <td>0</td>\n",
       "      <td>0</td>\n",
       "    </tr>\n",
       "    <tr>\n",
       "      <th>Extremadura</th>\n",
       "      <td>-1.277358</td>\n",
       "      <td>-1.422263</td>\n",
       "      <td>1.722300</td>\n",
       "      <td>0</td>\n",
       "      <td>1</td>\n",
       "    </tr>\n",
       "    <tr>\n",
       "      <th>Galicia</th>\n",
       "      <td>-1.220324</td>\n",
       "      <td>0.775784</td>\n",
       "      <td>1.389449</td>\n",
       "      <td>0</td>\n",
       "      <td>1</td>\n",
       "    </tr>\n",
       "    <tr>\n",
       "      <th>Madrid</th>\n",
       "      <td>1.746801</td>\n",
       "      <td>-0.597089</td>\n",
       "      <td>-0.946802</td>\n",
       "      <td>1</td>\n",
       "      <td>0</td>\n",
       "    </tr>\n",
       "    <tr>\n",
       "      <th>Melilla</th>\n",
       "      <td>5.209696</td>\n",
       "      <td>1.149552</td>\n",
       "      <td>-0.392149</td>\n",
       "      <td>3</td>\n",
       "      <td>3</td>\n",
       "    </tr>\n",
       "    <tr>\n",
       "      <th>Murcia</th>\n",
       "      <td>1.415709</td>\n",
       "      <td>-0.541767</td>\n",
       "      <td>-0.379255</td>\n",
       "      <td>1</td>\n",
       "      <td>0</td>\n",
       "    </tr>\n",
       "    <tr>\n",
       "      <th>Navarra</th>\n",
       "      <td>-1.104460</td>\n",
       "      <td>-0.320742</td>\n",
       "      <td>0.135468</td>\n",
       "      <td>0</td>\n",
       "      <td>1</td>\n",
       "    </tr>\n",
       "    <tr>\n",
       "      <th>PaísVasco</th>\n",
       "      <td>-1.939996</td>\n",
       "      <td>2.806133</td>\n",
       "      <td>0.667659</td>\n",
       "      <td>2</td>\n",
       "      <td>2</td>\n",
       "    </tr>\n",
       "    <tr>\n",
       "      <th>Rioja</th>\n",
       "      <td>-1.146844</td>\n",
       "      <td>-2.248211</td>\n",
       "      <td>-2.009970</td>\n",
       "      <td>0</td>\n",
       "      <td>1</td>\n",
       "    </tr>\n",
       "  </tbody>\n",
       "</table>\n",
       "</div>"
      ],
      "text/plain": [
       "                     PC1       PC2       PC3  cluster_labels  0\n",
       "Andalucía      -0.941794 -0.615124  1.555342               0  1\n",
       "Aragón         -1.228247 -1.044220 -0.952444               0  1\n",
       "Asturias       -0.259449 -0.983908  2.249509               0  1\n",
       "Baleares        1.749670 -0.128626 -0.828629               1  0\n",
       "Canarias        0.912316  0.390499  0.322893               1  0\n",
       "Cantabria      -0.689945 -1.441977  0.372566               0  1\n",
       "CastillaLeón   -1.749074 -1.268669 -0.654973               0  1\n",
       "CastillaMancha -0.702274 -1.416667 -1.084032               0  1\n",
       "Cataluña       -2.361646  5.064070 -0.953054               2  2\n",
       "Ceuta           4.273890  0.852834  1.059451               3  3\n",
       "ComValenciana  -0.686672  0.990392 -1.273331               0  0\n",
       "Extremadura    -1.277358 -1.422263  1.722300               0  1\n",
       "Galicia        -1.220324  0.775784  1.389449               0  1\n",
       "Madrid          1.746801 -0.597089 -0.946802               1  0\n",
       "Melilla         5.209696  1.149552 -0.392149               3  3\n",
       "Murcia          1.415709 -0.541767 -0.379255               1  0\n",
       "Navarra        -1.104460 -0.320742  0.135468               0  1\n",
       "PaísVasco      -1.939996  2.806133  0.667659               2  2\n",
       "Rioja          -1.146844 -2.248211 -2.009970               0  1"
      ]
     },
     "execution_count": 57,
     "metadata": {},
     "output_type": "execute_result"
    }
   ],
   "source": [
    "CCAA_def = CCAA_pca.join(modelo_kmeanslabels[0])\n",
    "CCAA_def"
   ]
  },
  {
   "cell_type": "code",
   "execution_count": 58,
   "id": "d6dac55f",
   "metadata": {
    "scrolled": true
   },
   "outputs": [
    {
     "data": {
      "text/html": [
       "<div>\n",
       "<style scoped>\n",
       "    .dataframe tbody tr th:only-of-type {\n",
       "        vertical-align: middle;\n",
       "    }\n",
       "\n",
       "    .dataframe tbody tr th {\n",
       "        vertical-align: top;\n",
       "    }\n",
       "\n",
       "    .dataframe thead th {\n",
       "        text-align: right;\n",
       "    }\n",
       "</style>\n",
       "<table border=\"1\" class=\"dataframe\">\n",
       "  <thead>\n",
       "    <tr style=\"text-align: right;\">\n",
       "      <th></th>\n",
       "      <th>PC1</th>\n",
       "      <th>PC2</th>\n",
       "      <th>PC3</th>\n",
       "      <th>cluster_labels</th>\n",
       "      <th>kmeans_labels</th>\n",
       "    </tr>\n",
       "  </thead>\n",
       "  <tbody>\n",
       "    <tr>\n",
       "      <th>Andalucía</th>\n",
       "      <td>-0.941794</td>\n",
       "      <td>-0.615124</td>\n",
       "      <td>1.555342</td>\n",
       "      <td>0</td>\n",
       "      <td>1</td>\n",
       "    </tr>\n",
       "    <tr>\n",
       "      <th>Aragón</th>\n",
       "      <td>-1.228247</td>\n",
       "      <td>-1.044220</td>\n",
       "      <td>-0.952444</td>\n",
       "      <td>0</td>\n",
       "      <td>1</td>\n",
       "    </tr>\n",
       "    <tr>\n",
       "      <th>Asturias</th>\n",
       "      <td>-0.259449</td>\n",
       "      <td>-0.983908</td>\n",
       "      <td>2.249509</td>\n",
       "      <td>0</td>\n",
       "      <td>1</td>\n",
       "    </tr>\n",
       "    <tr>\n",
       "      <th>Baleares</th>\n",
       "      <td>1.749670</td>\n",
       "      <td>-0.128626</td>\n",
       "      <td>-0.828629</td>\n",
       "      <td>1</td>\n",
       "      <td>0</td>\n",
       "    </tr>\n",
       "    <tr>\n",
       "      <th>Canarias</th>\n",
       "      <td>0.912316</td>\n",
       "      <td>0.390499</td>\n",
       "      <td>0.322893</td>\n",
       "      <td>1</td>\n",
       "      <td>0</td>\n",
       "    </tr>\n",
       "    <tr>\n",
       "      <th>Cantabria</th>\n",
       "      <td>-0.689945</td>\n",
       "      <td>-1.441977</td>\n",
       "      <td>0.372566</td>\n",
       "      <td>0</td>\n",
       "      <td>1</td>\n",
       "    </tr>\n",
       "    <tr>\n",
       "      <th>CastillaLeón</th>\n",
       "      <td>-1.749074</td>\n",
       "      <td>-1.268669</td>\n",
       "      <td>-0.654973</td>\n",
       "      <td>0</td>\n",
       "      <td>1</td>\n",
       "    </tr>\n",
       "    <tr>\n",
       "      <th>CastillaMancha</th>\n",
       "      <td>-0.702274</td>\n",
       "      <td>-1.416667</td>\n",
       "      <td>-1.084032</td>\n",
       "      <td>0</td>\n",
       "      <td>1</td>\n",
       "    </tr>\n",
       "    <tr>\n",
       "      <th>Cataluña</th>\n",
       "      <td>-2.361646</td>\n",
       "      <td>5.064070</td>\n",
       "      <td>-0.953054</td>\n",
       "      <td>2</td>\n",
       "      <td>2</td>\n",
       "    </tr>\n",
       "    <tr>\n",
       "      <th>Ceuta</th>\n",
       "      <td>4.273890</td>\n",
       "      <td>0.852834</td>\n",
       "      <td>1.059451</td>\n",
       "      <td>3</td>\n",
       "      <td>3</td>\n",
       "    </tr>\n",
       "    <tr>\n",
       "      <th>ComValenciana</th>\n",
       "      <td>-0.686672</td>\n",
       "      <td>0.990392</td>\n",
       "      <td>-1.273331</td>\n",
       "      <td>0</td>\n",
       "      <td>0</td>\n",
       "    </tr>\n",
       "    <tr>\n",
       "      <th>Extremadura</th>\n",
       "      <td>-1.277358</td>\n",
       "      <td>-1.422263</td>\n",
       "      <td>1.722300</td>\n",
       "      <td>0</td>\n",
       "      <td>1</td>\n",
       "    </tr>\n",
       "    <tr>\n",
       "      <th>Galicia</th>\n",
       "      <td>-1.220324</td>\n",
       "      <td>0.775784</td>\n",
       "      <td>1.389449</td>\n",
       "      <td>0</td>\n",
       "      <td>1</td>\n",
       "    </tr>\n",
       "    <tr>\n",
       "      <th>Madrid</th>\n",
       "      <td>1.746801</td>\n",
       "      <td>-0.597089</td>\n",
       "      <td>-0.946802</td>\n",
       "      <td>1</td>\n",
       "      <td>0</td>\n",
       "    </tr>\n",
       "    <tr>\n",
       "      <th>Melilla</th>\n",
       "      <td>5.209696</td>\n",
       "      <td>1.149552</td>\n",
       "      <td>-0.392149</td>\n",
       "      <td>3</td>\n",
       "      <td>3</td>\n",
       "    </tr>\n",
       "    <tr>\n",
       "      <th>Murcia</th>\n",
       "      <td>1.415709</td>\n",
       "      <td>-0.541767</td>\n",
       "      <td>-0.379255</td>\n",
       "      <td>1</td>\n",
       "      <td>0</td>\n",
       "    </tr>\n",
       "    <tr>\n",
       "      <th>Navarra</th>\n",
       "      <td>-1.104460</td>\n",
       "      <td>-0.320742</td>\n",
       "      <td>0.135468</td>\n",
       "      <td>0</td>\n",
       "      <td>1</td>\n",
       "    </tr>\n",
       "    <tr>\n",
       "      <th>PaísVasco</th>\n",
       "      <td>-1.939996</td>\n",
       "      <td>2.806133</td>\n",
       "      <td>0.667659</td>\n",
       "      <td>2</td>\n",
       "      <td>2</td>\n",
       "    </tr>\n",
       "    <tr>\n",
       "      <th>Rioja</th>\n",
       "      <td>-1.146844</td>\n",
       "      <td>-2.248211</td>\n",
       "      <td>-2.009970</td>\n",
       "      <td>0</td>\n",
       "      <td>1</td>\n",
       "    </tr>\n",
       "  </tbody>\n",
       "</table>\n",
       "</div>"
      ],
      "text/plain": [
       "                     PC1       PC2       PC3  cluster_labels  kmeans_labels\n",
       "Andalucía      -0.941794 -0.615124  1.555342               0              1\n",
       "Aragón         -1.228247 -1.044220 -0.952444               0              1\n",
       "Asturias       -0.259449 -0.983908  2.249509               0              1\n",
       "Baleares        1.749670 -0.128626 -0.828629               1              0\n",
       "Canarias        0.912316  0.390499  0.322893               1              0\n",
       "Cantabria      -0.689945 -1.441977  0.372566               0              1\n",
       "CastillaLeón   -1.749074 -1.268669 -0.654973               0              1\n",
       "CastillaMancha -0.702274 -1.416667 -1.084032               0              1\n",
       "Cataluña       -2.361646  5.064070 -0.953054               2              2\n",
       "Ceuta           4.273890  0.852834  1.059451               3              3\n",
       "ComValenciana  -0.686672  0.990392 -1.273331               0              0\n",
       "Extremadura    -1.277358 -1.422263  1.722300               0              1\n",
       "Galicia        -1.220324  0.775784  1.389449               0              1\n",
       "Madrid          1.746801 -0.597089 -0.946802               1              0\n",
       "Melilla         5.209696  1.149552 -0.392149               3              3\n",
       "Murcia          1.415709 -0.541767 -0.379255               1              0\n",
       "Navarra        -1.104460 -0.320742  0.135468               0              1\n",
       "PaísVasco      -1.939996  2.806133  0.667659               2              2\n",
       "Rioja          -1.146844 -2.248211 -2.009970               0              1"
      ]
     },
     "execution_count": 58,
     "metadata": {},
     "output_type": "execute_result"
    }
   ],
   "source": [
    "CCAA_deff= CCAA_def.set_axis(['PC1', 'PC2', 'PC3', 'cluster_labels','kmeans_labels'], axis=1)\n",
    "CCAA_deff"
   ]
  },
  {
   "cell_type": "code",
   "execution_count": 59,
   "id": "81e1a541",
   "metadata": {
    "scrolled": true
   },
   "outputs": [
    {
     "data": {
      "text/html": [
       "<div>\n",
       "<style scoped>\n",
       "    .dataframe tbody tr th:only-of-type {\n",
       "        vertical-align: middle;\n",
       "    }\n",
       "\n",
       "    .dataframe tbody tr th {\n",
       "        vertical-align: top;\n",
       "    }\n",
       "\n",
       "    .dataframe thead th {\n",
       "        text-align: right;\n",
       "    }\n",
       "</style>\n",
       "<table border=\"1\" class=\"dataframe\">\n",
       "  <thead>\n",
       "    <tr style=\"text-align: right;\">\n",
       "      <th></th>\n",
       "      <th>PC1</th>\n",
       "      <th>PC2</th>\n",
       "      <th>PC3</th>\n",
       "      <th>cluster_labels</th>\n",
       "      <th>kmeans_labels</th>\n",
       "    </tr>\n",
       "  </thead>\n",
       "  <tbody>\n",
       "    <tr>\n",
       "      <th>Andalucía</th>\n",
       "      <td>-0.941794</td>\n",
       "      <td>-0.615124</td>\n",
       "      <td>1.555342</td>\n",
       "      <td>0</td>\n",
       "      <td>1</td>\n",
       "    </tr>\n",
       "    <tr>\n",
       "      <th>Aragón</th>\n",
       "      <td>-1.228247</td>\n",
       "      <td>-1.044220</td>\n",
       "      <td>-0.952444</td>\n",
       "      <td>0</td>\n",
       "      <td>1</td>\n",
       "    </tr>\n",
       "    <tr>\n",
       "      <th>Asturias</th>\n",
       "      <td>-0.259449</td>\n",
       "      <td>-0.983908</td>\n",
       "      <td>2.249509</td>\n",
       "      <td>0</td>\n",
       "      <td>1</td>\n",
       "    </tr>\n",
       "    <tr>\n",
       "      <th>Baleares</th>\n",
       "      <td>1.749670</td>\n",
       "      <td>-0.128626</td>\n",
       "      <td>-0.828629</td>\n",
       "      <td>1</td>\n",
       "      <td>0</td>\n",
       "    </tr>\n",
       "    <tr>\n",
       "      <th>Canarias</th>\n",
       "      <td>0.912316</td>\n",
       "      <td>0.390499</td>\n",
       "      <td>0.322893</td>\n",
       "      <td>1</td>\n",
       "      <td>0</td>\n",
       "    </tr>\n",
       "    <tr>\n",
       "      <th>Cantabria</th>\n",
       "      <td>-0.689945</td>\n",
       "      <td>-1.441977</td>\n",
       "      <td>0.372566</td>\n",
       "      <td>0</td>\n",
       "      <td>1</td>\n",
       "    </tr>\n",
       "    <tr>\n",
       "      <th>CastillaLeón</th>\n",
       "      <td>-1.749074</td>\n",
       "      <td>-1.268669</td>\n",
       "      <td>-0.654973</td>\n",
       "      <td>0</td>\n",
       "      <td>1</td>\n",
       "    </tr>\n",
       "    <tr>\n",
       "      <th>CastillaMancha</th>\n",
       "      <td>-0.702274</td>\n",
       "      <td>-1.416667</td>\n",
       "      <td>-1.084032</td>\n",
       "      <td>0</td>\n",
       "      <td>1</td>\n",
       "    </tr>\n",
       "    <tr>\n",
       "      <th>Extremadura</th>\n",
       "      <td>-1.277358</td>\n",
       "      <td>-1.422263</td>\n",
       "      <td>1.722300</td>\n",
       "      <td>0</td>\n",
       "      <td>1</td>\n",
       "    </tr>\n",
       "    <tr>\n",
       "      <th>Galicia</th>\n",
       "      <td>-1.220324</td>\n",
       "      <td>0.775784</td>\n",
       "      <td>1.389449</td>\n",
       "      <td>0</td>\n",
       "      <td>1</td>\n",
       "    </tr>\n",
       "    <tr>\n",
       "      <th>Madrid</th>\n",
       "      <td>1.746801</td>\n",
       "      <td>-0.597089</td>\n",
       "      <td>-0.946802</td>\n",
       "      <td>1</td>\n",
       "      <td>0</td>\n",
       "    </tr>\n",
       "    <tr>\n",
       "      <th>Murcia</th>\n",
       "      <td>1.415709</td>\n",
       "      <td>-0.541767</td>\n",
       "      <td>-0.379255</td>\n",
       "      <td>1</td>\n",
       "      <td>0</td>\n",
       "    </tr>\n",
       "    <tr>\n",
       "      <th>Navarra</th>\n",
       "      <td>-1.104460</td>\n",
       "      <td>-0.320742</td>\n",
       "      <td>0.135468</td>\n",
       "      <td>0</td>\n",
       "      <td>1</td>\n",
       "    </tr>\n",
       "    <tr>\n",
       "      <th>Rioja</th>\n",
       "      <td>-1.146844</td>\n",
       "      <td>-2.248211</td>\n",
       "      <td>-2.009970</td>\n",
       "      <td>0</td>\n",
       "      <td>1</td>\n",
       "    </tr>\n",
       "  </tbody>\n",
       "</table>\n",
       "</div>"
      ],
      "text/plain": [
       "                     PC1       PC2       PC3  cluster_labels  kmeans_labels\n",
       "Andalucía      -0.941794 -0.615124  1.555342               0              1\n",
       "Aragón         -1.228247 -1.044220 -0.952444               0              1\n",
       "Asturias       -0.259449 -0.983908  2.249509               0              1\n",
       "Baleares        1.749670 -0.128626 -0.828629               1              0\n",
       "Canarias        0.912316  0.390499  0.322893               1              0\n",
       "Cantabria      -0.689945 -1.441977  0.372566               0              1\n",
       "CastillaLeón   -1.749074 -1.268669 -0.654973               0              1\n",
       "CastillaMancha -0.702274 -1.416667 -1.084032               0              1\n",
       "Extremadura    -1.277358 -1.422263  1.722300               0              1\n",
       "Galicia        -1.220324  0.775784  1.389449               0              1\n",
       "Madrid          1.746801 -0.597089 -0.946802               1              0\n",
       "Murcia          1.415709 -0.541767 -0.379255               1              0\n",
       "Navarra        -1.104460 -0.320742  0.135468               0              1\n",
       "Rioja          -1.146844 -2.248211 -2.009970               0              1"
      ]
     },
     "execution_count": 59,
     "metadata": {},
     "output_type": "execute_result"
    }
   ],
   "source": [
    "#Calculamos las diferencias entre ambos\n",
    "CCAA_deff[CCAA_deff.cluster_labels != CCAA_deff.kmeans_labels]\n"
   ]
  },
  {
   "cell_type": "code",
   "execution_count": 60,
   "id": "55c28867",
   "metadata": {},
   "outputs": [
    {
     "data": {
      "text/html": [
       "<div>\n",
       "<style scoped>\n",
       "    .dataframe tbody tr th:only-of-type {\n",
       "        vertical-align: middle;\n",
       "    }\n",
       "\n",
       "    .dataframe tbody tr th {\n",
       "        vertical-align: top;\n",
       "    }\n",
       "\n",
       "    .dataframe thead th {\n",
       "        text-align: right;\n",
       "    }\n",
       "</style>\n",
       "<table border=\"1\" class=\"dataframe\">\n",
       "  <thead>\n",
       "    <tr style=\"text-align: right;\">\n",
       "      <th>kmeans_labels</th>\n",
       "      <th>0</th>\n",
       "      <th>1</th>\n",
       "      <th>2</th>\n",
       "      <th>3</th>\n",
       "    </tr>\n",
       "    <tr>\n",
       "      <th>cluster_labels</th>\n",
       "      <th></th>\n",
       "      <th></th>\n",
       "      <th></th>\n",
       "      <th></th>\n",
       "    </tr>\n",
       "  </thead>\n",
       "  <tbody>\n",
       "    <tr>\n",
       "      <th>0</th>\n",
       "      <td>1</td>\n",
       "      <td>10</td>\n",
       "      <td>0</td>\n",
       "      <td>0</td>\n",
       "    </tr>\n",
       "    <tr>\n",
       "      <th>1</th>\n",
       "      <td>4</td>\n",
       "      <td>0</td>\n",
       "      <td>0</td>\n",
       "      <td>0</td>\n",
       "    </tr>\n",
       "    <tr>\n",
       "      <th>2</th>\n",
       "      <td>0</td>\n",
       "      <td>0</td>\n",
       "      <td>2</td>\n",
       "      <td>0</td>\n",
       "    </tr>\n",
       "    <tr>\n",
       "      <th>3</th>\n",
       "      <td>0</td>\n",
       "      <td>0</td>\n",
       "      <td>0</td>\n",
       "      <td>2</td>\n",
       "    </tr>\n",
       "  </tbody>\n",
       "</table>\n",
       "</div>"
      ],
      "text/plain": [
       "kmeans_labels   0   1  2  3\n",
       "cluster_labels             \n",
       "0               1  10  0  0\n",
       "1               4   0  0  0\n",
       "2               0   0  2  0\n",
       "3               0   0  0  2"
      ]
     },
     "execution_count": 60,
     "metadata": {},
     "output_type": "execute_result"
    }
   ],
   "source": [
    "#Establecemos correspondencias entre ambos cluster mediante matriz de confusión\n",
    "pd.crosstab(CCAA_deff.cluster_labels,CCAA_deff.kmeans_labels)"
   ]
  },
  {
   "cell_type": "markdown",
   "id": "7c1e9b67",
   "metadata": {},
   "source": [
    "Los elementos en la diagonal principal (de la esquina superior izquierda a la esquina inferior derecha) representan las observaciones que fueron correctamente asignadas al mismo clúster por ambos métodos.\n",
    "Los valores fuera de la diagonal principal indican las observaciones que fueron asignadas de manera diferente por los dos métodos.\n",
    "Se puede observar que hay ciertas discrepancias entre los métodos. Por ejemplo, en la fila 0, todas las observaciones según `cluster_labels` se asignaron al clúster 1 según `kmeans_labels`. Del mismo modo, en la fila 1, todas las observaciones según `cluster_labels` se asignaron al clúster 0 según `kmeans_labels`.\n"
   ]
  }
 ],
 "metadata": {
  "kernelspec": {
   "display_name": "Python 3 (ipykernel)",
   "language": "python",
   "name": "python3"
  },
  "language_info": {
   "codemirror_mode": {
    "name": "ipython",
    "version": 3
   },
   "file_extension": ".py",
   "mimetype": "text/x-python",
   "name": "python",
   "nbconvert_exporter": "python",
   "pygments_lexer": "ipython3",
   "version": "3.10.7"
  },
  "widgets": {
   "application/vnd.jupyter.widget-state+json": {
    "state": {},
    "version_major": 2,
    "version_minor": 0
   }
  }
 },
 "nbformat": 4,
 "nbformat_minor": 5
}
